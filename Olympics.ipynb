{
 "cells": [
  {
   "cell_type": "markdown",
   "metadata": {},
   "source": [
    "# ĐỒ ÁN THỰC HÀNH: LẬP TRÌNH CHO KHOA HỌC DỮ LIỆU\n",
    "\n",
    "- Môn học: Lập Trình Cho Khoa Học Dữ Liệu\n",
    "- Nhóm: 6"
   ]
  },
  {
   "cell_type": "markdown",
   "metadata": {},
   "source": [
    "## 1. Thu thập dữ liệu"
   ]
  },
  {
   "cell_type": "markdown",
   "metadata": {},
   "source": [
    "Đây là bộ dữ liệu lịch sử về Thế vận hội Olympic hiện đại, bao gồm tất cả các Thế vận hội từ Athens 1896 đến Rio 2016.\n",
    "Lưu ý rằng Thế vận hội Mùa đông và Mùa hè được tổ chức trong cùng một năm cho đến năm 1992. Sau đó, họ mới xen kẽ chúng (2 năm/lần): Thế vận hội Mùa đông diễn ra năm 1994, sau đó là Mùa hè năm 1996, rồi Mùa đông năm 1998, v.v. . Một sai lầm phổ biến mà mọi người mắc phải khi phân tích dữ liệu này là cho rằng Thế vận hội Mùa hè và Mùa đông luôn luôn được sắp xếp xen kẽ."
   ]
  },
  {
   "cell_type": "markdown",
   "metadata": {},
   "source": [
    "Link dataset: `https://www.kaggle.com/datasets/heesoo37/120-years-of-olympic-history-athletes-and-results`"
   ]
  },
  {
   "cell_type": "markdown",
   "metadata": {},
   "source": [
    "License: CC0: Public Domain (không có bản quyền, cho phép mọi người có thể sao chép, sửa đổi, phân phối hay ngay cả sử dụng với mục đích thương mại mà không cần phải xin phép)."
   ]
  },
  {
   "cell_type": "markdown",
   "metadata": {},
   "source": [
    "Cách thu thập dữ liệu: Tác giả đã sử dụng R để cào dữ liệu từ website `www.sports-reference.com` vào tháng 5/2018. Dữ liệu của website là kết quả 1 cuộc nghiên cứu quy mô lớn của 1 nhóm những người đam mê lịch sử Thế vận hội và những người tự xưng mình là 'nhà thống kê'."
   ]
  },
  {
   "cell_type": "markdown",
   "metadata": {},
   "source": [
    "## 2. Khám phá dữ liệu"
   ]
  },
  {
   "cell_type": "markdown",
   "metadata": {},
   "source": [
    "### Import các thư viện"
   ]
  },
  {
   "cell_type": "code",
   "execution_count": 1,
   "metadata": {},
   "outputs": [
    {
     "data": {
      "text/plain": [
       "'C:\\\\Users\\\\ParaboY\\\\anaconda3\\\\python.exe'"
      ]
     },
     "execution_count": 1,
     "metadata": {},
     "output_type": "execute_result"
    }
   ],
   "source": [
    "import sys\n",
    "sys.executable"
   ]
  },
  {
   "cell_type": "code",
   "execution_count": 2,
   "metadata": {},
   "outputs": [],
   "source": [
    "import pandas as pd\n",
    "import matplotlib.pyplot as plt\n",
    "import numpy as np\n",
    "import seaborn as sns\n",
    "sns.set_theme()\n",
    "\n",
    "# remove warnings\n",
    "import warnings\n",
    "warnings.simplefilter('ignore')\n",
    "\n",
    "#Nếu chưa có pycountry thì bỏ dấu # ở dưới rồi run để install\n",
    "#!pip install pycountry\n",
    "import pycountry"
   ]
  },
  {
   "cell_type": "markdown",
   "metadata": {},
   "source": [
    "### Đọc dữ liệu từ file csv vào dataframe"
   ]
  },
  {
   "cell_type": "markdown",
   "metadata": {},
   "source": [
    "File `athlete_events.csv` cho biết những thông tin về các vận động viên đã tham gia Olympics."
   ]
  },
  {
   "cell_type": "code",
   "execution_count": 3,
   "metadata": {},
   "outputs": [
    {
     "data": {
      "text/html": [
       "<div>\n",
       "<style scoped>\n",
       "    .dataframe tbody tr th:only-of-type {\n",
       "        vertical-align: middle;\n",
       "    }\n",
       "\n",
       "    .dataframe tbody tr th {\n",
       "        vertical-align: top;\n",
       "    }\n",
       "\n",
       "    .dataframe thead th {\n",
       "        text-align: right;\n",
       "    }\n",
       "</style>\n",
       "<table border=\"1\" class=\"dataframe\">\n",
       "  <thead>\n",
       "    <tr style=\"text-align: right;\">\n",
       "      <th></th>\n",
       "      <th>ID</th>\n",
       "      <th>Name</th>\n",
       "      <th>Sex</th>\n",
       "      <th>Age</th>\n",
       "      <th>Height</th>\n",
       "      <th>Weight</th>\n",
       "      <th>Team</th>\n",
       "      <th>NOC</th>\n",
       "      <th>Games</th>\n",
       "      <th>Year</th>\n",
       "      <th>Season</th>\n",
       "      <th>City</th>\n",
       "      <th>Sport</th>\n",
       "      <th>Event</th>\n",
       "      <th>Medal</th>\n",
       "    </tr>\n",
       "  </thead>\n",
       "  <tbody>\n",
       "    <tr>\n",
       "      <th>0</th>\n",
       "      <td>1</td>\n",
       "      <td>A Dijiang</td>\n",
       "      <td>M</td>\n",
       "      <td>24.0</td>\n",
       "      <td>180.0</td>\n",
       "      <td>80.0</td>\n",
       "      <td>China</td>\n",
       "      <td>CHN</td>\n",
       "      <td>1992 Summer</td>\n",
       "      <td>1992</td>\n",
       "      <td>Summer</td>\n",
       "      <td>Barcelona</td>\n",
       "      <td>Basketball</td>\n",
       "      <td>Basketball Men's Basketball</td>\n",
       "      <td>NaN</td>\n",
       "    </tr>\n",
       "    <tr>\n",
       "      <th>1</th>\n",
       "      <td>2</td>\n",
       "      <td>A Lamusi</td>\n",
       "      <td>M</td>\n",
       "      <td>23.0</td>\n",
       "      <td>170.0</td>\n",
       "      <td>60.0</td>\n",
       "      <td>China</td>\n",
       "      <td>CHN</td>\n",
       "      <td>2012 Summer</td>\n",
       "      <td>2012</td>\n",
       "      <td>Summer</td>\n",
       "      <td>London</td>\n",
       "      <td>Judo</td>\n",
       "      <td>Judo Men's Extra-Lightweight</td>\n",
       "      <td>NaN</td>\n",
       "    </tr>\n",
       "    <tr>\n",
       "      <th>2</th>\n",
       "      <td>3</td>\n",
       "      <td>Gunnar Nielsen Aaby</td>\n",
       "      <td>M</td>\n",
       "      <td>24.0</td>\n",
       "      <td>NaN</td>\n",
       "      <td>NaN</td>\n",
       "      <td>Denmark</td>\n",
       "      <td>DEN</td>\n",
       "      <td>1920 Summer</td>\n",
       "      <td>1920</td>\n",
       "      <td>Summer</td>\n",
       "      <td>Antwerpen</td>\n",
       "      <td>Football</td>\n",
       "      <td>Football Men's Football</td>\n",
       "      <td>NaN</td>\n",
       "    </tr>\n",
       "    <tr>\n",
       "      <th>3</th>\n",
       "      <td>4</td>\n",
       "      <td>Edgar Lindenau Aabye</td>\n",
       "      <td>M</td>\n",
       "      <td>34.0</td>\n",
       "      <td>NaN</td>\n",
       "      <td>NaN</td>\n",
       "      <td>Denmark/Sweden</td>\n",
       "      <td>DEN</td>\n",
       "      <td>1900 Summer</td>\n",
       "      <td>1900</td>\n",
       "      <td>Summer</td>\n",
       "      <td>Paris</td>\n",
       "      <td>Tug-Of-War</td>\n",
       "      <td>Tug-Of-War Men's Tug-Of-War</td>\n",
       "      <td>Gold</td>\n",
       "    </tr>\n",
       "    <tr>\n",
       "      <th>4</th>\n",
       "      <td>5</td>\n",
       "      <td>Christine Jacoba Aaftink</td>\n",
       "      <td>F</td>\n",
       "      <td>21.0</td>\n",
       "      <td>185.0</td>\n",
       "      <td>82.0</td>\n",
       "      <td>Netherlands</td>\n",
       "      <td>NED</td>\n",
       "      <td>1988 Winter</td>\n",
       "      <td>1988</td>\n",
       "      <td>Winter</td>\n",
       "      <td>Calgary</td>\n",
       "      <td>Speed Skating</td>\n",
       "      <td>Speed Skating Women's 500 metres</td>\n",
       "      <td>NaN</td>\n",
       "    </tr>\n",
       "  </tbody>\n",
       "</table>\n",
       "</div>"
      ],
      "text/plain": [
       "   ID                      Name Sex   Age  Height  Weight            Team  \\\n",
       "0   1                 A Dijiang   M  24.0   180.0    80.0           China   \n",
       "1   2                  A Lamusi   M  23.0   170.0    60.0           China   \n",
       "2   3       Gunnar Nielsen Aaby   M  24.0     NaN     NaN         Denmark   \n",
       "3   4      Edgar Lindenau Aabye   M  34.0     NaN     NaN  Denmark/Sweden   \n",
       "4   5  Christine Jacoba Aaftink   F  21.0   185.0    82.0     Netherlands   \n",
       "\n",
       "   NOC        Games  Year  Season       City          Sport  \\\n",
       "0  CHN  1992 Summer  1992  Summer  Barcelona     Basketball   \n",
       "1  CHN  2012 Summer  2012  Summer     London           Judo   \n",
       "2  DEN  1920 Summer  1920  Summer  Antwerpen       Football   \n",
       "3  DEN  1900 Summer  1900  Summer      Paris     Tug-Of-War   \n",
       "4  NED  1988 Winter  1988  Winter    Calgary  Speed Skating   \n",
       "\n",
       "                              Event Medal  \n",
       "0       Basketball Men's Basketball   NaN  \n",
       "1      Judo Men's Extra-Lightweight   NaN  \n",
       "2           Football Men's Football   NaN  \n",
       "3       Tug-Of-War Men's Tug-Of-War  Gold  \n",
       "4  Speed Skating Women's 500 metres   NaN  "
      ]
     },
     "execution_count": 3,
     "metadata": {},
     "output_type": "execute_result"
    }
   ],
   "source": [
    "ethlete_df = pd.read_csv('athlete_events.csv')\n",
    "ethlete_df.head()"
   ]
  },
  {
   "cell_type": "markdown",
   "metadata": {},
   "source": [
    "Còn file `noc_regions.csv` cho biết mỗi mã NOC (National Olympic Committees - Đoàn đại biểu Uỷ ban Olympic quốc gia) sẽ tương ứng với vùng lãnh thổ nào và những ghi chú (nếu có)."
   ]
  },
  {
   "cell_type": "code",
   "execution_count": 4,
   "metadata": {},
   "outputs": [
    {
     "data": {
      "text/html": [
       "<div>\n",
       "<style scoped>\n",
       "    .dataframe tbody tr th:only-of-type {\n",
       "        vertical-align: middle;\n",
       "    }\n",
       "\n",
       "    .dataframe tbody tr th {\n",
       "        vertical-align: top;\n",
       "    }\n",
       "\n",
       "    .dataframe thead th {\n",
       "        text-align: right;\n",
       "    }\n",
       "</style>\n",
       "<table border=\"1\" class=\"dataframe\">\n",
       "  <thead>\n",
       "    <tr style=\"text-align: right;\">\n",
       "      <th></th>\n",
       "      <th>NOC</th>\n",
       "      <th>region</th>\n",
       "      <th>notes</th>\n",
       "    </tr>\n",
       "  </thead>\n",
       "  <tbody>\n",
       "    <tr>\n",
       "      <th>0</th>\n",
       "      <td>AFG</td>\n",
       "      <td>Afghanistan</td>\n",
       "      <td>NaN</td>\n",
       "    </tr>\n",
       "    <tr>\n",
       "      <th>1</th>\n",
       "      <td>AHO</td>\n",
       "      <td>Curacao</td>\n",
       "      <td>Netherlands Antilles</td>\n",
       "    </tr>\n",
       "    <tr>\n",
       "      <th>2</th>\n",
       "      <td>ALB</td>\n",
       "      <td>Albania</td>\n",
       "      <td>NaN</td>\n",
       "    </tr>\n",
       "    <tr>\n",
       "      <th>3</th>\n",
       "      <td>ALG</td>\n",
       "      <td>Algeria</td>\n",
       "      <td>NaN</td>\n",
       "    </tr>\n",
       "    <tr>\n",
       "      <th>4</th>\n",
       "      <td>AND</td>\n",
       "      <td>Andorra</td>\n",
       "      <td>NaN</td>\n",
       "    </tr>\n",
       "  </tbody>\n",
       "</table>\n",
       "</div>"
      ],
      "text/plain": [
       "   NOC       region                 notes\n",
       "0  AFG  Afghanistan                   NaN\n",
       "1  AHO      Curacao  Netherlands Antilles\n",
       "2  ALB      Albania                   NaN\n",
       "3  ALG      Algeria                   NaN\n",
       "4  AND      Andorra                   NaN"
      ]
     },
     "execution_count": 4,
     "metadata": {},
     "output_type": "execute_result"
    }
   ],
   "source": [
    "noc_df = pd.read_csv('noc_regions.csv')\n",
    "noc_df.head()"
   ]
  },
  {
   "cell_type": "markdown",
   "metadata": {},
   "source": [
    "Để thuận lợi cho việc thao tác với dữ liệu, ta sẽ tiến hành gộp 2 dataframe thông qua cột chung là NOC:"
   ]
  },
  {
   "cell_type": "code",
   "execution_count": 5,
   "metadata": {},
   "outputs": [
    {
     "data": {
      "text/plain": [
       "(271116, 17)"
      ]
     },
     "execution_count": 5,
     "metadata": {},
     "output_type": "execute_result"
    }
   ],
   "source": [
    "ethlete_df = ethlete_df.merge(noc_df, on = 'NOC', how = 'left')\n",
    "ethlete_df.shape"
   ]
  },
  {
   "cell_type": "markdown",
   "metadata": {},
   "source": [
    "### Dữ liệu gồm có bao nhiêu dòng và bao nhiêu cột?"
   ]
  },
  {
   "cell_type": "markdown",
   "metadata": {},
   "source": [
    "Tính số dòng và số cột và lần lượt lưu vào 2 biến là `num_rows` và `num_cols`. "
   ]
  },
  {
   "cell_type": "code",
   "execution_count": 6,
   "metadata": {},
   "outputs": [
    {
     "name": "stdout",
     "output_type": "stream",
     "text": [
      "Num rows:  271116\n",
      "Num cols:  17\n"
     ]
    }
   ],
   "source": [
    "num_rows, num_cols = ethlete_df.shape\n",
    "print(\"Num rows: \", num_rows)\n",
    "print(\"Num cols: \", num_cols)"
   ]
  },
  {
   "cell_type": "markdown",
   "metadata": {},
   "source": [
    "### Mỗi dòng có ý nghĩa gì? Có vấn đề các dòng có ý nghĩa khác nhau không?"
   ]
  },
  {
   "cell_type": "markdown",
   "metadata": {},
   "source": [
    "Theo mô tả dữ liệu của trang web `www.sports-reference.com` và theo quan sát sơ bộ về dữ liệu thì một dòng cho biết thông tin của một vận động viên tham gia Thế vận hội Mùa đông và Mùa hè."
   ]
  },
  {
   "cell_type": "markdown",
   "metadata": {},
   "source": [
    "### Dữ liệu có các dòng bị lặp không? Nếu có, xử lý những dòng bị lặp"
   ]
  },
  {
   "cell_type": "markdown",
   "metadata": {},
   "source": [
    "Ta sẽ kiểm tra vụ này và lưu kết quả vào biến `have_duplicated_rows`. Biến này sẽ có giá trị True nếu dữ liệu có các dòng bị lặp và có giá trị False nếu ngược."
   ]
  },
  {
   "cell_type": "code",
   "execution_count": 7,
   "metadata": {},
   "outputs": [
    {
     "data": {
      "text/plain": [
       "True"
      ]
     },
     "execution_count": 7,
     "metadata": {},
     "output_type": "execute_result"
    }
   ],
   "source": [
    "have_duplicated_rows = ethlete_df.duplicated().sum() > 0\n",
    "have_duplicated_rows"
   ]
  },
  {
   "cell_type": "markdown",
   "metadata": {},
   "source": [
    "Kết quả kiểm tra cho thấy dữ liệu có dòng bị trùng lắp, do đó ta cần phải loại bỏ những dòng lặp đó đi."
   ]
  },
  {
   "cell_type": "code",
   "execution_count": 8,
   "metadata": {},
   "outputs": [
    {
     "data": {
      "text/plain": [
       "0"
      ]
     },
     "execution_count": 8,
     "metadata": {},
     "output_type": "execute_result"
    }
   ],
   "source": [
    "ethlete_df.drop_duplicates(inplace = True)\n",
    "ethlete_df.duplicated().sum()"
   ]
  },
  {
   "cell_type": "markdown",
   "metadata": {},
   "source": [
    "### Mỗi cột có ý nghĩa gì?"
   ]
  },
  {
   "cell_type": "markdown",
   "metadata": {},
   "source": [
    "Dưới đây là phần mô tả của trang web `www.sports-reference.com` về các cột trong file \"ethlete_event.csv\":\n",
    "- **ID**: Chỉ số duy nhất cho mỗi vận động viên.\n",
    "- **Name**: Tên của vận động viên tham dự.\n",
    "- **Sex**: Giới tính của vận động viên tham dự.\n",
    "- **Age**: Tuổi của vận động viên tham dự .\n",
    "- **Weight**: Cân nặng của vận động viên tham dự.\n",
    "- **Team**: Tên đội của vận động viên tham dự.\n",
    "- **NOC**: Ủy ban Olympic quốc gia.\n",
    "- **Games**: Tên của Thế vận hội vận động viên tham dự.\n",
    "- **Year**: Năm tổ chức Thế vận hội vận.\n",
    "- **Season**: Mùa tổ chức Thế vận hội vận.\n",
    "- **City**: Thành phố tổ chức Thế vận hội vận.\n",
    "- **Sport**: Môn thi đấu của vận động viên.\n",
    "- **Event**: Nội dung thi đấu vận động viên.\n",
    "- **Medal**: Huy chương vận động viên đạt được.\n",
    "- **region**: Quốc tịch của vận động viên.\n",
    "- **notes**: Ghi chú"
   ]
  },
  {
   "cell_type": "markdown",
   "metadata": {},
   "source": [
    "### Loại bỏ các cột không cần thiết, cột chứa nhiều dữ liệu trống."
   ]
  },
  {
   "cell_type": "markdown",
   "metadata": {},
   "source": [
    "Ta tính tỉ lệ phần trâm các giá trị bị thiếu trong các cột để chọn ra những cột có tỉ lệ giá trị bị thiếu lớn và loại bỏ."
   ]
  },
  {
   "cell_type": "code",
   "execution_count": 9,
   "metadata": {},
   "outputs": [
    {
     "data": {
      "text/plain": [
       "{'ID': 0.0,\n",
       " 'Name': 0.0,\n",
       " 'Sex': 0.0,\n",
       " 'Age': 0.03435798698711991,\n",
       " 'Height': 0.21693297333982503,\n",
       " 'Weight': 0.22693976010268668,\n",
       " 'Team': 0.0,\n",
       " 'NOC': 0.0,\n",
       " 'Games': 0.0,\n",
       " 'Year': 0.0,\n",
       " 'Season': 0.0,\n",
       " 'City': 0.0,\n",
       " 'Sport': 0.0,\n",
       " 'Event': 0.0,\n",
       " 'Medal': 0.8481941309255079,\n",
       " 'region': 0.0013647294884846339,\n",
       " 'notes': 0.9763200991457531}"
      ]
     },
     "execution_count": 9,
     "metadata": {},
     "output_type": "execute_result"
    }
   ],
   "source": [
    "per_null = dict(ethlete_df.isnull().sum() / num_rows)\n",
    "per_null"
   ]
  },
  {
   "cell_type": "markdown",
   "metadata": {},
   "source": [
    "Ta thấy cột **notes** có tỉ lệ giá trị thiếu rất lớn và cột này cũng thật sự không cần thiết trong việc phân tích dữ liệu nên ta sẽ bỏ nó."
   ]
  },
  {
   "cell_type": "code",
   "execution_count": 10,
   "metadata": {},
   "outputs": [
    {
     "name": "stdout",
     "output_type": "stream",
     "text": [
      "Num cols:  16\n"
     ]
    },
    {
     "data": {
      "text/plain": [
       "Index(['ID', 'Name', 'Sex', 'Age', 'Height', 'Weight', 'Team', 'NOC', 'Games',\n",
       "       'Year', 'Season', 'City', 'Sport', 'Event', 'Medal', 'region'],\n",
       "      dtype='object')"
      ]
     },
     "execution_count": 10,
     "metadata": {},
     "output_type": "execute_result"
    }
   ],
   "source": [
    "ethlete_df.drop('notes', axis = 1, inplace = True)\n",
    "num_cols = ethlete_df.shape[1]\n",
    "print(\"Num cols: \", num_cols)\n",
    "ethlete_df.columns"
   ]
  },
  {
   "cell_type": "markdown",
   "metadata": {},
   "source": [
    "Để dễ dàng hơn trong việc tính số lượng huy chương, ta sẽ tạo thêm cột isWon để lưu giá trị xem vận động viên có giành được huy chương hay không, nếu có thì `isWon` sẽ có giá trị là 1, ngược lại là 0."
   ]
  },
  {
   "cell_type": "code",
   "execution_count": 11,
   "metadata": {},
   "outputs": [],
   "source": [
    "ethlete_df['isWon'] = np.where(ethlete_df['Medal'].isna(), 0, 1)\n",
    "ethlete_df['isWon'] = ethlete_df['isWon'].astype(bool)"
   ]
  },
  {
   "cell_type": "markdown",
   "metadata": {},
   "source": [
    "### Mỗi cột hiện đang có kiểu dữ liệu gì? Có cột nào có kiểu dữ liệu chưa phù hợp để có thể xử lý tiếp không?"
   ]
  },
  {
   "cell_type": "markdown",
   "metadata": {},
   "source": [
    "Dưới đây là kiểu dữ liệu của mỗi cột trong `ethlete_df` :"
   ]
  },
  {
   "cell_type": "code",
   "execution_count": 12,
   "metadata": {},
   "outputs": [
    {
     "data": {
      "text/plain": [
       "ID          int64\n",
       "Name       object\n",
       "Sex        object\n",
       "Age       float64\n",
       "Height    float64\n",
       "Weight    float64\n",
       "Team       object\n",
       "NOC        object\n",
       "Games      object\n",
       "Year        int64\n",
       "Season     object\n",
       "City       object\n",
       "Sport      object\n",
       "Event      object\n",
       "Medal      object\n",
       "region     object\n",
       "isWon        bool\n",
       "dtype: object"
      ]
     },
     "execution_count": 12,
     "metadata": {},
     "output_type": "execute_result"
    }
   ],
   "source": [
    "ethlete_df.dtypes"
   ]
  },
  {
   "cell_type": "markdown",
   "metadata": {},
   "source": [
    "### Với mỗi cột có kiểu dữ liệu dạng numeric, các giá trị được phân bố như thế nào?"
   ]
  },
  {
   "cell_type": "markdown",
   "metadata": {},
   "source": [
    "Ngoài cột ID được đặt thành index cho dataframe, hiện có 3 cột có vẻ là thuộc nhóm numeric: \"Age\", \"Height\", \"Weight\". \n",
    "\n",
    "Với mỗi cột numeric bạn sẽ tính tỉ lệ % giá trị thiếu (từ 0 đến 100), min, max. Ta lưu kết quả vào dataframe `nume_col_profiles_df`. Dataframe này có 3 dòng là \"missing_ratio\", \"min\", \"max\"; và có 3 cột là \"Age\", \"Height\", \"Weight\".   "
   ]
  },
  {
   "cell_type": "code",
   "execution_count": 13,
   "metadata": {},
   "outputs": [
    {
     "data": {
      "text/html": [
       "<div>\n",
       "<style scoped>\n",
       "    .dataframe tbody tr th:only-of-type {\n",
       "        vertical-align: middle;\n",
       "    }\n",
       "\n",
       "    .dataframe tbody tr th {\n",
       "        vertical-align: top;\n",
       "    }\n",
       "\n",
       "    .dataframe thead th {\n",
       "        text-align: right;\n",
       "    }\n",
       "</style>\n",
       "<table border=\"1\" class=\"dataframe\">\n",
       "  <thead>\n",
       "    <tr style=\"text-align: right;\">\n",
       "      <th></th>\n",
       "      <th>Age</th>\n",
       "      <th>Height</th>\n",
       "      <th>Weight</th>\n",
       "    </tr>\n",
       "  </thead>\n",
       "  <tbody>\n",
       "    <tr>\n",
       "      <th>missing_ratio</th>\n",
       "      <td>3.5</td>\n",
       "      <td>21.8</td>\n",
       "      <td>22.811</td>\n",
       "    </tr>\n",
       "    <tr>\n",
       "      <th>min</th>\n",
       "      <td>10.0</td>\n",
       "      <td>127.0</td>\n",
       "      <td>25.000</td>\n",
       "    </tr>\n",
       "    <tr>\n",
       "      <th>max</th>\n",
       "      <td>97.0</td>\n",
       "      <td>226.0</td>\n",
       "      <td>214.000</td>\n",
       "    </tr>\n",
       "  </tbody>\n",
       "</table>\n",
       "</div>"
      ],
      "text/plain": [
       "                Age  Height   Weight\n",
       "missing_ratio   3.5    21.8   22.811\n",
       "min            10.0   127.0   25.000\n",
       "max            97.0   226.0  214.000"
      ]
     },
     "metadata": {},
     "output_type": "display_data"
    }
   ],
   "source": [
    "nume_col_profiles_df = {\n",
    "    'Age':[(ethlete_df['Age'].isna().sum() / len(ethlete_df) * 100).round(1),\n",
    "           ethlete_df['Age'].min(),\n",
    "           ethlete_df['Age'].max()],\n",
    "    'Height':[round((ethlete_df['Height'].isna().sum() / len(ethlete_df) * 100), 1),\n",
    "              ethlete_df['Height'].min() * 1.0,\n",
    "              ethlete_df['Height'].max() * 1.0],\n",
    "    'Weight':[round((ethlete_df['Weight'].isna().sum() / len(ethlete_df) * 100), 3),\n",
    "              round(ethlete_df['Weight'].min(), 3),\n",
    "              round(ethlete_df['Weight'].max(), 3)],\n",
    "    }\n",
    "\n",
    "nume_col_profiles_df = pd.DataFrame(nume_col_profiles_df, index = ['missing_ratio', 'min', 'max'])\n",
    "display(nume_col_profiles_df)"
   ]
  },
  {
   "cell_type": "markdown",
   "metadata": {},
   "source": [
    "- *Nhìn vào độ tuổi lớn nhất và nhỏ nhất, ta nhận thấy có một vài vận động viên rất 'đặc biệt'.*\n",
    "- *Có những vận động viên có thể đạt đến chiều cao và cân nặng kỷ lục !*"
   ]
  },
  {
   "cell_type": "markdown",
   "metadata": {},
   "source": [
    "Số lượng các quốc gia đã tham dự Olympics từ trước đến nay:"
   ]
  },
  {
   "cell_type": "code",
   "execution_count": 14,
   "metadata": {},
   "outputs": [
    {
     "data": {
      "text/plain": [
       "205"
      ]
     },
     "execution_count": 14,
     "metadata": {},
     "output_type": "execute_result"
    }
   ],
   "source": [
    "num_country = ethlete_df['region'].nunique()\n",
    "num_country"
   ]
  },
  {
   "cell_type": "markdown",
   "metadata": {},
   "source": [
    "## 3. Đưa ra các câu hỏi có ý nghĩa cần trả lời"
   ]
  },
  {
   "cell_type": "markdown",
   "metadata": {},
   "source": [
    "Sau khi đã khám phá dữ liệu và hiểu hơn về dữ liệu, ta thấy có một số câu hỏi có thể được trả lời bằng dữ liệu:\n",
    "- Top 5 vận động viên tham gia nhiều năm Thế vận hội nhất?\n",
    "    \n",
    "        Ý nghĩa: với câu hỏi trên, ta biết được những vận động viên xuất sắc nhất được quốc gia mình nhiều năm cử đi đại \n",
    "        diện tham gia Thế vận hội. Có thể, ban tổ chức sẽ có một giải thưởng là \"Tuyên dương những vận động viên có số lần \n",
    "        tham gia nhiều nhất lịch sử\" và họ sẽ được nhiều người đời sau biết đến.\n",
    "\n",
    "- Top 5 vận động viên đạt nhiều huy chương nhất?\n",
    "    \n",
    "        Ý nghĩa: với câu hỏi trên, ta biết được những vận động viên xuất sắc nhất đã giành được nhiều huy chương về cho quốc gia mình. Đó là những vận động viên đã làm rạng danh đất nước, xứng đáng trở thành huyền thoại của đất nước đó nói riêng và của các kỳ Olympics nói chung.\n",
    "\n",
    "\n",
    "- Quốc gia có thành tích tốt nhất qua các kỳ Olympic mùa hè?\n",
    "    \n",
    "        Ý nghĩa: Với câu hỏi trên, ta có thể biết được những quốc gia có thành tích tốt nhất cho đến năm 2016. Những quốc gia đó đã cho thấy khả năng thể chất tuyệt vời, khẳng định được sức mạnh và vị thế thể thao của mình trên sân chơi quốc tế.\n",
    "        \n",
    "- Thành tích của Thể thao Việt Nam trong lịch sử tham dự Olympic?\n",
    "    \n",
    "        Ý nghĩa: Với câu hỏi trên, ta biết được thành tích của thể thao Việt Nam ở sân chơi Olympic để có thể tự hào và từ đó phấn đấu để đạt được nhiều huy chương hơn, xứng danh đất nước Con Rồng cháu Tiên."
   ]
  },
  {
   "cell_type": "markdown",
   "metadata": {},
   "source": [
    "## 4. Tiền xử lý và phân tích dữ liệu để trả lời cho từng câu hỏi"
   ]
  },
  {
   "cell_type": "markdown",
   "metadata": {},
   "source": [
    "### 4.1. Top 5 vận động viên tham gia nhiều năm Thế vận hội nhất?\n",
    "\n",
    "Để trả lời cho câu hỏi này, ta sẽ làm như sau:\n",
    "- Bước 1: Tính số lượng năm Thế vận hội mà mỗi vận động viên tham gia, chọn ra top 5 người có số lượng tham gia nhiều nhất. Ta lưu kết quả vào series `num_year_participate`, trong đó index là tên vận động viên.\n",
    "- Bước 2: Từ kết quả ở trên, ta vẽ đồ thị dạng cột, trong đó trục hoành là tên và trục tung là số lượng năm tham gia.Ta đặt tên trục hoành là \"Year\" và tên trục tung là \"Nums_part\"."
   ]
  },
  {
   "cell_type": "markdown",
   "metadata": {},
   "source": [
    "Code bước 1. "
   ]
  },
  {
   "cell_type": "code",
   "execution_count": 15,
   "metadata": {},
   "outputs": [
    {
     "data": {
      "text/html": [
       "<div>\n",
       "<style scoped>\n",
       "    .dataframe tbody tr th:only-of-type {\n",
       "        vertical-align: middle;\n",
       "    }\n",
       "\n",
       "    .dataframe tbody tr th {\n",
       "        vertical-align: top;\n",
       "    }\n",
       "\n",
       "    .dataframe thead th {\n",
       "        text-align: right;\n",
       "    }\n",
       "</style>\n",
       "<table border=\"1\" class=\"dataframe\">\n",
       "  <thead>\n",
       "    <tr style=\"text-align: right;\">\n",
       "      <th></th>\n",
       "      <th>Name</th>\n",
       "      <th>0</th>\n",
       "    </tr>\n",
       "  </thead>\n",
       "  <tbody>\n",
       "    <tr>\n",
       "      <th>50684</th>\n",
       "      <td>Ian Millar</td>\n",
       "      <td>10</td>\n",
       "    </tr>\n",
       "    <tr>\n",
       "      <th>50177</th>\n",
       "      <td>Hubert Raudaschl</td>\n",
       "      <td>9</td>\n",
       "    </tr>\n",
       "    <tr>\n",
       "      <th>1465</th>\n",
       "      <td>Afanasijs Kuzmins</td>\n",
       "      <td>9</td>\n",
       "    </tr>\n",
       "    <tr>\n",
       "      <th>74851</th>\n",
       "      <td>Lesley Allison Thompson-Willie</td>\n",
       "      <td>8</td>\n",
       "    </tr>\n",
       "    <tr>\n",
       "      <th>94058</th>\n",
       "      <td>Nino Salukvadze (-Machavariani)</td>\n",
       "      <td>8</td>\n",
       "    </tr>\n",
       "  </tbody>\n",
       "</table>\n",
       "</div>"
      ],
      "text/plain": [
       "                                  Name   0\n",
       "50684                       Ian Millar  10\n",
       "50177                 Hubert Raudaschl   9\n",
       "1465                 Afanasijs Kuzmins   9\n",
       "74851   Lesley Allison Thompson-Willie   8\n",
       "94058  Nino Salukvadze (-Machavariani)   8"
      ]
     },
     "metadata": {},
     "output_type": "display_data"
    }
   ],
   "source": [
    "years_part = ethlete_df.groupby(['Name',ethlete_df['Year']]).size()\n",
    "years_part = years_part.reset_index()\n",
    "years_part = years_part.groupby('Name').size()\n",
    "years_part = years_part.reset_index()\n",
    "num_year_participate = years_part.sort_values(by = [0], ascending = False).head()\n",
    "display(num_year_participate)"
   ]
  },
  {
   "cell_type": "markdown",
   "metadata": {},
   "source": [
    "Code bước 2. "
   ]
  },
  {
   "cell_type": "code",
   "execution_count": 16,
   "metadata": {},
   "outputs": [
    {
     "data": {
      "image/png": "[encoded data removed]",
      "text/plain": [
       "<Figure size 800x400 with 1 Axes>"
      ]
     },
     "metadata": {},
     "output_type": "display_data"
    }
   ],
   "source": [
    "plt.figure(figsize = (8, 4))\n",
    "ax = plt.barh(num_year_participate['Name'], num_year_participate[0], color = \"#4ADEDE\")\n",
    "plt.xlabel('Nums_part')\n",
    "plt.ylabel('Name')\n",
    "plt.title('Biểu Đồ Top 5 Các Vận Động Viên Có Số Năm Tham Gia Nhiều Nhất')\n",
    "plt.gca().invert_yaxis()\n",
    "plt.show()"
   ]
  },
  {
   "cell_type": "markdown",
   "metadata": {},
   "source": [
    "### 4.2. Top 5 vận động viên đạt nhiều huy chương nhất?\n",
    "\n",
    "Để trả lời cho câu hỏi này, ta sẽ làm như sau:\n",
    "- Bước 1: Tính số lượng huy chương theo từng loại Gold, Silver, Bronze của các vận động viên. Chọn ra top 5 người có tổng số huy chương nhiều nhất. Ta lưu kết quả vào series `num_medal_reward`.\n",
    "- Bước 2: Từ kết quả ở trên, ta vẽ group stack bar chart, trong đó trục hoành là tên và trục tung là số lượng huy chương.Ta đặt tên trục hoành là \"Name\" và tên trục tung là \"Nums_medal\"."
   ]
  },
  {
   "cell_type": "markdown",
   "metadata": {},
   "source": [
    "Code bước 1. "
   ]
  },
  {
   "cell_type": "code",
   "execution_count": 17,
   "metadata": {},
   "outputs": [
    {
     "data": {
      "text/html": [
       "<div>\n",
       "<style scoped>\n",
       "    .dataframe tbody tr th:only-of-type {\n",
       "        vertical-align: middle;\n",
       "    }\n",
       "\n",
       "    .dataframe tbody tr th {\n",
       "        vertical-align: top;\n",
       "    }\n",
       "\n",
       "    .dataframe thead th {\n",
       "        text-align: right;\n",
       "    }\n",
       "</style>\n",
       "<table border=\"1\" class=\"dataframe\">\n",
       "  <thead>\n",
       "    <tr style=\"text-align: right;\">\n",
       "      <th>Medal</th>\n",
       "      <th>Bronze</th>\n",
       "      <th>Silver</th>\n",
       "      <th>Gold</th>\n",
       "    </tr>\n",
       "    <tr>\n",
       "      <th>Name</th>\n",
       "      <th></th>\n",
       "      <th></th>\n",
       "      <th></th>\n",
       "    </tr>\n",
       "  </thead>\n",
       "  <tbody>\n",
       "    <tr>\n",
       "      <th>Michael Fred Phelps, II</th>\n",
       "      <td>2</td>\n",
       "      <td>3</td>\n",
       "      <td>23</td>\n",
       "    </tr>\n",
       "    <tr>\n",
       "      <th>Larysa Semenivna Latynina (Diriy-)</th>\n",
       "      <td>4</td>\n",
       "      <td>5</td>\n",
       "      <td>9</td>\n",
       "    </tr>\n",
       "    <tr>\n",
       "      <th>Nikolay Yefimovich Andrianov</th>\n",
       "      <td>3</td>\n",
       "      <td>5</td>\n",
       "      <td>7</td>\n",
       "    </tr>\n",
       "    <tr>\n",
       "      <th>Ole Einar Bjrndalen</th>\n",
       "      <td>1</td>\n",
       "      <td>4</td>\n",
       "      <td>8</td>\n",
       "    </tr>\n",
       "    <tr>\n",
       "      <th>Borys Anfiyanovych Shakhlin</th>\n",
       "      <td>2</td>\n",
       "      <td>4</td>\n",
       "      <td>7</td>\n",
       "    </tr>\n",
       "  </tbody>\n",
       "</table>\n",
       "</div>"
      ],
      "text/plain": [
       "Medal                               Bronze  Silver  Gold\n",
       "Name                                                    \n",
       "Michael Fred Phelps, II                  2       3    23\n",
       "Larysa Semenivna Latynina (Diriy-)       4       5     9\n",
       "Nikolay Yefimovich Andrianov             3       5     7\n",
       "Ole Einar Bjrndalen                      1       4     8\n",
       "Borys Anfiyanovych Shakhlin              2       4     7"
      ]
     },
     "metadata": {},
     "output_type": "display_data"
    }
   ],
   "source": [
    "num_medal_reward = ethlete_df.groupby(['Name', 'Medal']).size()\n",
    "num_medal_reward = num_medal_reward.reset_index()\n",
    "num_medal_reward = num_medal_reward.pivot_table(index = \"Name\", columns = \"Medal\", values = 0, fill_value = 0)\n",
    "num_medal_reward['sum_cols'] = num_medal_reward.sum(axis = 1)\n",
    "num_medal_reward = num_medal_reward.sort_values('sum_cols' , ascending = False)\n",
    "num_medal_reward = num_medal_reward.drop(columns = 'sum_cols').head()\n",
    "columns_titles   = [\"Bronze\",\"Silver\",\"Gold\"]\n",
    "num_medal_reward = num_medal_reward.reindex(columns = columns_titles)\n",
    "display(num_medal_reward)"
   ]
  },
  {
   "cell_type": "markdown",
   "metadata": {},
   "source": [
    "Code bước 2. "
   ]
  },
  {
   "cell_type": "code",
   "execution_count": 18,
   "metadata": {},
   "outputs": [
    {
     "data": {
      "image/png": "[encoded data removed]",
      "text/plain": [
       "<Figure size 640x480 with 1 Axes>"
      ]
     },
     "metadata": {},
     "output_type": "display_data"
    }
   ],
   "source": [
    "ax = num_medal_reward.plot.barh(color = [\"#FF69B4\",\"#DAEE01\",\"#4ADEDE\"], stacked = True)\n",
    "plt.xlabel('Nums_medal')\n",
    "plt.ylabel('Name')\n",
    "plt.title('Biểu Đồ Top 5 Các Vận Động Viên Có Số Huy Chương Nhiều Nhất Lịch Sử')\n",
    "plt.gca().invert_yaxis()\n",
    "plt.show()"
   ]
  },
  {
   "cell_type": "markdown",
   "metadata": {},
   "source": [
    "### 4.3. Quốc gia có thành tích tốt nhất qua các kỳ Olympic mùa hè?\n",
    "\n",
    "Để trả lời cho câu hỏi này, ta sẽ tìm top 3 quốc gia có tổng số huy chương cao nhất và biểu diễn số lượng huy chương của các quốc gia này giành được qua các năm (Olympic mùa hè)."
   ]
  },
  {
   "cell_type": "markdown",
   "metadata": {},
   "source": [
    "Đối với những môn thể thao đồng đội, tuy huy chương được trao cho từng thành viên trong đội, nhưng khi tính tổng số huy chương của quốc gia ta chỉ tính 1 huy chương cho một nội dung thi đấu.\n",
    "\n",
    "- Đầu tiên ta sẽ tìm tên những môn thể thao đồng đội, nó sẽ là `Event` mà trong một năm có nhiều bộ huy chương được trao.\n",
    "\n"
   ]
  },
  {
   "cell_type": "code",
   "execution_count": 19,
   "metadata": {},
   "outputs": [
    {
     "data": {
      "text/plain": [
       "array([\"Polo Men's Polo\", \"Rowing Men's Double Sculls\",\n",
       "       \"Football Men's Football\", \"Basketball Men's Basketball\",\n",
       "       \"Cycling Men's Madison\", 'Sailing Mixed Multihull',\n",
       "       \"Hockey Men's Hockey\", \"Rugby Men's Rugby\",\n",
       "       \"Swimming Men's 4 x 200 metres Freestyle Relay\",\n",
       "       \"Cycling Men's Tandem Sprint, 2,000 metres\",\n",
       "       \"Athletics Women's 4 x 100 metres Relay\",\n",
       "       \"Swimming Women's 4 x 100 metres Freestyle Relay\",\n",
       "       \"Equestrianism Men's Three-Day Event, Team\",\n",
       "       'Sailing Mixed 5.5 metres', 'Sailing Mixed Three Person Keelboat',\n",
       "       'Sailing Mixed Two Person Keelboat',\n",
       "       \"Swimming Men's 4 x 100 metres Medley Relay\",\n",
       "       \"Cycling Men's Team Pursuit, 4,000 metres\",\n",
       "       \"Hockey Women's Hockey\",\n",
       "       'Equestrianism Mixed Three-Day Event, Team',\n",
       "       \"Rowing Men's Coxless Fours\", \"Tennis Men's Doubles\",\n",
       "       \"Rowing Women's Coxless Pairs\", \"Sailing Men's Two Person Dinghy\",\n",
       "       \"Swimming Men's 4 x 100 metres Freestyle Relay\",\n",
       "       \"Beach Volleyball Women's Beach Volleyball\",\n",
       "       \"Sailing Women's Two Person Dinghy\",\n",
       "       \"Water Polo Women's Water Polo\", \"Rowing Men's Coxless Pairs\",\n",
       "       \"Swimming Women's 4 x 100 metres Medley Relay\",\n",
       "       \"Swimming Women's 4 x 200 metres Freestyle Relay\",\n",
       "       \"Canoeing Men's Kayak Fours, 1,000 metres\", \"Sailing Men's Skiff\",\n",
       "       \"Rugby Sevens Women's Rugby Sevens\", 'Figure Skating Mixed Pairs',\n",
       "       \"Canoeing Men's Kayak Doubles, 1,000 metres\",\n",
       "       \"Luge Mixed (Men)'s Doubles\", \"Bobsleigh Men's Four\",\n",
       "       \"Nordic Combined Men's Team\", \"Ski Jumping Men's Large Hill, Team\",\n",
       "       \"Athletics Men's 4 x 400 metres Relay\",\n",
       "       \"Canoeing Men's Canadian Doubles, 1,000 metres\",\n",
       "       'Tennis Mixed Doubles', \"Fencing Men's epee, Team\",\n",
       "       'Sailing Mixed 6 metres',\n",
       "       \"Archery Men's Pole Archery, Large Birds, Team\",\n",
       "       \"Archery Men's Pole Archery, Small Birds, Team\",\n",
       "       \"Archery Men's Target Archery, 33 metres, Team\",\n",
       "       \"Archery Men's Target Archery, 50 metres, Team\",\n",
       "       \"Equestrianism Men's Vaulting, Team\",\n",
       "       \"Cycling Men's Road Race, Team\", 'Sailing Mixed Two Person Dinghy',\n",
       "       \"Volleyball Men's Volleyball\",\n",
       "       \"Beach Volleyball Men's Beach Volleyball\",\n",
       "       \"Sailing Men's Two Person Keelboat\",\n",
       "       \"Volleyball Women's Volleyball\", \"Sailing Women's Skiff\",\n",
       "       \"Rowing Women's Double Sculls\", \"Lacrosse Men's Lacrosse\",\n",
       "       \"Ice Hockey Men's Ice Hockey\", 'Equestrianism Mixed Jumping, Team',\n",
       "       \"Rowing Men's Coxed Eights\", \"Synchronized Swimming Women's Duet\",\n",
       "       \"Rowing Women's Coxed Eights\", \"Rowing Women's Coxless Fours\",\n",
       "       \"Short Track Speed Skating Women's 3,000 metres Relay\",\n",
       "       \"Athletics Men's 4 x 100 metres Relay\",\n",
       "       \"Short Track Speed Skating Men's 5,000 metres Relay\",\n",
       "       \"Bobsleigh Men's Two\", \"Curling Women's Curling\",\n",
       "       \"Ice Hockey Women's Ice Hockey\", \"Curling Men's Curling\",\n",
       "       'Figure Skating Mixed Ice Dancing',\n",
       "       \"Speed Skating Men's Team Pursuit (8 laps)\",\n",
       "       \"Bobsleigh Women's Two\", \"Table Tennis Men's Doubles\",\n",
       "       \"Table Tennis Women's Doubles\", \"Badminton Women's Doubles\",\n",
       "       \"Diving Men's Synchronized Springboard\",\n",
       "       \"Diving Women's Synchronized Platform\",\n",
       "       \"Gymnastics Men's Team All-Around\", 'Badminton Mixed Doubles',\n",
       "       \"Tennis Women's Doubles\", \"Diving Men's Synchronized Platform\",\n",
       "       \"Diving Women's Synchronized Springboard\",\n",
       "       \"Canoeing Men's Canadian Doubles, 500 metres\",\n",
       "       \"Rowing Women's Quadruple Sculls\",\n",
       "       \"Gymnastics Women's Team All-Around\", \"Table Tennis Men's Team\",\n",
       "       \"Table Tennis Women's Team\", \"Badminton Men's Doubles\",\n",
       "       \"Fencing Women's epee, Team\", \"Cycling Women's Team Sprint\",\n",
       "       \"Handball Men's Handball\", \"Water Polo Men's Water Polo\",\n",
       "       \"Fencing Men's Foil, Team\", \"Baseball Men's Baseball\",\n",
       "       \"Canoeing Men's Canadian Doubles, 10,000 metres\",\n",
       "       \"Rowing Men's Coxed Fours\", \"Tug-Of-War Men's Tug-Of-War\",\n",
       "       \"Rowing Men's Coxed Fours, Inriggers\",\n",
       "       \"Gymnastics Men's Team All-Around, Free System\",\n",
       "       \"Shooting Men's Military Rifle, Standing, 300 metres, Team\",\n",
       "       \"Rowing Men's Coxed Pairs\",\n",
       "       'Sailing Mixed Two Person Heavyweight Dinghy',\n",
       "       \"Rowing Men's Lightweight Coxless Fours\",\n",
       "       \"Handball Women's Handball\", 'Sailing Mixed Skiff',\n",
       "       \"Rowing Men's Lightweight Double Sculls\",\n",
       "       \"Rugby Sevens Men's Rugby Sevens\",\n",
       "       \"Athletics Men's Cross-Country, Team\",\n",
       "       \"Athletics Men's 3,000 metres, Team\",\n",
       "       \"Cross Country Skiing Men's 4 x 10 kilometres Relay\",\n",
       "       \"Gymnastics Men's Pommelled Horse\",\n",
       "       \"Canoeing Men's Kayak Doubles, 10,000 metres\",\n",
       "       \"Cross Country Skiing Women's 3 x 5 kilometres Relay\",\n",
       "       \"Cross Country Skiing Men's Team Sprint\", 'Croquet Mixed Doubles',\n",
       "       'Sailing Mixed 0-0.5 Ton', 'Sailing Mixed 10-20 Ton',\n",
       "       'Sailing Mixed 2-3 Ton', \"Tennis Men's Doubles, Covered Courts\",\n",
       "       'Sailing Mixed 8 metres',\n",
       "       'Art Competitions Mixed Architecture, Architectural Designs',\n",
       "       \"Equestrianism Men's Dressage, Team\", \"Fencing Women's Foil, Team\",\n",
       "       \"Biathlon Women's 3 x 7.5 kilometres Relay\",\n",
       "       \"Canoeing Men's Canadian Doubles, Slalom\",\n",
       "       \"Cycling Men's Team Sprint\", \"Fencing Men's Sabre, Team\",\n",
       "       \"Gymnastics Men's Horizontal Bar, Teams\",\n",
       "       \"Gymnastics Men's Parallel Bars, Teams\", 'Sailing Mixed 1-2 Ton',\n",
       "       \"Swimming Men's 200 metres Team Swimming\",\n",
       "       \"Rowing Men's Coxed Fours, Outriggers\", 'Alpinism Mixed Alpinism',\n",
       "       \"Equestrianism Men's Jumping, Team\",\n",
       "       'Art Competitions Mixed Architecture, Designs For Town Planning',\n",
       "       \"Canoeing Men's Kayak Relay 4 x 500 metres\",\n",
       "       \"Canoeing Women's Kayak Doubles, 500 metres\",\n",
       "       'Equestrianism Mixed Dressage, Team',\n",
       "       \"Athletics Women's 4 x 400 metres Relay\",\n",
       "       \"Rowing Men's Quadruple Sculls\", \"Rowing Women's Coxed Fours\",\n",
       "       \"Canoeing Men's Kayak Doubles, 500 metres\",\n",
       "       \"Rowing Women's Coxed Quadruple Sculls\",\n",
       "       \"Cross Country Skiing Women's 4 x 5 kilometres Relay\",\n",
       "       \"Canoeing Women's Kayak Fours, 500 metres\",\n",
       "       \"Cycling Men's 100 kilometres Team Time Trial\",\n",
       "       \"Biathlon Men's 4 x 7.5 kilometres Relay\",\n",
       "       \"Biathlon Women's 4 x 7.5 kilometres Relay\",\n",
       "       \"Speed Skating Women's Team Pursuit (6 laps)\",\n",
       "       \"Cross Country Skiing Women's Team Sprint\",\n",
       "       'Luge Mixed Team Relay', \"Football Women's Football\",\n",
       "       \"Rowing Men's 17-Man Naval Rowing Boats\",\n",
       "       \"Swimming Men's 4 x 250 metres Freestyle Relay\",\n",
       "       \"Modern Pentathlon Men's Team\",\n",
       "       \"Gymnastics Women's Team Portable Apparatus\",\n",
       "       \"Rowing Men's Coxed Pairs (1 mile)\",\n",
       "       \"Rowing Men's Coxed Pairs (1 kilometres)\",\n",
       "       \"Rowing Men's 6-Man Naval Rowing Boats\", \"Archery Men's Team\",\n",
       "       \"Softball Women's Softball\",\n",
       "       \"Archery Men's Target Archery, 28 metres, Team\",\n",
       "       'Sailing Mixed 6.5 metres', 'Sailing Mixed 12 foot',\n",
       "       \"Rowing Women's Lightweight Double Sculls\",\n",
       "       \"Shooting Men's Free Rifle, Three Positions, 300 metres, Team\",\n",
       "       'Sailing Mixed 12 metres', 'Sailing Mixed 10 metres',\n",
       "       \"Shooting Men's Running Target, Single Shot, Team\",\n",
       "       \"Shooting Men's Running Target, Double Shot, Team\",\n",
       "       \"Cross Country Skiing Men's 10/10 kilometres Pursuit\",\n",
       "       'Biathlon Mixed 2 x 6 kilometres and 2 x 7.5 kilometres Relay',\n",
       "       \"Gymnastics Women's Balance Beam\",\n",
       "       \"Speed Skating Men's 1,500 metres\",\n",
       "       \"Basketball Women's Basketball\", \"Gymnastics Men's Horizontal Bar\",\n",
       "       \"Rhythmic Gymnastics Women's Group\",\n",
       "       \"Synchronized Swimming Women's Team\",\n",
       "       \"Biathlon Women's 4 x 6 kilometres Relay\",\n",
       "       \"Canoeing Men's Kayak Doubles, 200 metres\",\n",
       "       'Figure Skating Mixed Team', \"Fencing Women's Sabre, Team\",\n",
       "       \"Archery Women's Team\",\n",
       "       \"Basque Pelota Men's Two-Man Teams With Cesta\",\n",
       "       \"Sailing Women's Three Person Keelboat\",\n",
       "       \"Gymnastics Men's Team All-Around, Swedish System\",\n",
       "       \"Shooting Men's Dueling Pistol, 30 metres, Team\",\n",
       "       \"Shooting Men's Small-Bore Rifle, Disappearing Target, 25 metres, Team\",\n",
       "       'Sailing Mixed 30 metres', 'Sailing Mixed 40 metres',\n",
       "       \"Canoeing Men's Folding Kayak Doubles, 10 kilometres\",\n",
       "       \"Shooting Men's Free Pistol, 50 metres, Team\",\n",
       "       'Art Competitions Mixed Architecture', \"Bobsleigh Men's Four/Five\",\n",
       "       \"Military Ski Patrol Men's Military Ski Patrol\",\n",
       "       \"Athletics Men's 5,000 metres, Team\", \"Cricket Men's Cricket\",\n",
       "       'Sailing Mixed 0.5-1 Ton', 'Sailing Mixed 3-10 Ton',\n",
       "       'Sailing Mixed Open', \"Shooting Men's Trap, Team\",\n",
       "       \"Cycling Men's Team Pursuit, 1,980 yards\",\n",
       "       \"Athletics Men's 3 mile, Team\",\n",
       "       \"Shooting Men's Small-Bore Rifle, 50 and 100 yards, Team\",\n",
       "       'Sailing Mixed 7 metres',\n",
       "       'Motorboating Mixed B-Class (Under 60 Feet)',\n",
       "       'Motorboating Mixed C-Class', \"Racquets Men's Doubles\",\n",
       "       \"Shooting Men's Small-Bore Rifle, Prone, 50 metres, Team\",\n",
       "       'Tennis Mixed Doubles, Covered Courts',\n",
       "       \"Cycling Women's Team Pursuit\", \"Gymnastics Men's Horse Vault\",\n",
       "       \"Athletics Men's 4 mile, Team\", \"Archery Men's Team Round\",\n",
       "       \"Archery Women's Team Round\", \"Golf Men's Team\",\n",
       "       \"Swimming Men's 4 x 50 Yard Freestyle Relay\",\n",
       "       \"Athletics Men's Pole Vault\",\n",
       "       \"Shooting Men's Free Pistol, 50 yards, Team\",\n",
       "       \"Shooting Men's Military Rifle, 200/500/600/800/900/1,000 Yards, Team\",\n",
       "       \"Athletics Men's 1,600 metres Medley Relay\",\n",
       "       \"Shooting Men's Military Rifle, 200, 400, 500 and 600 metres, Team\",\n",
       "       \"Shooting Men's Military Rifle, Prone, 300 metres, Team\",\n",
       "       \"Shooting Men's Military Pistol, Team\",\n",
       "       \"Shooting Men's Military Rifle, 300 metres and 600 metres, Prone, Team\",\n",
       "       \"Shooting Men's Small Bore-Rifle, Standing, 50 metres, Team\",\n",
       "       \"Shooting Men's Military Rifle, Prone, 600 metres, Team\",\n",
       "       \"Shooting Men's Free Rifle, 400, 600 and 800 metres, Team\",\n",
       "       \"Swimming Women's 100 metres Freestyle\",\n",
       "       \"Swimming Men's 50 metres Freestyle\"], dtype=object)"
      ]
     },
     "execution_count": 19,
     "metadata": {},
     "output_type": "execute_result"
    }
   ],
   "source": [
    "team_events = pd.pivot_table(ethlete_df,\n",
    "                                      index = ['region', 'Year', 'Event'],\n",
    "                                      columns = 'Medal',\n",
    "                                      values = 'isWon',\n",
    "                                      aggfunc = 'sum',\n",
    "                                     fill_value = 0).reset_index()\n",
    "\n",
    "team_events = team_events.loc[team_events['Gold'] > 1, :]\n",
    "team_sports = team_events['Event'].unique()\n",
    "team_sports"
   ]
  },
  {
   "cell_type": "markdown",
   "metadata": {},
   "source": [
    "- Qua quan sát ta thấy có 1 vài môn thể thao không phải là môn thể thao đồng đội nhưng vẫn được thêm vào đây. Nguyên nhân là do có tồn tại trường hợp trao nhiều hơn 1 huy chương vàng khi các vận động viên có cùng điểm số/ thời gian. Ta sẽ loại bỏ những môn thể thao này"
   ]
  },
  {
   "cell_type": "code",
   "execution_count": 20,
   "metadata": {},
   "outputs": [],
   "source": [
    "remove_sports = [\"Gymnastics Women's Balance Beam\", \"Gymnastics Men's Horizontal Bar\", \n",
    "                 \"Swimming Women's 100 metres Freestyle\", \"Swimming Men's 50 metres Freestyle\"]\n",
    "team_sports = list(set(team_sports) - set(remove_sports))"
   ]
  },
  {
   "cell_type": "markdown",
   "metadata": {},
   "source": [
    "- Ta tạo thêm cột `isTeamSport` để ghi nhận việc `Event` đó có phải là môn thể thao đồng đội hay không."
   ]
  },
  {
   "cell_type": "code",
   "execution_count": 21,
   "metadata": {},
   "outputs": [],
   "source": [
    "ethlete_df['isTeamSport'] = np.where(ethlete_df['Event'].map(lambda x: x in team_sports), 1, 0)\n",
    "ethlete_df['isTeamSport'] = ethlete_df['isTeamSport'].astype(bool)"
   ]
  },
  {
   "cell_type": "markdown",
   "metadata": {},
   "source": [
    "- Tính tổng số huy chương của mỗi quốc gia cho môn thể thao cá nhân."
   ]
  },
  {
   "cell_type": "code",
   "execution_count": 22,
   "metadata": {},
   "outputs": [],
   "source": [
    "Total_Medal_Individual = ethlete_df.query(\"Season=='Summer' & isTeamSport==0 & isWon==1\").value_counts(['region','Medal'])\\\n",
    "                .reset_index().pivot(index = 'region', columns = 'Medal', values = 0).fillna(0)\n",
    "Total_Medal_Individual = Total_Medal_Individual[['Gold','Silver','Bronze']]"
   ]
  },
  {
   "cell_type": "markdown",
   "metadata": {},
   "source": [
    "- Tính tổng số huy chương của mỗi quốc gia cho môn thể thao đồng đội."
   ]
  },
  {
   "cell_type": "code",
   "execution_count": 23,
   "metadata": {},
   "outputs": [],
   "source": [
    "temp=pd.DataFrame(ethlete_df.query(\"Season=='Summer' & isTeamSport==1 & isWon==1\")[['Event','region','Medal']]).drop_duplicates(keep='first')\n",
    "Total_Medal_Team=temp.value_counts(['region','Medal'])\\\n",
    "                .reset_index().pivot(index = 'region', columns = 'Medal', values = 0).fillna(0)\n",
    "Total_Medal_Team=Total_Medal_Team[['Gold','Silver','Bronze']]"
   ]
  },
  {
   "cell_type": "markdown",
   "metadata": {},
   "source": [
    "- Tạo dataframe tổng huy chương và sắp xếp."
   ]
  },
  {
   "cell_type": "code",
   "execution_count": 24,
   "metadata": {},
   "outputs": [
    {
     "data": {
      "text/html": [
       "<div>\n",
       "<style scoped>\n",
       "    .dataframe tbody tr th:only-of-type {\n",
       "        vertical-align: middle;\n",
       "    }\n",
       "\n",
       "    .dataframe tbody tr th {\n",
       "        vertical-align: top;\n",
       "    }\n",
       "\n",
       "    .dataframe thead th {\n",
       "        text-align: right;\n",
       "    }\n",
       "</style>\n",
       "<table border=\"1\" class=\"dataframe\">\n",
       "  <thead>\n",
       "    <tr style=\"text-align: right;\">\n",
       "      <th>Medal</th>\n",
       "      <th>Gold</th>\n",
       "      <th>Silver</th>\n",
       "      <th>Bronze</th>\n",
       "      <th>Total</th>\n",
       "    </tr>\n",
       "    <tr>\n",
       "      <th>region</th>\n",
       "      <th></th>\n",
       "      <th></th>\n",
       "      <th></th>\n",
       "      <th></th>\n",
       "    </tr>\n",
       "  </thead>\n",
       "  <tbody>\n",
       "    <tr>\n",
       "      <th>USA</th>\n",
       "      <td>820</td>\n",
       "      <td>728</td>\n",
       "      <td>649</td>\n",
       "      <td>2197</td>\n",
       "    </tr>\n",
       "    <tr>\n",
       "      <th>Russia</th>\n",
       "      <td>494</td>\n",
       "      <td>432</td>\n",
       "      <td>442</td>\n",
       "      <td>1368</td>\n",
       "    </tr>\n",
       "    <tr>\n",
       "      <th>Germany</th>\n",
       "      <td>332</td>\n",
       "      <td>385</td>\n",
       "      <td>413</td>\n",
       "      <td>1130</td>\n",
       "    </tr>\n",
       "    <tr>\n",
       "      <th>UK</th>\n",
       "      <td>233</td>\n",
       "      <td>264</td>\n",
       "      <td>261</td>\n",
       "      <td>758</td>\n",
       "    </tr>\n",
       "    <tr>\n",
       "      <th>France</th>\n",
       "      <td>200</td>\n",
       "      <td>230</td>\n",
       "      <td>247</td>\n",
       "      <td>677</td>\n",
       "    </tr>\n",
       "    <tr>\n",
       "      <th>...</th>\n",
       "      <td>...</td>\n",
       "      <td>...</td>\n",
       "      <td>...</td>\n",
       "      <td>...</td>\n",
       "    </tr>\n",
       "    <tr>\n",
       "      <th>Kosovo</th>\n",
       "      <td>1</td>\n",
       "      <td>0</td>\n",
       "      <td>0</td>\n",
       "      <td>1</td>\n",
       "    </tr>\n",
       "    <tr>\n",
       "      <th>Montenegro</th>\n",
       "      <td>0</td>\n",
       "      <td>1</td>\n",
       "      <td>0</td>\n",
       "      <td>1</td>\n",
       "    </tr>\n",
       "    <tr>\n",
       "      <th>Macedonia</th>\n",
       "      <td>0</td>\n",
       "      <td>0</td>\n",
       "      <td>1</td>\n",
       "      <td>1</td>\n",
       "    </tr>\n",
       "    <tr>\n",
       "      <th>Monaco</th>\n",
       "      <td>0</td>\n",
       "      <td>0</td>\n",
       "      <td>1</td>\n",
       "      <td>1</td>\n",
       "    </tr>\n",
       "    <tr>\n",
       "      <th>Gabon</th>\n",
       "      <td>0</td>\n",
       "      <td>1</td>\n",
       "      <td>0</td>\n",
       "      <td>1</td>\n",
       "    </tr>\n",
       "  </tbody>\n",
       "</table>\n",
       "<p>134 rows × 4 columns</p>\n",
       "</div>"
      ],
      "text/plain": [
       "Medal       Gold  Silver  Bronze  Total\n",
       "region                                 \n",
       "USA          820     728     649   2197\n",
       "Russia       494     432     442   1368\n",
       "Germany      332     385     413   1130\n",
       "UK           233     264     261    758\n",
       "France       200     230     247    677\n",
       "...          ...     ...     ...    ...\n",
       "Kosovo         1       0       0      1\n",
       "Montenegro     0       1       0      1\n",
       "Macedonia      0       0       1      1\n",
       "Monaco         0       0       1      1\n",
       "Gabon          0       1       0      1\n",
       "\n",
       "[134 rows x 4 columns]"
      ]
     },
     "execution_count": 24,
     "metadata": {},
     "output_type": "execute_result"
    }
   ],
   "source": [
    "Total_Medal=Total_Medal_Individual.add(Total_Medal_Team, fill_value=0)\n",
    "Total_Medal['Total'] = Total_Medal['Gold'] + Total_Medal['Silver'] + Total_Medal['Bronze']\n",
    "Total_Medal = Total_Medal.sort_values(by = 'Total', ascending = False).astype(int)\n",
    "Total_Medal"
   ]
  },
  {
   "cell_type": "markdown",
   "metadata": {},
   "source": [
    "Bây giờ ta sẽ tìm top 3 quốc gia đạt được nhiều huy chương nhất các kỳ Olympics mùa hè và phân tích 1 chút về thành tích của 3 quốc gia đó qua các giai đoạn."
   ]
  },
  {
   "cell_type": "code",
   "execution_count": 25,
   "metadata": {},
   "outputs": [
    {
     "data": {
      "text/plain": [
       "['USA', 'Russia', 'Germany']"
      ]
     },
     "execution_count": 25,
     "metadata": {},
     "output_type": "execute_result"
    }
   ],
   "source": [
    "top3_countries = list(Total_Medal.head(3).index)\n",
    "top3_countries"
   ]
  },
  {
   "cell_type": "markdown",
   "metadata": {},
   "source": [
    "Không quá bất ngờ khi top 3 dẫn đầu số huy chương Olympics đều là những cường quốc hàng đầu thế giới (Mỹ, Nga, Đức). Sau đây là thống kê số huy chương mà 3 quốc gia đó đã đạt được."
   ]
  },
  {
   "cell_type": "code",
   "execution_count": 26,
   "metadata": {},
   "outputs": [],
   "source": [
    "medals_per_year = pd.pivot_table(ethlete_df[ethlete_df['Season']=='Summer'],\n",
    "                                  index   = 'Year',\n",
    "                                  columns = 'region',\n",
    "                                  values  = 'isWon' ,\n",
    "                                  aggfunc = 'sum')[top3_countries]"
   ]
  },
  {
   "cell_type": "code",
   "execution_count": 27,
   "metadata": {},
   "outputs": [
    {
     "data": {
      "text/html": [
       "<div>\n",
       "<style scoped>\n",
       "    .dataframe tbody tr th:only-of-type {\n",
       "        vertical-align: middle;\n",
       "    }\n",
       "\n",
       "    .dataframe tbody tr th {\n",
       "        vertical-align: top;\n",
       "    }\n",
       "\n",
       "    .dataframe thead th {\n",
       "        text-align: right;\n",
       "    }\n",
       "</style>\n",
       "<table border=\"1\" class=\"dataframe\">\n",
       "  <thead>\n",
       "    <tr style=\"text-align: right;\">\n",
       "      <th>region</th>\n",
       "      <th>USA</th>\n",
       "      <th>Russia</th>\n",
       "      <th>Germany</th>\n",
       "    </tr>\n",
       "    <tr>\n",
       "      <th>Year</th>\n",
       "      <th></th>\n",
       "      <th></th>\n",
       "      <th></th>\n",
       "    </tr>\n",
       "  </thead>\n",
       "  <tbody>\n",
       "    <tr>\n",
       "      <th>1896</th>\n",
       "      <td>20.0</td>\n",
       "      <td>NaN</td>\n",
       "      <td>32.0</td>\n",
       "    </tr>\n",
       "    <tr>\n",
       "      <th>1900</th>\n",
       "      <td>63.0</td>\n",
       "      <td>0.0</td>\n",
       "      <td>45.0</td>\n",
       "    </tr>\n",
       "    <tr>\n",
       "      <th>1904</th>\n",
       "      <td>394.0</td>\n",
       "      <td>NaN</td>\n",
       "      <td>16.0</td>\n",
       "    </tr>\n",
       "    <tr>\n",
       "      <th>1906</th>\n",
       "      <td>24.0</td>\n",
       "      <td>NaN</td>\n",
       "      <td>30.0</td>\n",
       "    </tr>\n",
       "    <tr>\n",
       "      <th>1908</th>\n",
       "      <td>65.0</td>\n",
       "      <td>3.0</td>\n",
       "      <td>21.0</td>\n",
       "    </tr>\n",
       "    <tr>\n",
       "      <th>1912</th>\n",
       "      <td>107.0</td>\n",
       "      <td>14.0</td>\n",
       "      <td>53.0</td>\n",
       "    </tr>\n",
       "    <tr>\n",
       "      <th>1920</th>\n",
       "      <td>194.0</td>\n",
       "      <td>NaN</td>\n",
       "      <td>NaN</td>\n",
       "    </tr>\n",
       "    <tr>\n",
       "      <th>1924</th>\n",
       "      <td>182.0</td>\n",
       "      <td>0.0</td>\n",
       "      <td>NaN</td>\n",
       "    </tr>\n",
       "    <tr>\n",
       "      <th>1928</th>\n",
       "      <td>88.0</td>\n",
       "      <td>NaN</td>\n",
       "      <td>77.0</td>\n",
       "    </tr>\n",
       "    <tr>\n",
       "      <th>1932</th>\n",
       "      <td>189.0</td>\n",
       "      <td>NaN</td>\n",
       "      <td>43.0</td>\n",
       "    </tr>\n",
       "    <tr>\n",
       "      <th>1936</th>\n",
       "      <td>96.0</td>\n",
       "      <td>NaN</td>\n",
       "      <td>224.0</td>\n",
       "    </tr>\n",
       "    <tr>\n",
       "      <th>1948</th>\n",
       "      <td>152.0</td>\n",
       "      <td>NaN</td>\n",
       "      <td>NaN</td>\n",
       "    </tr>\n",
       "    <tr>\n",
       "      <th>1952</th>\n",
       "      <td>134.0</td>\n",
       "      <td>117.0</td>\n",
       "      <td>40.0</td>\n",
       "    </tr>\n",
       "    <tr>\n",
       "      <th>1956</th>\n",
       "      <td>123.0</td>\n",
       "      <td>169.0</td>\n",
       "      <td>52.0</td>\n",
       "    </tr>\n",
       "    <tr>\n",
       "      <th>1960</th>\n",
       "      <td>125.0</td>\n",
       "      <td>169.0</td>\n",
       "      <td>89.0</td>\n",
       "    </tr>\n",
       "    <tr>\n",
       "      <th>1964</th>\n",
       "      <td>169.0</td>\n",
       "      <td>174.0</td>\n",
       "      <td>116.0</td>\n",
       "    </tr>\n",
       "    <tr>\n",
       "      <th>1968</th>\n",
       "      <td>166.0</td>\n",
       "      <td>192.0</td>\n",
       "      <td>103.0</td>\n",
       "    </tr>\n",
       "    <tr>\n",
       "      <th>1972</th>\n",
       "      <td>171.0</td>\n",
       "      <td>214.0</td>\n",
       "      <td>253.0</td>\n",
       "    </tr>\n",
       "    <tr>\n",
       "      <th>1976</th>\n",
       "      <td>164.0</td>\n",
       "      <td>286.0</td>\n",
       "      <td>273.0</td>\n",
       "    </tr>\n",
       "    <tr>\n",
       "      <th>1980</th>\n",
       "      <td>NaN</td>\n",
       "      <td>442.0</td>\n",
       "      <td>264.0</td>\n",
       "    </tr>\n",
       "    <tr>\n",
       "      <th>1984</th>\n",
       "      <td>352.0</td>\n",
       "      <td>NaN</td>\n",
       "      <td>158.0</td>\n",
       "    </tr>\n",
       "    <tr>\n",
       "      <th>1988</th>\n",
       "      <td>207.0</td>\n",
       "      <td>300.0</td>\n",
       "      <td>296.0</td>\n",
       "    </tr>\n",
       "    <tr>\n",
       "      <th>1992</th>\n",
       "      <td>224.0</td>\n",
       "      <td>220.0</td>\n",
       "      <td>198.0</td>\n",
       "    </tr>\n",
       "    <tr>\n",
       "      <th>1996</th>\n",
       "      <td>259.0</td>\n",
       "      <td>115.0</td>\n",
       "      <td>124.0</td>\n",
       "    </tr>\n",
       "    <tr>\n",
       "      <th>2000</th>\n",
       "      <td>242.0</td>\n",
       "      <td>187.0</td>\n",
       "      <td>118.0</td>\n",
       "    </tr>\n",
       "    <tr>\n",
       "      <th>2004</th>\n",
       "      <td>263.0</td>\n",
       "      <td>189.0</td>\n",
       "      <td>149.0</td>\n",
       "    </tr>\n",
       "    <tr>\n",
       "      <th>2008</th>\n",
       "      <td>317.0</td>\n",
       "      <td>142.0</td>\n",
       "      <td>99.0</td>\n",
       "    </tr>\n",
       "    <tr>\n",
       "      <th>2012</th>\n",
       "      <td>248.0</td>\n",
       "      <td>140.0</td>\n",
       "      <td>94.0</td>\n",
       "    </tr>\n",
       "    <tr>\n",
       "      <th>2016</th>\n",
       "      <td>264.0</td>\n",
       "      <td>115.0</td>\n",
       "      <td>159.0</td>\n",
       "    </tr>\n",
       "  </tbody>\n",
       "</table>\n",
       "</div>"
      ],
      "text/plain": [
       "region    USA  Russia  Germany\n",
       "Year                          \n",
       "1896     20.0     NaN     32.0\n",
       "1900     63.0     0.0     45.0\n",
       "1904    394.0     NaN     16.0\n",
       "1906     24.0     NaN     30.0\n",
       "1908     65.0     3.0     21.0\n",
       "1912    107.0    14.0     53.0\n",
       "1920    194.0     NaN      NaN\n",
       "1924    182.0     0.0      NaN\n",
       "1928     88.0     NaN     77.0\n",
       "1932    189.0     NaN     43.0\n",
       "1936     96.0     NaN    224.0\n",
       "1948    152.0     NaN      NaN\n",
       "1952    134.0   117.0     40.0\n",
       "1956    123.0   169.0     52.0\n",
       "1960    125.0   169.0     89.0\n",
       "1964    169.0   174.0    116.0\n",
       "1968    166.0   192.0    103.0\n",
       "1972    171.0   214.0    253.0\n",
       "1976    164.0   286.0    273.0\n",
       "1980      NaN   442.0    264.0\n",
       "1984    352.0     NaN    158.0\n",
       "1988    207.0   300.0    296.0\n",
       "1992    224.0   220.0    198.0\n",
       "1996    259.0   115.0    124.0\n",
       "2000    242.0   187.0    118.0\n",
       "2004    263.0   189.0    149.0\n",
       "2008    317.0   142.0     99.0\n",
       "2012    248.0   140.0     94.0\n",
       "2016    264.0   115.0    159.0"
      ]
     },
     "execution_count": 27,
     "metadata": {},
     "output_type": "execute_result"
    }
   ],
   "source": [
    "medals_per_year"
   ]
  },
  {
   "cell_type": "markdown",
   "metadata": {},
   "source": [
    "Nhìn vào bảng kết quả, ta thấy dữ liệu của nước Nga bị thiếu rất nhiều trong khoảng thời gian từ kỳ Thế vận hội năm 1896 đến 1948 nhưng đây không phải là lỗi thiếu dữ liệu! Và đây là lí do:\n",
    "\n",
    "Nga lần đầu tham dự Thế vận hội vào năm năm 1900 cũng như gửi vận động viên (VĐV) tới các kỳ Mùa hè 1908 và 1912. Sau Cách mạng Nga (1917) và tiếp đó là sự thành lập Liên bang Xô Viết năm 1922, sự góp mặt của các VĐV Nga bị gián đoạn cho tới 1952."
   ]
  },
  {
   "cell_type": "markdown",
   "metadata": {},
   "source": [
    "Vì vậy ta sẽ chỉ phân tích dữ liệu từ kỳ Thế vận hội năm 1952 trở về sau."
   ]
  },
  {
   "cell_type": "code",
   "execution_count": 28,
   "metadata": {},
   "outputs": [],
   "source": [
    "medals_per_year = medals_per_year.drop([x for x in medals_per_year.index if x < 1952])"
   ]
  },
  {
   "cell_type": "code",
   "execution_count": 29,
   "metadata": {},
   "outputs": [
    {
     "data": {
      "image/png": "[encoded data removed]",
      "text/plain": [
       "<Figure size 1500x500 with 1 Axes>"
      ]
     },
     "metadata": {},
     "output_type": "display_data"
    }
   ],
   "source": [
    "medals_per_year.plot(linestyle = '-', marker = 'o', alpha = 0.9, figsize = (15,5), linewidth = 2)\n",
    "plt.xlabel('Năm')\n",
    "plt.xticks(medals_per_year.index)\n",
    "plt.ylabel('Số lượng Huy Chương')\n",
    "plt.title('Thành tích huy chương của 3 quốc gia có tổng số huy chương nhiều nhất từ 1952-2016')\n",
    "plt.show()"
   ]
  },
  {
   "cell_type": "markdown",
   "metadata": {},
   "source": [
    "**Điểm giá trị bị thiếu của Mỹ vào năm 1980 không phải là lỗi thiếu dữ liệu!** \n",
    "\n",
    "Năm 1980, Hoa Kỳ kêu gọi tẩy chay Thế vận hội Olympic mùa hè ở Moscow để phản đối cuộc xâm lược Afghanistan của Liên Xô vào cuối năm 1979, có 64 quốc gia khác hưởng ứng cuộc tẩy chay này. Đây là lần đầu tiên và duy nhất mà Mỹ tẩy chay Olympics. \n",
    "\n",
    "Thế vận hội 1980 là Kỳ Thế vận hội đầu tiên mà Việt Nam tham dự với tư cách là một quốc gia thống nhất.\n",
    "\n",
    "**Điểm giá trị bị thiếu của Nga vào năm 1984 cũng không có lỗi!**\n",
    "\n",
    "08/05/1984, Liên Xô tuyên bố tẩy chay Olympics 1984. Việc tẩy chay Thế vận hội Mùa hè 1984 ở Los Angeles diễn ra sau 4 năm kể từ cuộc tẩy chay Thế vận hội Mùa hè 1980 ở Moscow do Hoa Kỳ lãnh đạo. Nguyên nhân chính được các quan chức Moscow đưa ra là vận động viên Liên Xô có thể sẽ không được an toàn trước các cuộc biểu tình và tấn công thù địch do phía Mỹ hậu thuẫn. Sau khi Liên Xô đưa ra tuyên bố \"tẩy chay\" Olympic 1984, 13 nước có quan hệ thân thiết với quốc gia xã hội chủ nghĩa lớn nhất thế giới cũng đưa ra các thông báo tương tự và từ chối tham dự.\n",
    "\n",
    "Có vấn đề gì bấp cập không khi lần mà 2 quốc gia này giành được nhiều huy chương nhất trong một Kỳ thế vận hội cũng là là lần mà họ làm chủ nhà.\n",
    "\n",
    "**Với những mốc thời gian còn lại:**\n",
    "\n",
    "Từ những năm 1952 đến 1976, số lượng huy chương giành được của các quốc gia Mỹ, Nga, Đức gần như tăng dần qua các năm.\n",
    "\n",
    "Từ những năm 1992 đến 2016, Mỹ luôn dẫn đầu về thổng số lượng huy chương trong  một Kỳ thế vận hội, trong khi Nga và Đức thì có xu hướng giảm."
   ]
  },
  {
   "cell_type": "markdown",
   "metadata": {},
   "source": [
    "### 4.4. Thành tích của Thể thao Việt Nam trong lịch sử tham dự Olympic?\n",
    "\n",
    "Để trả lời cho câu hỏi này, ta sẽ làm như sau:\n",
    "- Tạo Dataframe chứa dữ liệu gồm số vận động viên Việt Nam tham dự, số huy chương đạt được qua các năm"
   ]
  },
  {
   "cell_type": "code",
   "execution_count": 30,
   "metadata": {},
   "outputs": [
    {
     "data": {
      "text/html": [
       "<div>\n",
       "<style scoped>\n",
       "    .dataframe tbody tr th:only-of-type {\n",
       "        vertical-align: middle;\n",
       "    }\n",
       "\n",
       "    .dataframe tbody tr th {\n",
       "        vertical-align: top;\n",
       "    }\n",
       "\n",
       "    .dataframe thead th {\n",
       "        text-align: right;\n",
       "    }\n",
       "</style>\n",
       "<table border=\"1\" class=\"dataframe\">\n",
       "  <thead>\n",
       "    <tr style=\"text-align: right;\">\n",
       "      <th></th>\n",
       "      <th>Year</th>\n",
       "      <th>Season</th>\n",
       "      <th>number of athletes</th>\n",
       "      <th>Gold</th>\n",
       "      <th>Silver</th>\n",
       "    </tr>\n",
       "  </thead>\n",
       "  <tbody>\n",
       "    <tr>\n",
       "      <th>0</th>\n",
       "      <td>1952</td>\n",
       "      <td>Summer</td>\n",
       "      <td>13</td>\n",
       "      <td>NaN</td>\n",
       "      <td>NaN</td>\n",
       "    </tr>\n",
       "    <tr>\n",
       "      <th>1</th>\n",
       "      <td>1956</td>\n",
       "      <td>Summer</td>\n",
       "      <td>10</td>\n",
       "      <td>NaN</td>\n",
       "      <td>NaN</td>\n",
       "    </tr>\n",
       "    <tr>\n",
       "      <th>2</th>\n",
       "      <td>1960</td>\n",
       "      <td>Summer</td>\n",
       "      <td>5</td>\n",
       "      <td>NaN</td>\n",
       "      <td>NaN</td>\n",
       "    </tr>\n",
       "    <tr>\n",
       "      <th>3</th>\n",
       "      <td>1964</td>\n",
       "      <td>Summer</td>\n",
       "      <td>23</td>\n",
       "      <td>NaN</td>\n",
       "      <td>NaN</td>\n",
       "    </tr>\n",
       "    <tr>\n",
       "      <th>4</th>\n",
       "      <td>1968</td>\n",
       "      <td>Summer</td>\n",
       "      <td>9</td>\n",
       "      <td>NaN</td>\n",
       "      <td>NaN</td>\n",
       "    </tr>\n",
       "    <tr>\n",
       "      <th>5</th>\n",
       "      <td>1972</td>\n",
       "      <td>Summer</td>\n",
       "      <td>2</td>\n",
       "      <td>NaN</td>\n",
       "      <td>NaN</td>\n",
       "    </tr>\n",
       "    <tr>\n",
       "      <th>6</th>\n",
       "      <td>1980</td>\n",
       "      <td>Summer</td>\n",
       "      <td>38</td>\n",
       "      <td>NaN</td>\n",
       "      <td>NaN</td>\n",
       "    </tr>\n",
       "    <tr>\n",
       "      <th>7</th>\n",
       "      <td>1988</td>\n",
       "      <td>Summer</td>\n",
       "      <td>12</td>\n",
       "      <td>NaN</td>\n",
       "      <td>NaN</td>\n",
       "    </tr>\n",
       "    <tr>\n",
       "      <th>8</th>\n",
       "      <td>1992</td>\n",
       "      <td>Summer</td>\n",
       "      <td>10</td>\n",
       "      <td>NaN</td>\n",
       "      <td>NaN</td>\n",
       "    </tr>\n",
       "    <tr>\n",
       "      <th>9</th>\n",
       "      <td>1996</td>\n",
       "      <td>Summer</td>\n",
       "      <td>6</td>\n",
       "      <td>NaN</td>\n",
       "      <td>NaN</td>\n",
       "    </tr>\n",
       "    <tr>\n",
       "      <th>10</th>\n",
       "      <td>2000</td>\n",
       "      <td>Summer</td>\n",
       "      <td>7</td>\n",
       "      <td>NaN</td>\n",
       "      <td>1.0</td>\n",
       "    </tr>\n",
       "    <tr>\n",
       "      <th>11</th>\n",
       "      <td>2004</td>\n",
       "      <td>Summer</td>\n",
       "      <td>11</td>\n",
       "      <td>NaN</td>\n",
       "      <td>NaN</td>\n",
       "    </tr>\n",
       "    <tr>\n",
       "      <th>12</th>\n",
       "      <td>2008</td>\n",
       "      <td>Summer</td>\n",
       "      <td>18</td>\n",
       "      <td>NaN</td>\n",
       "      <td>1.0</td>\n",
       "    </tr>\n",
       "    <tr>\n",
       "      <th>13</th>\n",
       "      <td>2012</td>\n",
       "      <td>Summer</td>\n",
       "      <td>24</td>\n",
       "      <td>NaN</td>\n",
       "      <td>NaN</td>\n",
       "    </tr>\n",
       "    <tr>\n",
       "      <th>14</th>\n",
       "      <td>2016</td>\n",
       "      <td>Summer</td>\n",
       "      <td>28</td>\n",
       "      <td>1.0</td>\n",
       "      <td>1.0</td>\n",
       "    </tr>\n",
       "  </tbody>\n",
       "</table>\n",
       "</div>"
      ],
      "text/plain": [
       "    Year  Season  number of athletes  Gold  Silver\n",
       "0   1952  Summer                  13   NaN     NaN\n",
       "1   1956  Summer                  10   NaN     NaN\n",
       "2   1960  Summer                   5   NaN     NaN\n",
       "3   1964  Summer                  23   NaN     NaN\n",
       "4   1968  Summer                   9   NaN     NaN\n",
       "5   1972  Summer                   2   NaN     NaN\n",
       "6   1980  Summer                  38   NaN     NaN\n",
       "7   1988  Summer                  12   NaN     NaN\n",
       "8   1992  Summer                  10   NaN     NaN\n",
       "9   1996  Summer                   6   NaN     NaN\n",
       "10  2000  Summer                   7   NaN     1.0\n",
       "11  2004  Summer                  11   NaN     NaN\n",
       "12  2008  Summer                  18   NaN     1.0\n",
       "13  2012  Summer                  24   NaN     NaN\n",
       "14  2016  Summer                  28   1.0     1.0"
      ]
     },
     "execution_count": 30,
     "metadata": {},
     "output_type": "execute_result"
    }
   ],
   "source": [
    "temp  = pd.DataFrame(ethlete_df.query(\"region=='Vietnam'\"))\n",
    "df_vn = pd.DataFrame(temp.groupby(['Year', 'Season'])['Name'].count().rename('number of athletes').reset_index())\n",
    "\n",
    "temp  = temp.value_counts(['Year', 'Medal']).reset_index().pivot_table(index = 'Year', columns = 'Medal', values = 0,aggfunc = 'sum')\n",
    "\n",
    "df_vn = df_vn.merge(temp, on = 'Year', how = 'left')"
   ]
  },
  {
   "cell_type": "markdown",
   "metadata": {},
   "source": [
    "- Thêm cột huy chương bị thiếu"
   ]
  },
  {
   "cell_type": "code",
   "execution_count": 31,
   "metadata": {},
   "outputs": [
    {
     "data": {
      "text/html": [
       "<div>\n",
       "<style scoped>\n",
       "    .dataframe tbody tr th:only-of-type {\n",
       "        vertical-align: middle;\n",
       "    }\n",
       "\n",
       "    .dataframe tbody tr th {\n",
       "        vertical-align: top;\n",
       "    }\n",
       "\n",
       "    .dataframe thead th {\n",
       "        text-align: right;\n",
       "    }\n",
       "</style>\n",
       "<table border=\"1\" class=\"dataframe\">\n",
       "  <thead>\n",
       "    <tr style=\"text-align: right;\">\n",
       "      <th></th>\n",
       "      <th>Year</th>\n",
       "      <th>Season</th>\n",
       "      <th>number of athletes</th>\n",
       "      <th>Gold</th>\n",
       "      <th>Silver</th>\n",
       "      <th>Bronze</th>\n",
       "    </tr>\n",
       "  </thead>\n",
       "  <tbody>\n",
       "    <tr>\n",
       "      <th>0</th>\n",
       "      <td>1952</td>\n",
       "      <td>Summer</td>\n",
       "      <td>13</td>\n",
       "      <td>NaN</td>\n",
       "      <td>NaN</td>\n",
       "      <td>NaN</td>\n",
       "    </tr>\n",
       "    <tr>\n",
       "      <th>1</th>\n",
       "      <td>1956</td>\n",
       "      <td>Summer</td>\n",
       "      <td>10</td>\n",
       "      <td>NaN</td>\n",
       "      <td>NaN</td>\n",
       "      <td>NaN</td>\n",
       "    </tr>\n",
       "    <tr>\n",
       "      <th>2</th>\n",
       "      <td>1960</td>\n",
       "      <td>Summer</td>\n",
       "      <td>5</td>\n",
       "      <td>NaN</td>\n",
       "      <td>NaN</td>\n",
       "      <td>NaN</td>\n",
       "    </tr>\n",
       "    <tr>\n",
       "      <th>3</th>\n",
       "      <td>1964</td>\n",
       "      <td>Summer</td>\n",
       "      <td>23</td>\n",
       "      <td>NaN</td>\n",
       "      <td>NaN</td>\n",
       "      <td>NaN</td>\n",
       "    </tr>\n",
       "    <tr>\n",
       "      <th>4</th>\n",
       "      <td>1968</td>\n",
       "      <td>Summer</td>\n",
       "      <td>9</td>\n",
       "      <td>NaN</td>\n",
       "      <td>NaN</td>\n",
       "      <td>NaN</td>\n",
       "    </tr>\n",
       "    <tr>\n",
       "      <th>5</th>\n",
       "      <td>1972</td>\n",
       "      <td>Summer</td>\n",
       "      <td>2</td>\n",
       "      <td>NaN</td>\n",
       "      <td>NaN</td>\n",
       "      <td>NaN</td>\n",
       "    </tr>\n",
       "    <tr>\n",
       "      <th>6</th>\n",
       "      <td>1980</td>\n",
       "      <td>Summer</td>\n",
       "      <td>38</td>\n",
       "      <td>NaN</td>\n",
       "      <td>NaN</td>\n",
       "      <td>NaN</td>\n",
       "    </tr>\n",
       "    <tr>\n",
       "      <th>7</th>\n",
       "      <td>1988</td>\n",
       "      <td>Summer</td>\n",
       "      <td>12</td>\n",
       "      <td>NaN</td>\n",
       "      <td>NaN</td>\n",
       "      <td>NaN</td>\n",
       "    </tr>\n",
       "    <tr>\n",
       "      <th>8</th>\n",
       "      <td>1992</td>\n",
       "      <td>Summer</td>\n",
       "      <td>10</td>\n",
       "      <td>NaN</td>\n",
       "      <td>NaN</td>\n",
       "      <td>NaN</td>\n",
       "    </tr>\n",
       "    <tr>\n",
       "      <th>9</th>\n",
       "      <td>1996</td>\n",
       "      <td>Summer</td>\n",
       "      <td>6</td>\n",
       "      <td>NaN</td>\n",
       "      <td>NaN</td>\n",
       "      <td>NaN</td>\n",
       "    </tr>\n",
       "    <tr>\n",
       "      <th>10</th>\n",
       "      <td>2000</td>\n",
       "      <td>Summer</td>\n",
       "      <td>7</td>\n",
       "      <td>NaN</td>\n",
       "      <td>1.0</td>\n",
       "      <td>NaN</td>\n",
       "    </tr>\n",
       "    <tr>\n",
       "      <th>11</th>\n",
       "      <td>2004</td>\n",
       "      <td>Summer</td>\n",
       "      <td>11</td>\n",
       "      <td>NaN</td>\n",
       "      <td>NaN</td>\n",
       "      <td>NaN</td>\n",
       "    </tr>\n",
       "    <tr>\n",
       "      <th>12</th>\n",
       "      <td>2008</td>\n",
       "      <td>Summer</td>\n",
       "      <td>18</td>\n",
       "      <td>NaN</td>\n",
       "      <td>1.0</td>\n",
       "      <td>NaN</td>\n",
       "    </tr>\n",
       "    <tr>\n",
       "      <th>13</th>\n",
       "      <td>2012</td>\n",
       "      <td>Summer</td>\n",
       "      <td>24</td>\n",
       "      <td>NaN</td>\n",
       "      <td>NaN</td>\n",
       "      <td>NaN</td>\n",
       "    </tr>\n",
       "    <tr>\n",
       "      <th>14</th>\n",
       "      <td>2016</td>\n",
       "      <td>Summer</td>\n",
       "      <td>28</td>\n",
       "      <td>1.0</td>\n",
       "      <td>1.0</td>\n",
       "      <td>NaN</td>\n",
       "    </tr>\n",
       "  </tbody>\n",
       "</table>\n",
       "</div>"
      ],
      "text/plain": [
       "    Year  Season  number of athletes  Gold  Silver  Bronze\n",
       "0   1952  Summer                  13   NaN     NaN     NaN\n",
       "1   1956  Summer                  10   NaN     NaN     NaN\n",
       "2   1960  Summer                   5   NaN     NaN     NaN\n",
       "3   1964  Summer                  23   NaN     NaN     NaN\n",
       "4   1968  Summer                   9   NaN     NaN     NaN\n",
       "5   1972  Summer                   2   NaN     NaN     NaN\n",
       "6   1980  Summer                  38   NaN     NaN     NaN\n",
       "7   1988  Summer                  12   NaN     NaN     NaN\n",
       "8   1992  Summer                  10   NaN     NaN     NaN\n",
       "9   1996  Summer                   6   NaN     NaN     NaN\n",
       "10  2000  Summer                   7   NaN     1.0     NaN\n",
       "11  2004  Summer                  11   NaN     NaN     NaN\n",
       "12  2008  Summer                  18   NaN     1.0     NaN\n",
       "13  2012  Summer                  24   NaN     NaN     NaN\n",
       "14  2016  Summer                  28   1.0     1.0     NaN"
      ]
     },
     "execution_count": 31,
     "metadata": {},
     "output_type": "execute_result"
    }
   ],
   "source": [
    "for c in ['Year', 'number of athletes', 'Gold', 'Silver', 'Bronze']:\n",
    "    if c not in list(df_vn.columns):\n",
    "        df_vn[c] = np.nan\n",
    "df_vn = df_vn[['Year', 'Season', 'number of athletes', 'Gold', 'Silver', 'Bronze']]"
   ]
  },
  {
   "cell_type": "markdown",
   "metadata": {},
   "source": [
    "Việt Nam là quốc gia không có mùa đông băng tuyết, vận động viên sẽ không có đủ điều kiện luyện tập, thường phải luyện tập ở nước ngoài. Vì những điều kiện khó khăn đó cho nên từ 1952 đến 2016 Việt Nam chưa từng tham dự Olympic mùa Đông.\n",
    "\n",
    "Vì lý do kinh tế và chính trị, Việt Nam không tham dự hai kỳ Olympic mùa Hè 1976 và 1984. "
   ]
  },
  {
   "cell_type": "markdown",
   "metadata": {},
   "source": [
    "- Ta thêm 2 dòng bị thiếu là 2 năm mà Việt Nam không tham dự."
   ]
  },
  {
   "cell_type": "code",
   "execution_count": 32,
   "metadata": {},
   "outputs": [
    {
     "data": {
      "text/html": [
       "<div>\n",
       "<style scoped>\n",
       "    .dataframe tbody tr th:only-of-type {\n",
       "        vertical-align: middle;\n",
       "    }\n",
       "\n",
       "    .dataframe tbody tr th {\n",
       "        vertical-align: top;\n",
       "    }\n",
       "\n",
       "    .dataframe thead th {\n",
       "        text-align: right;\n",
       "    }\n",
       "</style>\n",
       "<table border=\"1\" class=\"dataframe\">\n",
       "  <thead>\n",
       "    <tr style=\"text-align: right;\">\n",
       "      <th></th>\n",
       "      <th>Year</th>\n",
       "      <th>Season</th>\n",
       "      <th>number of athletes</th>\n",
       "      <th>Gold</th>\n",
       "      <th>Silver</th>\n",
       "      <th>Bronze</th>\n",
       "    </tr>\n",
       "  </thead>\n",
       "  <tbody>\n",
       "    <tr>\n",
       "      <th>0</th>\n",
       "      <td>1952</td>\n",
       "      <td>Summer</td>\n",
       "      <td>13.0</td>\n",
       "      <td>NaN</td>\n",
       "      <td>NaN</td>\n",
       "      <td>NaN</td>\n",
       "    </tr>\n",
       "    <tr>\n",
       "      <th>1</th>\n",
       "      <td>1956</td>\n",
       "      <td>Summer</td>\n",
       "      <td>10.0</td>\n",
       "      <td>NaN</td>\n",
       "      <td>NaN</td>\n",
       "      <td>NaN</td>\n",
       "    </tr>\n",
       "    <tr>\n",
       "      <th>2</th>\n",
       "      <td>1960</td>\n",
       "      <td>Summer</td>\n",
       "      <td>5.0</td>\n",
       "      <td>NaN</td>\n",
       "      <td>NaN</td>\n",
       "      <td>NaN</td>\n",
       "    </tr>\n",
       "    <tr>\n",
       "      <th>3</th>\n",
       "      <td>1964</td>\n",
       "      <td>Summer</td>\n",
       "      <td>23.0</td>\n",
       "      <td>NaN</td>\n",
       "      <td>NaN</td>\n",
       "      <td>NaN</td>\n",
       "    </tr>\n",
       "    <tr>\n",
       "      <th>4</th>\n",
       "      <td>1968</td>\n",
       "      <td>Summer</td>\n",
       "      <td>9.0</td>\n",
       "      <td>NaN</td>\n",
       "      <td>NaN</td>\n",
       "      <td>NaN</td>\n",
       "    </tr>\n",
       "    <tr>\n",
       "      <th>5</th>\n",
       "      <td>1972</td>\n",
       "      <td>Summer</td>\n",
       "      <td>2.0</td>\n",
       "      <td>NaN</td>\n",
       "      <td>NaN</td>\n",
       "      <td>NaN</td>\n",
       "    </tr>\n",
       "    <tr>\n",
       "      <th>6</th>\n",
       "      <td>1980</td>\n",
       "      <td>Summer</td>\n",
       "      <td>38.0</td>\n",
       "      <td>NaN</td>\n",
       "      <td>NaN</td>\n",
       "      <td>NaN</td>\n",
       "    </tr>\n",
       "    <tr>\n",
       "      <th>7</th>\n",
       "      <td>1988</td>\n",
       "      <td>Summer</td>\n",
       "      <td>12.0</td>\n",
       "      <td>NaN</td>\n",
       "      <td>NaN</td>\n",
       "      <td>NaN</td>\n",
       "    </tr>\n",
       "    <tr>\n",
       "      <th>8</th>\n",
       "      <td>1992</td>\n",
       "      <td>Summer</td>\n",
       "      <td>10.0</td>\n",
       "      <td>NaN</td>\n",
       "      <td>NaN</td>\n",
       "      <td>NaN</td>\n",
       "    </tr>\n",
       "    <tr>\n",
       "      <th>9</th>\n",
       "      <td>1996</td>\n",
       "      <td>Summer</td>\n",
       "      <td>6.0</td>\n",
       "      <td>NaN</td>\n",
       "      <td>NaN</td>\n",
       "      <td>NaN</td>\n",
       "    </tr>\n",
       "    <tr>\n",
       "      <th>10</th>\n",
       "      <td>2000</td>\n",
       "      <td>Summer</td>\n",
       "      <td>7.0</td>\n",
       "      <td>NaN</td>\n",
       "      <td>1.0</td>\n",
       "      <td>NaN</td>\n",
       "    </tr>\n",
       "    <tr>\n",
       "      <th>11</th>\n",
       "      <td>2004</td>\n",
       "      <td>Summer</td>\n",
       "      <td>11.0</td>\n",
       "      <td>NaN</td>\n",
       "      <td>NaN</td>\n",
       "      <td>NaN</td>\n",
       "    </tr>\n",
       "    <tr>\n",
       "      <th>12</th>\n",
       "      <td>2008</td>\n",
       "      <td>Summer</td>\n",
       "      <td>18.0</td>\n",
       "      <td>NaN</td>\n",
       "      <td>1.0</td>\n",
       "      <td>NaN</td>\n",
       "    </tr>\n",
       "    <tr>\n",
       "      <th>13</th>\n",
       "      <td>2012</td>\n",
       "      <td>Summer</td>\n",
       "      <td>24.0</td>\n",
       "      <td>NaN</td>\n",
       "      <td>NaN</td>\n",
       "      <td>NaN</td>\n",
       "    </tr>\n",
       "    <tr>\n",
       "      <th>14</th>\n",
       "      <td>2016</td>\n",
       "      <td>Summer</td>\n",
       "      <td>28.0</td>\n",
       "      <td>1.0</td>\n",
       "      <td>1.0</td>\n",
       "      <td>NaN</td>\n",
       "    </tr>\n",
       "    <tr>\n",
       "      <th>15</th>\n",
       "      <td>1976</td>\n",
       "      <td>Summer</td>\n",
       "      <td>NaN</td>\n",
       "      <td>NaN</td>\n",
       "      <td>NaN</td>\n",
       "      <td>NaN</td>\n",
       "    </tr>\n",
       "    <tr>\n",
       "      <th>16</th>\n",
       "      <td>1984</td>\n",
       "      <td>Summer</td>\n",
       "      <td>NaN</td>\n",
       "      <td>NaN</td>\n",
       "      <td>NaN</td>\n",
       "      <td>NaN</td>\n",
       "    </tr>\n",
       "  </tbody>\n",
       "</table>\n",
       "</div>"
      ],
      "text/plain": [
       "    Year  Season  number of athletes  Gold  Silver  Bronze\n",
       "0   1952  Summer                13.0   NaN     NaN     NaN\n",
       "1   1956  Summer                10.0   NaN     NaN     NaN\n",
       "2   1960  Summer                 5.0   NaN     NaN     NaN\n",
       "3   1964  Summer                23.0   NaN     NaN     NaN\n",
       "4   1968  Summer                 9.0   NaN     NaN     NaN\n",
       "5   1972  Summer                 2.0   NaN     NaN     NaN\n",
       "6   1980  Summer                38.0   NaN     NaN     NaN\n",
       "7   1988  Summer                12.0   NaN     NaN     NaN\n",
       "8   1992  Summer                10.0   NaN     NaN     NaN\n",
       "9   1996  Summer                 6.0   NaN     NaN     NaN\n",
       "10  2000  Summer                 7.0   NaN     1.0     NaN\n",
       "11  2004  Summer                11.0   NaN     NaN     NaN\n",
       "12  2008  Summer                18.0   NaN     1.0     NaN\n",
       "13  2012  Summer                24.0   NaN     NaN     NaN\n",
       "14  2016  Summer                28.0   1.0     1.0     NaN\n",
       "15  1976  Summer                 NaN   NaN     NaN     NaN\n",
       "16  1984  Summer                 NaN   NaN     NaN     NaN"
      ]
     },
     "execution_count": 32,
     "metadata": {},
     "output_type": "execute_result"
    }
   ],
   "source": [
    "df_vn.loc[df_vn.shape[0]] = {'Year':1976, 'Season':'Summer'}\n",
    "df_vn.loc[df_vn.shape[0]] = {'Year':1984, 'Season':'Summer'}"
   ]
  },
  {
   "cell_type": "markdown",
   "metadata": {},
   "source": [
    "Việt Nam lần đầu tham dự Thế vận hội với tư cách là một quốc gia thống nhất là vào năm 1980. Cho nên ta sẽ chỉ phân tích dữ liệu từ năm 1980."
   ]
  },
  {
   "cell_type": "code",
   "execution_count": 33,
   "metadata": {},
   "outputs": [
    {
     "data": {
      "text/html": [
       "<div>\n",
       "<style scoped>\n",
       "    .dataframe tbody tr th:only-of-type {\n",
       "        vertical-align: middle;\n",
       "    }\n",
       "\n",
       "    .dataframe tbody tr th {\n",
       "        vertical-align: top;\n",
       "    }\n",
       "\n",
       "    .dataframe thead th {\n",
       "        text-align: right;\n",
       "    }\n",
       "</style>\n",
       "<table border=\"1\" class=\"dataframe\">\n",
       "  <thead>\n",
       "    <tr style=\"text-align: right;\">\n",
       "      <th></th>\n",
       "      <th>Season</th>\n",
       "      <th>number of athletes</th>\n",
       "      <th>Gold</th>\n",
       "      <th>Silver</th>\n",
       "      <th>Bronze</th>\n",
       "    </tr>\n",
       "    <tr>\n",
       "      <th>Year</th>\n",
       "      <th></th>\n",
       "      <th></th>\n",
       "      <th></th>\n",
       "      <th></th>\n",
       "      <th></th>\n",
       "    </tr>\n",
       "  </thead>\n",
       "  <tbody>\n",
       "    <tr>\n",
       "      <th>1980</th>\n",
       "      <td>Summer</td>\n",
       "      <td>38.0</td>\n",
       "      <td>NaN</td>\n",
       "      <td>NaN</td>\n",
       "      <td>NaN</td>\n",
       "    </tr>\n",
       "    <tr>\n",
       "      <th>1984</th>\n",
       "      <td>Summer</td>\n",
       "      <td>NaN</td>\n",
       "      <td>NaN</td>\n",
       "      <td>NaN</td>\n",
       "      <td>NaN</td>\n",
       "    </tr>\n",
       "    <tr>\n",
       "      <th>1988</th>\n",
       "      <td>Summer</td>\n",
       "      <td>12.0</td>\n",
       "      <td>NaN</td>\n",
       "      <td>NaN</td>\n",
       "      <td>NaN</td>\n",
       "    </tr>\n",
       "    <tr>\n",
       "      <th>1992</th>\n",
       "      <td>Summer</td>\n",
       "      <td>10.0</td>\n",
       "      <td>NaN</td>\n",
       "      <td>NaN</td>\n",
       "      <td>NaN</td>\n",
       "    </tr>\n",
       "    <tr>\n",
       "      <th>1996</th>\n",
       "      <td>Summer</td>\n",
       "      <td>6.0</td>\n",
       "      <td>NaN</td>\n",
       "      <td>NaN</td>\n",
       "      <td>NaN</td>\n",
       "    </tr>\n",
       "    <tr>\n",
       "      <th>2000</th>\n",
       "      <td>Summer</td>\n",
       "      <td>7.0</td>\n",
       "      <td>NaN</td>\n",
       "      <td>1.0</td>\n",
       "      <td>NaN</td>\n",
       "    </tr>\n",
       "    <tr>\n",
       "      <th>2004</th>\n",
       "      <td>Summer</td>\n",
       "      <td>11.0</td>\n",
       "      <td>NaN</td>\n",
       "      <td>NaN</td>\n",
       "      <td>NaN</td>\n",
       "    </tr>\n",
       "    <tr>\n",
       "      <th>2008</th>\n",
       "      <td>Summer</td>\n",
       "      <td>18.0</td>\n",
       "      <td>NaN</td>\n",
       "      <td>1.0</td>\n",
       "      <td>NaN</td>\n",
       "    </tr>\n",
       "    <tr>\n",
       "      <th>2012</th>\n",
       "      <td>Summer</td>\n",
       "      <td>24.0</td>\n",
       "      <td>NaN</td>\n",
       "      <td>NaN</td>\n",
       "      <td>NaN</td>\n",
       "    </tr>\n",
       "    <tr>\n",
       "      <th>2016</th>\n",
       "      <td>Summer</td>\n",
       "      <td>28.0</td>\n",
       "      <td>1.0</td>\n",
       "      <td>1.0</td>\n",
       "      <td>NaN</td>\n",
       "    </tr>\n",
       "  </tbody>\n",
       "</table>\n",
       "</div>"
      ],
      "text/plain": [
       "      Season  number of athletes  Gold  Silver  Bronze\n",
       "Year                                                  \n",
       "1980  Summer                38.0   NaN     NaN     NaN\n",
       "1984  Summer                 NaN   NaN     NaN     NaN\n",
       "1988  Summer                12.0   NaN     NaN     NaN\n",
       "1992  Summer                10.0   NaN     NaN     NaN\n",
       "1996  Summer                 6.0   NaN     NaN     NaN\n",
       "2000  Summer                 7.0   NaN     1.0     NaN\n",
       "2004  Summer                11.0   NaN     NaN     NaN\n",
       "2008  Summer                18.0   NaN     1.0     NaN\n",
       "2012  Summer                24.0   NaN     NaN     NaN\n",
       "2016  Summer                28.0   1.0     1.0     NaN"
      ]
     },
     "execution_count": 33,
     "metadata": {},
     "output_type": "execute_result"
    }
   ],
   "source": [
    "df_vn = df_vn.drop([x for x in df_vn.index if df_vn.loc[x,'Year'] < 1980]).set_index('Year').sort_index()\n",
    "df_vn"
   ]
  },
  {
   "cell_type": "code",
   "execution_count": 34,
   "metadata": {},
   "outputs": [
    {
     "data": {
      "image/png": "[encoded data removed]",
      "text/plain": [
       "<Figure size 1500x500 with 1 Axes>"
      ]
     },
     "metadata": {},
     "output_type": "display_data"
    }
   ],
   "source": [
    "df_vn['number of athletes'].plot(linestyle = '-', marker = 'o', alpha = 0.9, figsize = (15,5), linewidth = 2)\n",
    "plt.xlabel('Năm')\n",
    "plt.xticks(df_vn.index)\n",
    "plt.ylabel('Số lượng vận động viên')\n",
    "plt.title('Số lượng vận động viên Việt Nam tham dự Olympic từ 1980-2016')\n",
    "plt.show()"
   ]
  },
  {
   "cell_type": "markdown",
   "metadata": {},
   "source": [
    "Số lượng vận động viên Việt Nam tăng liên tục từ năm 1996 đến 2016."
   ]
  },
  {
   "cell_type": "code",
   "execution_count": 35,
   "metadata": {},
   "outputs": [
    {
     "data": {
      "image/png": "[encoded data removed]",
      "text/plain": [
       "<Figure size 1000x200 with 1 Axes>"
      ]
     },
     "metadata": {},
     "output_type": "display_data"
    }
   ],
   "source": [
    "df_vn.plot(y = [\"Gold\", \"Silver\",'Bronze'], kind = \"bar\", figsize = (10, 2))\n",
    "plt.xlabel('Năm')\n",
    "plt.ylabel('Số lượng Huy Chương')\n",
    "plt.title('Thành tích của thể thao Việt Nam từ 1980 -2016')\n",
    "plt.show()"
   ]
  },
  {
   "cell_type": "markdown",
   "metadata": {},
   "source": [
    "Tổng số huy chương mà Việt Nam đã dành được:"
   ]
  },
  {
   "cell_type": "code",
   "execution_count": 36,
   "metadata": {},
   "outputs": [
    {
     "data": {
      "text/plain": [
       "4.0"
      ]
     },
     "execution_count": 36,
     "metadata": {},
     "output_type": "execute_result"
    }
   ],
   "source": [
    "df_vn[['Gold','Silver','Bronze']].sum().sum()"
   ]
  },
  {
   "cell_type": "markdown",
   "metadata": {},
   "source": [
    "Các vận động viên dành được huy chương:"
   ]
  },
  {
   "cell_type": "code",
   "execution_count": 37,
   "metadata": {},
   "outputs": [
    {
     "data": {
      "text/html": [
       "<div>\n",
       "<style scoped>\n",
       "    .dataframe tbody tr th:only-of-type {\n",
       "        vertical-align: middle;\n",
       "    }\n",
       "\n",
       "    .dataframe tbody tr th {\n",
       "        vertical-align: top;\n",
       "    }\n",
       "\n",
       "    .dataframe thead th {\n",
       "        text-align: right;\n",
       "    }\n",
       "</style>\n",
       "<table border=\"1\" class=\"dataframe\">\n",
       "  <thead>\n",
       "    <tr style=\"text-align: right;\">\n",
       "      <th></th>\n",
       "      <th>ID</th>\n",
       "      <th>Name</th>\n",
       "      <th>Sex</th>\n",
       "      <th>Age</th>\n",
       "      <th>Height</th>\n",
       "      <th>Weight</th>\n",
       "      <th>Team</th>\n",
       "      <th>NOC</th>\n",
       "      <th>Games</th>\n",
       "      <th>Year</th>\n",
       "      <th>Season</th>\n",
       "      <th>City</th>\n",
       "      <th>Sport</th>\n",
       "      <th>Event</th>\n",
       "      <th>Medal</th>\n",
       "      <th>region</th>\n",
       "      <th>isWon</th>\n",
       "      <th>isTeamSport</th>\n",
       "    </tr>\n",
       "  </thead>\n",
       "  <tbody>\n",
       "    <tr>\n",
       "      <th>96703</th>\n",
       "      <td>48962</td>\n",
       "      <td>Hong Anh Tun</td>\n",
       "      <td>M</td>\n",
       "      <td>23.0</td>\n",
       "      <td>152.0</td>\n",
       "      <td>56.0</td>\n",
       "      <td>Vietnam</td>\n",
       "      <td>VIE</td>\n",
       "      <td>2008 Summer</td>\n",
       "      <td>2008</td>\n",
       "      <td>Summer</td>\n",
       "      <td>Beijing</td>\n",
       "      <td>Weightlifting</td>\n",
       "      <td>Weightlifting Men's Bantamweight</td>\n",
       "      <td>Silver</td>\n",
       "      <td>Vietnam</td>\n",
       "      <td>True</td>\n",
       "      <td>False</td>\n",
       "    </tr>\n",
       "    <tr>\n",
       "      <th>96709</th>\n",
       "      <td>48966</td>\n",
       "      <td>Hong Xun Vinh</td>\n",
       "      <td>M</td>\n",
       "      <td>41.0</td>\n",
       "      <td>175.0</td>\n",
       "      <td>75.0</td>\n",
       "      <td>Vietnam</td>\n",
       "      <td>VIE</td>\n",
       "      <td>2016 Summer</td>\n",
       "      <td>2016</td>\n",
       "      <td>Summer</td>\n",
       "      <td>Rio de Janeiro</td>\n",
       "      <td>Shooting</td>\n",
       "      <td>Shooting Men's Air Pistol, 10 metres</td>\n",
       "      <td>Gold</td>\n",
       "      <td>Vietnam</td>\n",
       "      <td>True</td>\n",
       "      <td>False</td>\n",
       "    </tr>\n",
       "    <tr>\n",
       "      <th>96710</th>\n",
       "      <td>48966</td>\n",
       "      <td>Hong Xun Vinh</td>\n",
       "      <td>M</td>\n",
       "      <td>41.0</td>\n",
       "      <td>175.0</td>\n",
       "      <td>75.0</td>\n",
       "      <td>Vietnam</td>\n",
       "      <td>VIE</td>\n",
       "      <td>2016 Summer</td>\n",
       "      <td>2016</td>\n",
       "      <td>Summer</td>\n",
       "      <td>Rio de Janeiro</td>\n",
       "      <td>Shooting</td>\n",
       "      <td>Shooting Men's Free Pistol, 50 metres</td>\n",
       "      <td>Silver</td>\n",
       "      <td>Vietnam</td>\n",
       "      <td>True</td>\n",
       "      <td>False</td>\n",
       "    </tr>\n",
       "    <tr>\n",
       "      <th>242905</th>\n",
       "      <td>121646</td>\n",
       "      <td>Trn Hiu Ngn</td>\n",
       "      <td>F</td>\n",
       "      <td>26.0</td>\n",
       "      <td>157.0</td>\n",
       "      <td>47.0</td>\n",
       "      <td>Vietnam</td>\n",
       "      <td>VIE</td>\n",
       "      <td>2000 Summer</td>\n",
       "      <td>2000</td>\n",
       "      <td>Summer</td>\n",
       "      <td>Sydney</td>\n",
       "      <td>Taekwondo</td>\n",
       "      <td>Taekwondo Women's Featherweight</td>\n",
       "      <td>Silver</td>\n",
       "      <td>Vietnam</td>\n",
       "      <td>True</td>\n",
       "      <td>False</td>\n",
       "    </tr>\n",
       "  </tbody>\n",
       "</table>\n",
       "</div>"
      ],
      "text/plain": [
       "            ID           Name Sex   Age  Height  Weight     Team  NOC  \\\n",
       "96703    48962   Hong Anh Tun   M  23.0   152.0    56.0  Vietnam  VIE   \n",
       "96709    48966  Hong Xun Vinh   M  41.0   175.0    75.0  Vietnam  VIE   \n",
       "96710    48966  Hong Xun Vinh   M  41.0   175.0    75.0  Vietnam  VIE   \n",
       "242905  121646    Trn Hiu Ngn   F  26.0   157.0    47.0  Vietnam  VIE   \n",
       "\n",
       "              Games  Year  Season            City          Sport  \\\n",
       "96703   2008 Summer  2008  Summer         Beijing  Weightlifting   \n",
       "96709   2016 Summer  2016  Summer  Rio de Janeiro       Shooting   \n",
       "96710   2016 Summer  2016  Summer  Rio de Janeiro       Shooting   \n",
       "242905  2000 Summer  2000  Summer          Sydney      Taekwondo   \n",
       "\n",
       "                                        Event   Medal   region  isWon  \\\n",
       "96703        Weightlifting Men's Bantamweight  Silver  Vietnam   True   \n",
       "96709    Shooting Men's Air Pistol, 10 metres    Gold  Vietnam   True   \n",
       "96710   Shooting Men's Free Pistol, 50 metres  Silver  Vietnam   True   \n",
       "242905        Taekwondo Women's Featherweight  Silver  Vietnam   True   \n",
       "\n",
       "        isTeamSport  \n",
       "96703         False  \n",
       "96709         False  \n",
       "96710         False  \n",
       "242905        False  "
      ]
     },
     "execution_count": 37,
     "metadata": {},
     "output_type": "execute_result"
    }
   ],
   "source": [
    "ethlete_df.query(\"region=='Vietnam' & isWon==1\")"
   ]
  },
  {
   "cell_type": "markdown",
   "metadata": {},
   "source": [
    "Gần 4 thập kỷ trôi qua từ lần đầu tiên góp mặt tại các kỳ Olympic, thể thao Việt Nam mới có 4 VĐV đoạt huy chương, trong đó xạ thủ bắn súng Hoàng Xuân Vinh là người duy nhất sở hữu HCV."
   ]
  },
  {
   "cell_type": "markdown",
   "metadata": {},
   "source": [
    "- Olympic Moscow (Nga) 1980: Đoàn TTVN tham dự với 38 VĐV, không giành huy chương.\n",
    "\n",
    "- Olympic Seoul (Hàn Quốc) 1988: Tham dự với 12 VĐV, không giành huy chương.\n",
    "\n",
    "- Olympic Barcelona (Tây Ban Nha) 1992: Tham dự với 10 VĐV, không giành huy chương.\n",
    "\n",
    "- Olympic Atlanta (Mỹ) 1996: Tham dự với 6 VĐV, không giành huy chương.\n",
    "\n",
    "- Olympic Sydney (Australia) 2000: Tham dự với 7 VĐV, lần đầu tiên có tên trên bảng tổng sắp huy chương, với tấm HCB của nữ võ sĩ taekwondo Trần Hiếu Ngân ở hạng cân 57kg.\n",
    "\n",
    "- Olympic Athens (Hy Lạp) 2004: Tham dự với 11 VĐV, không giành huy chương.\n",
    "\n",
    "- Olympic Bắc Kinh (Trung Quốc) 2008: Tham dự với 18 VĐV, giành 1 HCB nhờ công của lực sỹ cử tạ Hoàng Anh Tuấn (hạng 56 kg nam).\n",
    "\n",
    "- Olympic London (Anh) 2012: Tham dự với 24 VĐV, giành 1 HCĐ sau khi Trần Lê Quốc Toàn được đôn từ hạng tư nội dung 56kg lên vị trí thứ ba, thế chỗ VĐV của Azerbajan bị tước huy chương vì doping.\n",
    "\n",
    "- Olympic Rio (Brazil) 2016: Tham dự với 28 VĐV, trong đó xạ thủ bắn súng Hoàng Xuân Vinh xuất sắc giành 1 HCV nội dung 10m súng ngắn hơi và 1 HCB nội dung 50m súng ngắn."
   ]
  }
 ],
 "metadata": {
  "kernelspec": {
   "display_name": "Python 3",
   "language": "python",
   "name": "python3"
  },
  "language_info": {
   "codemirror_mode": {
    "name": "ipython",
    "version": 3
   },
   "file_extension": ".py",
   "mimetype": "text/x-python",
   "name": "python",
   "nbconvert_exporter": "python",
   "pygments_lexer": "ipython3",
   "version": "3.9.12"
  },
  "vscode": {
   "interpreter": {
    "hash": "b8bbeeb7d4b7b0bec07e47d92ef53d11e20a4aabc56a5bb369660a2386c50b21"
   }
  }
 },
 "nbformat": 4,
 "nbformat_minor": 2
}
