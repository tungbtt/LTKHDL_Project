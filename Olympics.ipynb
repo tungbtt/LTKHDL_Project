{
 "cells": [
  {
   "cell_type": "markdown",
   "metadata": {},
   "source": [
    "# ĐỒ ÁN THỰC HÀNH: LẬP TRÌNH CHO KHOA HỌC DỮ LIỆU\n",
    "\n",
    "- Môn học: Lập Trình Cho Khoa Học Dữ Liệu\n",
    "- Nhóm: 6"
   ]
  },
  {
   "cell_type": "markdown",
   "metadata": {},
   "source": [
    "## 1. Thu thập dữ liệu"
   ]
  },
  {
   "cell_type": "markdown",
   "metadata": {},
   "source": [
    "Đây là bộ dữ liệu lịch sử về Thế vận hội Olympic hiện đại, bao gồm tất cả các Thế vận hội từ Athens 1896 đến Rio 2016.\n",
    "Lưu ý rằng Thế vận hội Mùa đông và Mùa hè được tổ chức trong cùng một năm cho đến năm 1992. Sau đó, họ mới xen kẽ chúng (2 năm/lần): Thế vận hội Mùa đông diễn ra năm 1994, sau đó là Mùa hè năm 1996, rồi Mùa đông năm 1998, v.v. . Một sai lầm phổ biến mà mọi người mắc phải khi phân tích dữ liệu này là cho rằng Thế vận hội Mùa hè và Mùa đông luôn luôn được sắp xếp xen kẽ."
   ]
  },
  {
   "cell_type": "markdown",
   "metadata": {},
   "source": [
    "Link dataset: `https://www.kaggle.com/datasets/heesoo37/120-years-of-olympic-history-athletes-and-results`"
   ]
  },
  {
   "cell_type": "markdown",
   "metadata": {},
   "source": [
    "License: CC0: Public Domain (không có bản quyền, cho phép mọi người có thể sao chép, sửa đổi, phân phối hay ngay cả sử dụng với mục đích thương mại mà không cần phải xin phép)."
   ]
  },
  {
   "cell_type": "markdown",
   "metadata": {},
   "source": [
    "Cách thu thập dữ liệu: Tác giả đã sử dụng R để cào dữ liệu từ website `www.sports-reference.com` vào tháng 5/2018. Dữ liệu của website là kết quả 1 cuộc nghiên cứu quy mô lớn của 1 nhóm những người đam mê lịch sử Thế vận hội và những người tự xưng mình là 'nhà thống kê'."
   ]
  },
  {
   "cell_type": "markdown",
   "metadata": {},
   "source": [
    "## 2. Khám phá dữ liệu"
   ]
  },
  {
   "cell_type": "markdown",
   "metadata": {},
   "source": [
    "### Import các thư viện"
   ]
  },
  {
   "cell_type": "code",
   "execution_count": 1,
   "metadata": {},
   "outputs": [
    {
     "data": {
      "text/plain": [
       "'C:\\\\Users\\\\hungv\\\\.conda\\\\envs\\\\min_ds-env\\\\python.exe'"
      ]
     },
     "execution_count": 1,
     "metadata": {},
     "output_type": "execute_result"
    }
   ],
   "source": [
    "import sys\n",
    "sys.executable"
   ]
  },
  {
   "cell_type": "code",
   "execution_count": 2,
   "metadata": {},
   "outputs": [],
   "source": [
    "import pandas as pd\n",
    "import matplotlib.pyplot as plt\n",
    "import numpy as np\n",
    "import seaborn as sns\n",
    "sns.set_theme()\n",
    "\n",
    "# remove warnings\n",
    "import warnings\n",
    "warnings.simplefilter('ignore')\n",
    "\n",
    "#Nếu chưa có pycountry thì bỏ dấu # ở dưới rồi run để install\n",
    "#!pip install pycountry\n",
    "import pycountry"
   ]
  },
  {
   "cell_type": "markdown",
   "metadata": {},
   "source": [
    "### Đọc dữ liệu từ file csv vào dataframe"
   ]
  },
  {
   "cell_type": "markdown",
   "metadata": {},
   "source": [
    "File `athlete_events.csv` cho biết những thông tin về các vận động viên đã tham gia Olympics."
   ]
  },
  {
   "cell_type": "code",
   "execution_count": 3,
   "metadata": {},
   "outputs": [
    {
     "data": {
      "text/html": [
       "<div>\n",
       "<style scoped>\n",
       "    .dataframe tbody tr th:only-of-type {\n",
       "        vertical-align: middle;\n",
       "    }\n",
       "\n",
       "    .dataframe tbody tr th {\n",
       "        vertical-align: top;\n",
       "    }\n",
       "\n",
       "    .dataframe thead th {\n",
       "        text-align: right;\n",
       "    }\n",
       "</style>\n",
       "<table border=\"1\" class=\"dataframe\">\n",
       "  <thead>\n",
       "    <tr style=\"text-align: right;\">\n",
       "      <th></th>\n",
       "      <th>ID</th>\n",
       "      <th>Name</th>\n",
       "      <th>Sex</th>\n",
       "      <th>Age</th>\n",
       "      <th>Height</th>\n",
       "      <th>Weight</th>\n",
       "      <th>Team</th>\n",
       "      <th>NOC</th>\n",
       "      <th>Games</th>\n",
       "      <th>Year</th>\n",
       "      <th>Season</th>\n",
       "      <th>City</th>\n",
       "      <th>Sport</th>\n",
       "      <th>Event</th>\n",
       "      <th>Medal</th>\n",
       "    </tr>\n",
       "  </thead>\n",
       "  <tbody>\n",
       "    <tr>\n",
       "      <th>0</th>\n",
       "      <td>1</td>\n",
       "      <td>A Dijiang</td>\n",
       "      <td>M</td>\n",
       "      <td>24.0</td>\n",
       "      <td>180.0</td>\n",
       "      <td>80.0</td>\n",
       "      <td>China</td>\n",
       "      <td>CHN</td>\n",
       "      <td>1992 Summer</td>\n",
       "      <td>1992</td>\n",
       "      <td>Summer</td>\n",
       "      <td>Barcelona</td>\n",
       "      <td>Basketball</td>\n",
       "      <td>Basketball Men's Basketball</td>\n",
       "      <td>NaN</td>\n",
       "    </tr>\n",
       "    <tr>\n",
       "      <th>1</th>\n",
       "      <td>2</td>\n",
       "      <td>A Lamusi</td>\n",
       "      <td>M</td>\n",
       "      <td>23.0</td>\n",
       "      <td>170.0</td>\n",
       "      <td>60.0</td>\n",
       "      <td>China</td>\n",
       "      <td>CHN</td>\n",
       "      <td>2012 Summer</td>\n",
       "      <td>2012</td>\n",
       "      <td>Summer</td>\n",
       "      <td>London</td>\n",
       "      <td>Judo</td>\n",
       "      <td>Judo Men's Extra-Lightweight</td>\n",
       "      <td>NaN</td>\n",
       "    </tr>\n",
       "    <tr>\n",
       "      <th>2</th>\n",
       "      <td>3</td>\n",
       "      <td>Gunnar Nielsen Aaby</td>\n",
       "      <td>M</td>\n",
       "      <td>24.0</td>\n",
       "      <td>NaN</td>\n",
       "      <td>NaN</td>\n",
       "      <td>Denmark</td>\n",
       "      <td>DEN</td>\n",
       "      <td>1920 Summer</td>\n",
       "      <td>1920</td>\n",
       "      <td>Summer</td>\n",
       "      <td>Antwerpen</td>\n",
       "      <td>Football</td>\n",
       "      <td>Football Men's Football</td>\n",
       "      <td>NaN</td>\n",
       "    </tr>\n",
       "    <tr>\n",
       "      <th>3</th>\n",
       "      <td>4</td>\n",
       "      <td>Edgar Lindenau Aabye</td>\n",
       "      <td>M</td>\n",
       "      <td>34.0</td>\n",
       "      <td>NaN</td>\n",
       "      <td>NaN</td>\n",
       "      <td>Denmark/Sweden</td>\n",
       "      <td>DEN</td>\n",
       "      <td>1900 Summer</td>\n",
       "      <td>1900</td>\n",
       "      <td>Summer</td>\n",
       "      <td>Paris</td>\n",
       "      <td>Tug-Of-War</td>\n",
       "      <td>Tug-Of-War Men's Tug-Of-War</td>\n",
       "      <td>Gold</td>\n",
       "    </tr>\n",
       "    <tr>\n",
       "      <th>4</th>\n",
       "      <td>5</td>\n",
       "      <td>Christine Jacoba Aaftink</td>\n",
       "      <td>F</td>\n",
       "      <td>21.0</td>\n",
       "      <td>185.0</td>\n",
       "      <td>82.0</td>\n",
       "      <td>Netherlands</td>\n",
       "      <td>NED</td>\n",
       "      <td>1988 Winter</td>\n",
       "      <td>1988</td>\n",
       "      <td>Winter</td>\n",
       "      <td>Calgary</td>\n",
       "      <td>Speed Skating</td>\n",
       "      <td>Speed Skating Women's 500 metres</td>\n",
       "      <td>NaN</td>\n",
       "    </tr>\n",
       "  </tbody>\n",
       "</table>\n",
       "</div>"
      ],
      "text/plain": [
       "   ID                      Name Sex   Age  Height  Weight            Team  \\\n",
       "0   1                 A Dijiang   M  24.0   180.0    80.0           China   \n",
       "1   2                  A Lamusi   M  23.0   170.0    60.0           China   \n",
       "2   3       Gunnar Nielsen Aaby   M  24.0     NaN     NaN         Denmark   \n",
       "3   4      Edgar Lindenau Aabye   M  34.0     NaN     NaN  Denmark/Sweden   \n",
       "4   5  Christine Jacoba Aaftink   F  21.0   185.0    82.0     Netherlands   \n",
       "\n",
       "   NOC        Games  Year  Season       City          Sport  \\\n",
       "0  CHN  1992 Summer  1992  Summer  Barcelona     Basketball   \n",
       "1  CHN  2012 Summer  2012  Summer     London           Judo   \n",
       "2  DEN  1920 Summer  1920  Summer  Antwerpen       Football   \n",
       "3  DEN  1900 Summer  1900  Summer      Paris     Tug-Of-War   \n",
       "4  NED  1988 Winter  1988  Winter    Calgary  Speed Skating   \n",
       "\n",
       "                              Event Medal  \n",
       "0       Basketball Men's Basketball   NaN  \n",
       "1      Judo Men's Extra-Lightweight   NaN  \n",
       "2           Football Men's Football   NaN  \n",
       "3       Tug-Of-War Men's Tug-Of-War  Gold  \n",
       "4  Speed Skating Women's 500 metres   NaN  "
      ]
     },
     "execution_count": 3,
     "metadata": {},
     "output_type": "execute_result"
    }
   ],
   "source": [
    "ethlete_df = pd.read_csv('athlete_events.csv')\n",
    "ethlete_df.head()"
   ]
  },
  {
   "cell_type": "markdown",
   "metadata": {},
   "source": [
    "Còn file `noc_regions.csv` cho biết mỗi mã NOC (National Olympic Committees - Đoàn đại biểu Uỷ ban Olympic quốc gia) sẽ tương ứng với vùng lãnh thổ nào và những ghi chú (nếu có)."
   ]
  },
  {
   "cell_type": "code",
   "execution_count": 4,
   "metadata": {},
   "outputs": [
    {
     "data": {
      "text/html": [
       "<div>\n",
       "<style scoped>\n",
       "    .dataframe tbody tr th:only-of-type {\n",
       "        vertical-align: middle;\n",
       "    }\n",
       "\n",
       "    .dataframe tbody tr th {\n",
       "        vertical-align: top;\n",
       "    }\n",
       "\n",
       "    .dataframe thead th {\n",
       "        text-align: right;\n",
       "    }\n",
       "</style>\n",
       "<table border=\"1\" class=\"dataframe\">\n",
       "  <thead>\n",
       "    <tr style=\"text-align: right;\">\n",
       "      <th></th>\n",
       "      <th>NOC</th>\n",
       "      <th>region</th>\n",
       "      <th>notes</th>\n",
       "    </tr>\n",
       "  </thead>\n",
       "  <tbody>\n",
       "    <tr>\n",
       "      <th>0</th>\n",
       "      <td>AFG</td>\n",
       "      <td>Afghanistan</td>\n",
       "      <td>NaN</td>\n",
       "    </tr>\n",
       "    <tr>\n",
       "      <th>1</th>\n",
       "      <td>AHO</td>\n",
       "      <td>Curacao</td>\n",
       "      <td>Netherlands Antilles</td>\n",
       "    </tr>\n",
       "    <tr>\n",
       "      <th>2</th>\n",
       "      <td>ALB</td>\n",
       "      <td>Albania</td>\n",
       "      <td>NaN</td>\n",
       "    </tr>\n",
       "    <tr>\n",
       "      <th>3</th>\n",
       "      <td>ALG</td>\n",
       "      <td>Algeria</td>\n",
       "      <td>NaN</td>\n",
       "    </tr>\n",
       "    <tr>\n",
       "      <th>4</th>\n",
       "      <td>AND</td>\n",
       "      <td>Andorra</td>\n",
       "      <td>NaN</td>\n",
       "    </tr>\n",
       "  </tbody>\n",
       "</table>\n",
       "</div>"
      ],
      "text/plain": [
       "   NOC       region                 notes\n",
       "0  AFG  Afghanistan                   NaN\n",
       "1  AHO      Curacao  Netherlands Antilles\n",
       "2  ALB      Albania                   NaN\n",
       "3  ALG      Algeria                   NaN\n",
       "4  AND      Andorra                   NaN"
      ]
     },
     "execution_count": 4,
     "metadata": {},
     "output_type": "execute_result"
    }
   ],
   "source": [
    "noc_df = pd.read_csv('noc_regions.csv')\n",
    "noc_df.head()"
   ]
  },
  {
   "cell_type": "markdown",
   "metadata": {},
   "source": [
    "Để thuận lợi cho việc thao tác với dữ liệu, ta sẽ tiến hành gộp 2 dataframe thông qua cột chung là NOC:"
   ]
  },
  {
   "cell_type": "code",
   "execution_count": 5,
   "metadata": {},
   "outputs": [
    {
     "data": {
      "text/plain": [
       "(271116, 17)"
      ]
     },
     "execution_count": 5,
     "metadata": {},
     "output_type": "execute_result"
    }
   ],
   "source": [
    "ethlete_df = ethlete_df.merge(noc_df, on = 'NOC', how = 'left')\n",
<<<<<<< HEAD
    "ethlete_df.shape"
=======
    "ethlete_df.head()"
>>>>>>> c317eca (update commit trước)
   ]
  },
  {
   "cell_type": "markdown",
   "metadata": {},
   "source": [
    "### Dữ liệu gồm có bao nhiêu dòng và bao nhiêu cột?"
   ]
  },
  {
   "cell_type": "markdown",
   "metadata": {},
   "source": [
    "Tính số dòng và số cột và lần lượt lưu vào 2 biến là `num_rows` và `num_cols`. "
   ]
  },
  {
   "cell_type": "code",
   "execution_count": 6,
   "metadata": {},
   "outputs": [
    {
     "name": "stdout",
     "output_type": "stream",
     "text": [
      "Num rows:  271116\n",
      "Num cols:  17\n"
     ]
    }
   ],
   "source": [
    "num_rows, num_cols = ethlete_df.shape\n",
    "print(\"Num rows: \", num_rows)\n",
    "print(\"Num cols: \", num_cols)"
   ]
  },
  {
   "cell_type": "markdown",
   "metadata": {},
   "source": [
    "### Mỗi dòng có ý nghĩa gì? Có vấn đề các dòng có ý nghĩa khác nhau không?"
   ]
  },
  {
   "cell_type": "markdown",
   "metadata": {},
   "source": [
    "Theo mô tả dữ liệu của trang web `www.sports-reference.com` và theo quan sát sơ bộ về dữ liệu thì một dòng cho biết thông tin của một vận động viên tham gia Thế vận hội Mùa đông và Mùa hè."
   ]
  },
  {
   "cell_type": "markdown",
   "metadata": {},
   "source": [
    "### Dữ liệu có các dòng bị lặp không? Nếu có, xử lý những dòng bị lặp"
   ]
  },
  {
   "cell_type": "markdown",
   "metadata": {},
   "source": [
    "Ta sẽ kiểm tra vụ này và lưu kết quả vào biến `have_duplicated_rows`. Biến này sẽ có giá trị True nếu dữ liệu có các dòng bị lặp và có giá trị False nếu ngược."
   ]
  },
  {
   "cell_type": "code",
   "execution_count": 7,
   "metadata": {},
   "outputs": [
    {
     "data": {
      "text/plain": [
       "True"
      ]
     },
     "execution_count": 7,
     "metadata": {},
     "output_type": "execute_result"
    }
   ],
   "source": [
    "have_duplicated_rows = ethlete_df.duplicated().sum() > 0\n",
    "have_duplicated_rows"
   ]
  },
  {
   "cell_type": "markdown",
   "metadata": {},
   "source": [
    "Kết quả kiểm tra cho thấy dữ liệu có dòng bị trùng lắp, do đó ta cần phải loại bỏ những dòng lặp đó đi."
   ]
  },
  {
   "cell_type": "code",
   "execution_count": 8,
   "metadata": {},
   "outputs": [
    {
     "data": {
      "text/plain": [
       "0"
      ]
     },
     "execution_count": 8,
     "metadata": {},
     "output_type": "execute_result"
    }
   ],
   "source": [
    "ethlete_df.drop_duplicates(inplace = True)\n",
    "ethlete_df.duplicated().sum()"
   ]
  },
  {
   "cell_type": "markdown",
   "metadata": {},
   "source": [
    "### Mỗi cột có ý nghĩa gì?"
   ]
  },
  {
   "cell_type": "markdown",
   "metadata": {},
   "source": [
    "Dưới đây là phần mô tả của trang web `www.sports-reference.com` về các cột trong file \"ethlete_event.csv\":\n",
    "- **ID**: Chỉ số duy nhất cho mỗi vận động viên.\n",
    "- **Name**: Tên của vận động viên tham dự.\n",
    "- **Sex**: Giới tính của vận động viên tham dự.\n",
    "- **Age**: Tuổi của vận động viên tham dự .\n",
    "- **Weight**: Cân nặng của vận động viên tham dự.\n",
    "- **Team**: Tên đội của vận động viên tham dự.\n",
    "- **NOC**: Ủy ban Olympic quốc gia.\n",
    "- **Games**: Tên của Thế vận hội vận động viên tham dự.\n",
    "- **Year**: Năm tổ chức Thế vận hội vận.\n",
    "- **Season**: Mùa tổ chức Thế vận hội vận.\n",
    "- **City**: Thành phố tổ chức Thế vận hội vận.\n",
    "- **Sport**: Môn thi đấu của vận động viên.\n",
    "- **Event**: Nội dung thi đấu vận động viên.\n",
    "- **Medal**: Huy chương vận động viên đạt được.\n",
    "- **region**: Quốc tịch của vận động viên.\n",
    "- **notes**: Ghi chú"
   ]
  },
  {
   "cell_type": "markdown",
   "metadata": {},
   "source": [
    "### Loại bỏ các cột không cần thiết, cột chứa nhiều dữ liệu trống."
   ]
  },
  {
   "cell_type": "markdown",
   "metadata": {},
   "source": [
    "Ta tính tỉ lệ phần trâm các giá trị bị thiếu trong các cột để chọn ra những cột có tỉ lệ giá trị bị thiếu lớn và loại bỏ."
   ]
  },
  {
   "cell_type": "code",
   "execution_count": 9,
   "metadata": {},
   "outputs": [
    {
     "data": {
      "text/plain": [
       "{'ID': 0.0,\n",
       " 'Name': 0.0,\n",
       " 'Sex': 0.0,\n",
       " 'Age': 0.03435798698711991,\n",
       " 'Height': 0.21693297333982503,\n",
       " 'Weight': 0.22693976010268668,\n",
       " 'Team': 0.0,\n",
       " 'NOC': 0.0,\n",
       " 'Games': 0.0,\n",
       " 'Year': 0.0,\n",
       " 'Season': 0.0,\n",
       " 'City': 0.0,\n",
       " 'Sport': 0.0,\n",
       " 'Event': 0.0,\n",
       " 'Medal': 0.8481941309255079,\n",
       " 'region': 0.0013647294884846339,\n",
       " 'notes': 0.9763200991457531}"
      ]
     },
     "execution_count": 9,
     "metadata": {},
     "output_type": "execute_result"
    }
   ],
   "source": [
    "per_null = dict(ethlete_df.isnull().sum() / num_rows)\n",
    "per_null"
   ]
  },
  {
   "cell_type": "markdown",
   "metadata": {},
   "source": [
    "Ta thấy cột **notes** có tỉ lệ giá trị thiếu rất lớn và cột này cũng thật sự không cần thiết trong việc phân tích dữ liệu nên ta sẽ bỏ nó."
   ]
  },
  {
   "cell_type": "code",
   "execution_count": 10,
   "metadata": {},
   "outputs": [
    {
     "name": "stdout",
     "output_type": "stream",
     "text": [
      "Num cols:  16\n"
     ]
    },
    {
     "data": {
      "text/plain": [
       "Index(['ID', 'Name', 'Sex', 'Age', 'Height', 'Weight', 'Team', 'NOC', 'Games',\n",
       "       'Year', 'Season', 'City', 'Sport', 'Event', 'Medal', 'region'],\n",
       "      dtype='object')"
      ]
     },
     "execution_count": 10,
     "metadata": {},
     "output_type": "execute_result"
    }
   ],
   "source": [
    "ethlete_df.drop('notes', axis = 1, inplace = True)\n",
    "num_cols = ethlete_df.shape[1]\n",
    "print(\"Num cols: \", num_cols)\n",
    "ethlete_df.columns"
   ]
  },
  {
   "cell_type": "markdown",
   "metadata": {},
   "source": [
    "Để dễ dàng hơn trong việc tính số lượng huy chương, ta sẽ tạo thêm cột isWon để lưu giá trị xem vận động viên có giành được huy chương hay không, nếu có thì `isWon` sẽ có giá trị là 1, ngược lại là 0."
   ]
  },
  {
   "cell_type": "code",
   "execution_count": 11,
   "metadata": {},
   "outputs": [],
   "source": [
    "ethlete_df['isWon'] = np.where(ethlete_df['Medal'].isna(), 0, 1)\n",
    "ethlete_df['isWon'] = ethlete_df['isWon'].astype(bool)"
   ]
  },
  {
   "cell_type": "markdown",
   "metadata": {},
   "source": [
    "### Mỗi cột hiện đang có kiểu dữ liệu gì? Có cột nào có kiểu dữ liệu chưa phù hợp để có thể xử lý tiếp không?"
   ]
  },
  {
   "cell_type": "markdown",
   "metadata": {},
   "source": [
    "Dưới đây là kiểu dữ liệu của mỗi cột trong `ethlete_df` :"
   ]
  },
  {
   "cell_type": "code",
   "execution_count": 12,
   "metadata": {},
   "outputs": [
    {
     "data": {
      "text/plain": [
       "ID          int64\n",
       "Name       object\n",
       "Sex        object\n",
       "Age       float64\n",
       "Height    float64\n",
       "Weight    float64\n",
       "Team       object\n",
       "NOC        object\n",
       "Games      object\n",
       "Year        int64\n",
       "Season     object\n",
       "City       object\n",
       "Sport      object\n",
       "Event      object\n",
       "Medal      object\n",
       "region     object\n",
       "isWon        bool\n",
       "dtype: object"
      ]
     },
     "execution_count": 12,
     "metadata": {},
     "output_type": "execute_result"
    }
   ],
   "source": [
    "ethlete_df.dtypes"
   ]
  },
  {
   "cell_type": "markdown",
   "metadata": {},
   "source": [
    "### Với mỗi cột có kiểu dữ liệu dạng numeric, các giá trị được phân bố như thế nào?"
   ]
  },
  {
   "cell_type": "markdown",
   "metadata": {},
   "source": [
    "Ngoài cột ID được đặt thành index cho dataframe, hiện có 3 cột có vẻ là thuộc nhóm numeric: \"Age\", \"Height\", \"Weight\". \n",
    "\n",
    "Với mỗi cột numeric bạn sẽ tính tỉ lệ % giá trị thiếu (từ 0 đến 100), min, max. Ta lưu kết quả vào dataframe `nume_col_profiles_df`. Dataframe này có 3 dòng là \"missing_ratio\", \"min\", \"max\"; và có 3 cột là \"Age\", \"Height\", \"Weight\".   "
   ]
  },
  {
   "cell_type": "code",
   "execution_count": 13,
   "metadata": {},
   "outputs": [
    {
     "data": {
      "text/html": [
       "<div>\n",
       "<style scoped>\n",
       "    .dataframe tbody tr th:only-of-type {\n",
       "        vertical-align: middle;\n",
       "    }\n",
       "\n",
       "    .dataframe tbody tr th {\n",
       "        vertical-align: top;\n",
       "    }\n",
       "\n",
       "    .dataframe thead th {\n",
       "        text-align: right;\n",
       "    }\n",
       "</style>\n",
       "<table border=\"1\" class=\"dataframe\">\n",
       "  <thead>\n",
       "    <tr style=\"text-align: right;\">\n",
       "      <th></th>\n",
       "      <th>Age</th>\n",
       "      <th>Height</th>\n",
       "      <th>Weight</th>\n",
       "    </tr>\n",
       "  </thead>\n",
       "  <tbody>\n",
       "    <tr>\n",
       "      <th>missing_ratio</th>\n",
       "      <td>3.5</td>\n",
       "      <td>21.8</td>\n",
       "      <td>22.811</td>\n",
       "    </tr>\n",
       "    <tr>\n",
       "      <th>min</th>\n",
       "      <td>10.0</td>\n",
       "      <td>127.0</td>\n",
       "      <td>25.000</td>\n",
       "    </tr>\n",
       "    <tr>\n",
       "      <th>max</th>\n",
       "      <td>97.0</td>\n",
       "      <td>226.0</td>\n",
       "      <td>214.000</td>\n",
       "    </tr>\n",
       "  </tbody>\n",
       "</table>\n",
       "</div>"
      ],
      "text/plain": [
       "                Age  Height   Weight\n",
       "missing_ratio   3.5    21.8   22.811\n",
       "min            10.0   127.0   25.000\n",
       "max            97.0   226.0  214.000"
      ]
     },
     "metadata": {},
     "output_type": "display_data"
    }
   ],
   "source": [
    "nume_col_profiles_df = {\n",
    "    'Age':[(ethlete_df['Age'].isna().sum() / len(ethlete_df) * 100).round(1),\n",
    "           ethlete_df['Age'].min(),\n",
    "           ethlete_df['Age'].max()],\n",
    "    'Height':[round((ethlete_df['Height'].isna().sum() / len(ethlete_df) * 100), 1),\n",
    "              ethlete_df['Height'].min() * 1.0,\n",
    "              ethlete_df['Height'].max() * 1.0],\n",
    "    'Weight':[round((ethlete_df['Weight'].isna().sum() / len(ethlete_df) * 100), 3),\n",
    "              round(ethlete_df['Weight'].min(), 3),\n",
    "              round(ethlete_df['Weight'].max(), 3)],\n",
    "    }\n",
    "\n",
    "nume_col_profiles_df = pd.DataFrame(nume_col_profiles_df, index = ['missing_ratio', 'min', 'max'])\n",
    "display(nume_col_profiles_df)"
   ]
  },
  {
   "cell_type": "markdown",
   "metadata": {},
   "source": [
    "- *Nhìn vào độ tuổi lớn nhất và nhỏ nhất, ta nhận thấy có một vài vận động viên rất 'đặc biệt'.*\n",
    "- *Có những vận động viên có thể đạt đến chiều cao và cân nặng kỷ lục !*"
   ]
  },
  {
   "cell_type": "markdown",
   "metadata": {},
   "source": [
    "Số lượng các quốc gia đã tham dự Olympics từ trước đến nay:"
   ]
  },
  {
   "cell_type": "code",
   "execution_count": 14,
   "metadata": {},
   "outputs": [
    {
     "data": {
      "text/plain": [
       "205"
      ]
     },
     "execution_count": 14,
     "metadata": {},
     "output_type": "execute_result"
    }
   ],
   "source": [
    "num_country = ethlete_df['region'].nunique()\n",
    "num_country"
   ]
  },
  {
   "cell_type": "markdown",
   "metadata": {},
   "source": [
    "## 3. Đưa ra các câu hỏi có ý nghĩa cần trả lời"
   ]
  },
  {
   "cell_type": "markdown",
   "metadata": {},
   "source": [
    "Sau khi đã khám phá dữ liệu và hiểu hơn về dữ liệu, ta thấy có một số câu hỏi có thể được trả lời bằng dữ liệu:\n",
    "- Top 5 vận động viên tham gia nhiều năm Thế vận hội nhất?\n",
    "    \n",
    "        Ý nghĩa: với câu hỏi trên, ta biết được những vận động viên xuất sắc nhất được quốc gia mình nhiều năm cử đi đại \n",
    "        diện tham gia Thế vận hội. Có thể, ban tổ chức sẽ có một giải thưởng là \"Tuyên dương những vận động viên có số lần \n",
    "        tham gia nhiều nhất lịch sử\" và họ sẽ được nhiều người đời sau biết đến.\n",
    "\n",
    "- Top 5 vận động viên đạt nhiều huy chương nhất?\n",
    "    \n",
    "        Ý nghĩa: với câu hỏi trên, ta biết được những vận động viên xuất sắc nhất đã giành được nhiều huy chương về cho quốc gia mình. Đó là những vận động viên đã làm rạng danh đất nước, xứng đáng trở thành huyền thoại của đất nước đó nói riêng và của các kỳ Olympics nói chung.\n",
    "\n",
    "\n",
    "- Quốc gia có thành tích tốt nhất qua các kỳ Olympic mùa hè?\n",
    "    \n",
    "        Ý nghĩa: Với câu hỏi trên, ta có thể biết được những quốc gia có thành tích tốt nhất cho đến năm 2016. Những quốc gia đó đã cho thấy khả năng thể chất tuyệt vời, khẳng định được sức mạnh và vị thế thể thao của mình trên sân chơi quốc tế.\n",
    "        \n",
    "- Thành tích của Thể thao Việt Nam trong lịch sử tham dự Olympic?\n",
    "    \n",
    "        Ý nghĩa: Với câu hỏi trên, ta biết được thành tích của thể thao Việt Nam ở sân chơi Olympic để có thể tự hào và từ đó phấn đấu để đạt được nhiều huy chương hơn, xứng danh đất nước Con Rồng cháu Tiên."
   ]
  },
  {
   "cell_type": "markdown",
   "metadata": {},
   "source": [
    "## 4. Tiền xử lý và phân tích dữ liệu để trả lời cho từng câu hỏi"
   ]
  },
  {
   "cell_type": "markdown",
   "metadata": {},
   "source": [
    "### 4.1. Top 5 vận động viên tham gia nhiều năm Thế vận hội nhất?\n",
    "\n",
    "Để trả lời cho câu hỏi này, ta sẽ làm như sau:\n",
    "- Bước 1: Tính số lượng năm Thế vận hội mà mỗi vận động viên tham gia, chọn ra top 5 người có số lượng tham gia nhiều nhất. Ta lưu kết quả vào series `num_year_participate`, trong đó index là tên vận động viên.\n",
    "- Bước 2: Từ kết quả ở trên, ta vẽ đồ thị dạng cột, trong đó trục hoành là tên và trục tung là số lượng năm tham gia.Ta đặt tên trục hoành là \"Year\" và tên trục tung là \"Nums_part\"."
   ]
  },
  {
   "cell_type": "markdown",
   "metadata": {},
   "source": [
    "Code bước 1. "
   ]
  },
  {
   "cell_type": "code",
   "execution_count": 15,
   "metadata": {},
   "outputs": [
    {
     "data": {
      "text/html": [
       "<div>\n",
       "<style scoped>\n",
       "    .dataframe tbody tr th:only-of-type {\n",
       "        vertical-align: middle;\n",
       "    }\n",
       "\n",
       "    .dataframe tbody tr th {\n",
       "        vertical-align: top;\n",
       "    }\n",
       "\n",
       "    .dataframe thead th {\n",
       "        text-align: right;\n",
       "    }\n",
       "</style>\n",
       "<table border=\"1\" class=\"dataframe\">\n",
       "  <thead>\n",
       "    <tr style=\"text-align: right;\">\n",
       "      <th></th>\n",
       "      <th>Name</th>\n",
       "      <th>0</th>\n",
       "    </tr>\n",
       "  </thead>\n",
       "  <tbody>\n",
       "    <tr>\n",
       "      <th>50684</th>\n",
       "      <td>Ian Millar</td>\n",
       "      <td>10</td>\n",
       "    </tr>\n",
       "    <tr>\n",
       "      <th>50177</th>\n",
       "      <td>Hubert Raudaschl</td>\n",
       "      <td>9</td>\n",
       "    </tr>\n",
       "    <tr>\n",
       "      <th>1465</th>\n",
       "      <td>Afanasijs Kuzmins</td>\n",
       "      <td>9</td>\n",
       "    </tr>\n",
       "    <tr>\n",
       "      <th>74851</th>\n",
       "      <td>Lesley Allison Thompson-Willie</td>\n",
       "      <td>8</td>\n",
       "    </tr>\n",
       "    <tr>\n",
       "      <th>94058</th>\n",
       "      <td>Nino Salukvadze (-Machavariani)</td>\n",
       "      <td>8</td>\n",
       "    </tr>\n",
       "  </tbody>\n",
       "</table>\n",
       "</div>"
      ],
      "text/plain": [
       "                                  Name   0\n",
       "50684                       Ian Millar  10\n",
       "50177                 Hubert Raudaschl   9\n",
       "1465                 Afanasijs Kuzmins   9\n",
       "74851   Lesley Allison Thompson-Willie   8\n",
       "94058  Nino Salukvadze (-Machavariani)   8"
      ]
     },
     "metadata": {},
     "output_type": "display_data"
    }
   ],
   "source": [
    "years_part = ethlete_df.groupby(['Name',ethlete_df['Year']]).size()\n",
    "years_part = years_part.reset_index()\n",
    "years_part = years_part.groupby('Name').size()\n",
    "years_part = years_part.reset_index()\n",
    "num_year_participate = years_part.sort_values(by = [0], ascending = False).head()\n",
    "display(num_year_participate)"
   ]
  },
  {
   "cell_type": "markdown",
   "metadata": {},
   "source": [
    "Code bước 2. "
   ]
  },
  {
   "cell_type": "code",
   "execution_count": 16,
   "metadata": {},
   "outputs": [
    {
     "data": {
      "image/png": "iVBORw0KGgoAAAANSUhEUgAAA4IAAAGQCAYAAAD7iN7YAAAAOXRFWHRTb2Z0d2FyZQBNYXRwbG90bGliIHZlcnNpb24zLjQuMSwgaHR0cHM6Ly9tYXRwbG90bGliLm9yZy/Z1A+gAAAACXBIWXMAAA9hAAAPYQGoP6dpAAB4RElEQVR4nO3dd1iN//8H8OdpkQayZY+O0RARMpItM/GxsndWWWUVMkM0rET2LJG9R7asj9lHWWVFkSidOuf3R7/ur6OhEofO83FdXZdzz9d9v086z3O/7/ctkslkMhAREREREZHSUFF0AURERERERPR7MQgSEREREREpGQZBIiIiIiIiJcMgSEREREREpGQYBImIiIiIiJQMgyAREREREZGSYRAkIiIiIiJSMgyCRERERERESoZBkIiIiIiISMkwCBIR5ZHo6GjUrFkTJiYmmDBhAhISEhRWy/v37xEeHo74+HiF1UBEv87nz58RHh6O6OhoRZdC+djHjx8RHh6OmJgYRZeSY39z7b8LgyARUR4pVqwYdu3ahTlz5uDw4cM4evSowmr59OkT+vbti+nTpyusBiL6ddzc3PDPP/8gNjZW0aVQPiaVSjF69GgMHTpU0aXk2IQJEzBw4EB8/fpV0aX8sRgEiYjyiIqKCoyMjLB//37o6+ujTp06CqulUqVKWLVqFc6ePYuHDx8qrA4iyntPnz7FoUOH4OXlBQMDA0WXQ/lY0aJFsW7dOrx+/RonTpxQdDnZdu3aNdy5cwe+vr4oU6aMosv5Y4lkMplM0UUQEeUnCxcuhJOTk6LLICIiogzIZDKIRCJFl6FwvCJIRPT/7OzsIBaL5X7MzMzQv39/XL16Nd2ydnZ2ctMkEgns7Oywfft2TJ48Oc/q8vLySleXiYkJOnToAC8vLyQmJma43sKFC2FiYoKuXbvi8+fPWe7Dysoq3T6+//nV4bZnz54Z7vfWrVs/XPfJkydwdXVFq1atYGxsDEtLSzg4OGR5NfS///5DzZo1f7r77P79+yEWi3H48OFMl/H394dYLMbjx4+FaWFhYahbty7q1q2LS5cu/VQN3/r+/NWuXRsNGzbEyJEjERoamuE6z58/R4MGDWBqaopTp07lWS0/MmjQIDRo0ABJSUmZLtOlSxf06NEDQOqxeXl5yc1/+fIlGjduDBMTEwQFBeV5jUePHsWQIUPQuHFj1KlTBx07doSPj0+W99+6u7vD0NAQ165dy9Y+Tp06hQEDBsDMzAxGRkZo3bo13Nzc8O7du3TLJiUloVevXjAxMcGMGTOytX2xWAxLS8sMa46MjIRYLEZgYKDc9F69esHX1xfx8fHYvXs3unTpkq195cSVK1d++P+OWCzGlStXhGWvXLmS53XkhYsXL2L8+PGwtLSEoaEhGjZsiOHDh+Ps2bNyy+XVcaT9XfD3989wvpOTE6ysrDJ9nZHAwECIxWJERkbKTd++fTtMTExgaWmJt2/f/lTdadLOw+jRo7NVS2a1ZeTTp09o164dTExM4OnpmW7+yZMnMXXq1J87gHxCTdEFEBH9SWrVqgUXFxcAQEpKCmJjY7F9+3YMGTIEgYGBqF69OgAIy3zLzc0N//33H3bu3Ak7Ozv4+PjA3t4+z2rbuXMngNRvMj99+oTQ0FCsW7cOFy5cgL+/PwoWLCgsu2/fPmzcuBEbN27EggULMHHiRKxcuRIqKhl//+ft7S33YXzMmDGoVauW3B9pPT29PDuW70mlUoSFhWHIkCFo06aN3Ly0c56Z48ePY/LkyahevTpGjRqFcuXK4fXr19i8eTN69OgBHx8fNGvWLN16Xl5eMDMzg6ur60/V3rZtW8ydOxfBwcFo3759hsvs27cPpqamqFatGgAgJiYGI0eORKtWrVC7dm2MHTsWO3bsEOb/LFtbWyE8SSQSvHz5Etu3b0e/fv3g6emJ1q1bC8t++fIF9vb2aNiwIRo3bgxHR0f4+/v/lq7Ntra2uHjxIs6dO4dWrVqlm//w4UM8fPgQc+bMAZD6O1C6dGlhfkJCAuzt7SEWi9G7d284OjqiXLlyMDMz++napFIpJk+ejCNHjqB79+7o3bs3tLS0cPv2bfj5+eH48ePYuHEjChcuLLfe+/fvsW3bNri4uKB+/fo/3M/evXvh5OSEf/75BwMHDoSmpiYeP36MtWvX4vTp0wgICECRIkWE5WfPno3IyEjs2LEDffr0QaVKlbJ1/9arV6+wcOFCuLm5Zev4J0yYgDFjxmDJkiXQ0tLCihUrsrVeTtSuXVv4fw0A7t27hzlz5mDWrFmoXbu2ML1atWq4d+9enu8/ryxYsAD+/v5o3bo1Jk+ejFKlSiE6Ohr79u3D8OHDMWnSJAwbNgzA/445r37XPTw80KJFC1SsWPGnt2VpaYmdO3eiZMmSwrTr169j3rx5mDdvHo4cOYJRo0Zhy5Yt0NTU/On9AamhbP/+/ejcuXOebE8qlWLixIlQVVXFhg0bYGdnhwoVKqBr167CMpmFZ6UkIyIimUwmk/Xr10/Wr1+/dNM/f/4sMzY2li1cuDDTdZOTk2WPHj2SvX79WiaTyWSvXr2S/ffff3lSl6enp8zAwCDDeefPn5cZGBjIfHx85KY/ffpU9vTpU5lMJpPFxMTIHj16JEtISMj2Plu0aCGbOnVq7ovOocePH8sMDAxkV65cydF6z549k9WpU0c2ZswYWXJysty8hIQEWbdu3WSNGjXK8NgjIiJknz9//qm607i4uMhq164ti42NTTfv4cOHMgMDA9nu3buFaWlt8vnz53TvnZ9lYGAg8/T0TDddIpHI+vbtK6tfv77s06dPwvRPnz7JHj16JPv06ZNMKpXKwsLCZFFRUXlSy498/fpVVr9+fdnYsWMznL9gwQJZnTp15Or9VlrtcXFxMpks9X0UGRmZJ7WtWbNGZmBgIDt27Fi6eTdv3pTVqFFDNnfu3AxrSvvdy46WLVvKHB0d001/8OCBzMDAQObr6ytMS3uvvHnzRiaTyWRRUVGyx48f/3AfBgYGMjMzM5mBgYEsJCREbt6LFy9kBgYGsoCAgHTrff78Wfbff//J4uPjs308P+Py5csyAwMD2eXLl3M0T5ECAwPTtdO35syZI6tdu3aevS/TpP1dMDMzk/Xu3VuWkpIiN3/q1KmyFi1aZPo6u6KiooS/Zd/+X/Gz0trTzMxM1qBBA1l0dLTc/ICAAJmBgYHsxYsXGb7OTGJiouzRo0ey9+/fy2Sy1L8RT548kVsms7/1yohdQ4mIfkBTUxMFChSQu5/g+66hIpEIZ86cQb9+/WBoaIgBAwak6+6XUXfSn+0m1KRJE5ibm8t9qw6kfrPu4OAAU1NTdOzYEVu2bMmTkdMOHToEGxsbmJqawsLCArNmzcLHjx+F+V5eXrCyssLp06eFrjk9evT4YdfHtC6cNWrUyFE9mzdvRlJSEmbMmAFVVVW5eQULFsTUqVNha2uLuLg4Yfru3bthY2ODbt26oWHDhujSpQsOHTokt+7z588xbtw4NGjQAPXr18ewYcPw33//ZVqHra0tJBIJjhw5km5eUFAQChUqhA4dOgjTHj9+jEWLFqF58+YwMTHByJEjsWvXLkilUgD/6653+PBhjBs3Dqampqhfvz6mT5/+w26+mVFTU8P48ePx8eNHuW6sX758wYYNG2BtbQ0TExM4OzvjwYMHcuuKxWJs3boV06dPF7qQjhs3Ll3XRT8/P7Rs2RLGxsbo1asXTp06leX7W0NDA506dcLp06fx6dMnuXkpKSk4cOAA2rVrB21tbaGOb7uGJicnY8uWLWjbti2MjIzg7OyM58+f56r2b0kkEqxfvx7NmjWTu3qapk6dOpgwYYLc1eqvX7/Cx8cHtra26NixI9q0aYO1a9cKbZqZd+/eQZbBcA01atSAs7MzDA0N5Y73+PHj6N+/P4yMjDBw4ECcPHnyh/sAgH/++QeVK1fGjBkzfvhYmcjISEyZMgVt2rRBly5d0KpVK0yZMkVuhFIrKyt4e3tjwYIFMDc3h6mpKSZOnIjPnz9j7dq1aNasGerVq4exY8fm6cimERERGDJkCExMTGBhYYElS5YgOTlZmB8TE4PZs2ejRYsWMDQ0RIMGDWBvby/XpdDOzg6zZs3CqlWr0LRpU5iYmGDYsGF49+4dAgIC0Lp1a5iammLgwIE/7Iro4+MDY2NjDBkyJMP59vb2aNKkifD/ZEb/5584cQJ9+vSBqakpDA0N0a5dO2zZsiVb58PJyQmhoaHYvHlztpYPDAwUfl86d+6Mc+fOyc37vvvly5cv4erqChMTE1hZWcHPz0+u90hmXTatrKyydTuBg4MDvnz5kmEvm4zcvn0bvXr1gpGRESwtLeHn5yc3Pzo6GuvWrUPnzp1Ru3Zt/PPPP1i5cqXwHrSzs8PVq1dx9erVP7qr8e/CIEhE9A2ZTIbk5GQkJydDIpEgOjoay5YtQ1JSErp3757peq6urvD09ETHjh2xZs0atG/fHgsWLICPj89P1ZOSkiJ8yEurKzk5We6Do7m5OV6/fo2oqCgAwMqVK+Hg4CDcH2Fvb4+jR4/Czs4u0/sJsyO7242JicHUqVPRp08frFixApqamhg2bBju3r2b6bYfPHgAHR0dzJ8/H+bm5jAyMsKwYcMQERGRZU3nz59HrVq1UKpUqQznm5ubw9HRUejqtHXrVsyaNQstW7bEmjVr4O7uDnV1dUyePBkvX74EALx9+xY9evRAREQEXFxcsGTJEnz8+BEDBw7M9HlUhoaGqFGjBvbv3y83PSUlBcHBwbC2tkahQoUApIbegQMHokiRIvDw8MCqVatQt25deHt74+DBg3Lru7i4QF9fHytXrsTQoUMREBCA1atXZ1hD2nsXSO0elfZeSUlJEZYxNTWFhoYGbty4ASA1hNja2uLq1atwcHCAl5cX9PX1YW9vn+5YPDw8IJVKsWzZMkyZMgVnzpzB/Pnzhfne3t5YsmQJ2rdvj5UrV8LExAQODg4Z1votW1tbJCUlpQvRISEhiI6Ohq2tbYbrff36FQMGDMDJkyfh4OAAb29vlC5dGkOHDk33xcOPav/evXv3EBsbixYtWmS6zIgRI/DPP/8ASD33I0eOxLp162Bra4vVq1ejXbt2WL58+Q8/4FpaWuLgwYOwt7fHgQMH8ObNG2HewIED0bBhw5/eBwAUKFAACxYswOvXr7F48eJMl0tMTET//v0RHh4OFxcX+Pn5oV+/fjhw4ACWLVsmt+yGDRvw8uVLeHh4YOTIkThw4AC6d++OCxcuYO7cuRg7dixOnjyZ4X1aubVgwQLUq1cPq1evRps2beDr64sdO3YASD1HI0aMwIULFzBx4kT4+flh9OjRuHjxImbNmiW3nYMHD+LixYuYN28enJ2dcfHiRfTr1w+bN2/G1KlTMX36dNy+fVvolpyRhw8f4sWLF7C2ts504BE9PT2sXr0atWrVynD+mTNnYG9vj9q1a2PlypXC7+DcuXOF39OsdO/eHc2aNYOHhweePXuW5bKvXr3C2rVrMX78eHh6ekImk2Hs2LF4//59hstfu3YNAwcORMGCBbF8+XJMmzYNV69eRf/+/X/qb8m3qlatirFjx+LEiRM4cODAD5d3dXUV/s4aGxtj8eLFOH36NIDUruI/eu+6uLigVq1aqFWrFnbu3CnXBVkZ8R5BIqJvXLt2LcM/DI6OjqhatWqG6zx58gS7du2Cg4MDRowYAQCwsLBAgQIFsGrVKvTp0wdFixbNVT2tW7cWAt63dW3atAnm5uYAgOLFiwNI/VCvra2NVatWoUePHnIfDg0MDNC3b18EBgaiT58+Oa7j48eP2d5uQkICXF1dhXsyGjZsiFatWmHt2rWZfiB88OABPn36hKJFi8LHxwdRUVHw8fFB3759ERQUlGnQe/PmDWrWrJnt43jx4gUGDx4sd+9muXLlYGNjgxs3bqBs2bLYsGEDEhMTsWHDBpQoUQIAULNmTfzzzz+4detWpgMudO/eHfPnz0dUVBT09fUB/C/MpN2vB6R+eGzYsCHc3d2FezYtLCxw5swZXLt2DZ06dRKWbd68uTCoQaNGjXDhwgWcOXMGEydOTLf/vXv3wtnZGUBqaF+5ciUAoEGDBsLVAjU1NRQuXFh4CPmGDRsQExODw4cPo3z58sI+Bw4ciMWLF6Njx45CjQYGBliwYIGwvzt37gjh7cuXL/D19UXfvn0xadIkAKlXqxMSEtJdrf5ezZo1UatWLQQHB8udp71796Jq1aqoV69ehuvt27cPDx8+xK5du2BiYgIAaNasGezs7LBkyRIEBAQIy2ZVe0Zev34NIPW9kR3nzp3DxYsX4e7uLtzrZGFhgYIFC2LFihUYMGBApveEzZ07F1KpFMeOHROG569QoQKsrKwwaNAg4Z7In9lHGlNTUwwYMAAbNmxAu3bt0Lhx43TLPHnyBCVKlMDixYuF+84aNmyIf//9N92gWVpaWvDw8ICamhoaN26MvXv34u3bt9i9ezd0dHTQvHlzXL58OVuBJrv69+8v3LvcsGFDnD59GpcvX0a/fv3w9u1baGpqYurUqcJ9oubm5sI9ld+SSCTw9vYW7vE8fvw4QkJCcOLECeF34cGDB9i3b1+mtbx48QJA6uN6viWTyeS+gAFSHy+U0T3ajx8/RteuXeUGrTI1NYW5uTmuXbuGunXr/vCczJ07Fx07dsS0adOwZcuWTEOpVCqFj4+P8LesQIECGDRoEG7duoWWLVumW37p0qWoXLky1qxZI/S4MDExgbW1NQICAtC3b98f1pYdQ4YMwfHjxzF37lw0bNhQ+JuWEUdHR/Tu3RtA6pX5U6dO4fLly2jRogWePn2K0qVLY+HChahQoQKA9O/datWqCT0MFPmIpz8FrwgSEX2jdu3a2LNnD/bs2YPdu3fDz88PAwYMgIeHBzw8PDJc5/Lly5DJZGjZsqXcVTsrKyt8/fo105Eas2PVqlXo2bMnAAh17dmzRy4Upn3gUFVVxa1bt5CUlCQXJgDAzMwM+vr6ue4Gk5PtqqqqwtraWnhdsGBBNGvWLMvzMGnSJGzbtk34ANelSxf4+fnh06dP2LRpU6briUSidB+4suLk5ITJkyfj06dP+PfffxEcHIytW7cCSP1gCAChoaGoU6eOEAIBoGTJkjh9+nSWo+517twZ6urqCA4OFqYFBQXBwMBACCoA0LVrV/j5+UEikeC///7DiRMn4OXlhZSUFKGGNN9/UCldujS+fPmS4f5btGiBPXv2AEgdgTXtvTJ79my55aRSKdTUUr8Hvnr1KkxNTYUPvt8eS3R0tNwV2YxqSUhIAJD6/khMTES7du3klunYsWOGtX7P1tYW165dEwLYp0+fcOrUqUyvBgLApUuXUKJECdSuXVvu6meLFi1w9+5duS7LWdWekbQP7NnpcgmknkdVVVW57r8AhMCW1e+djo4OPD09ceLECcyaNQtt27ZFXFwc/P390b59eyFE/cw+vjVhwgRUqlQp0y6iNWvWxM6dO1GhQgW8fPkSly5dwsaNG/HkyZN0709jY2PhvQQAJUqUQJUqVaCjoyNMK1KkSLpuvz/j24GARCIR9PX1ha7fpUqVwqZNm2BmZibUvmXLFty4cSNd7VWrVpUb6KdEiRLQ09OT+134Ue2ZvT/S/o/+9mfatGkZLjt06FAsWrQIX758wcOHD3H48GGsXbsWANLVnJnSpUtj6tSpuH79epZdRIsWLSr3hWbasWZ0jAkJCbh9+zaaN28u11OmfPnyqFq1Ki5cuJCt2rJDVVUVCxYswJcvX344eNe37V+oUCEUL15caP+aNWti27ZtKFeuHF68eIHz589j/fr1iIiIyPa5VDa8IkhE9A0tLS0YGRnJTWvSpAm+fPmCdevWoX///ihWrJjc/A8fPgCAXPj51rddvXJKLBYL3Rq/rytN2nDeJUqUED64Z/SNavHixXP9gSztQ3V2tqunpwd1dXW5ZYoVKyb3wfx7GV3VS/vAkdUjIPT19YUunRlJTk5GTEyMcA6fP3+OWbNm4fLly1BTU0OVKlUgFosBQOhu++HDh2xfCfpWkSJF0KpVKwQHB2PkyJH49OkTTp48CUdHR7nlEhMTMXfuXOzbtw/JyckoV64cTE1Noaamlu5ese9H5lNRUcnwfjIg9UNe2pXnkiVLZvh+SUpKwsePH4WQ+/HjxwyPNa2dv723Mqta0rrMfj+ybFbf7H+rU6dOWLRoEQ4cOIChQ4fi0KFDkEqlWT6y4MOHD4iOjs60a1d0dLTwQT8n5xGAcEU37Wp8RmJiYqClpYUCBQrg48ePKFq0qFwoAiCc5+z83pUrVw59+/ZF3759IZVKceLECTg7O8PNzQ2BgYF5sg8g9YuZ+fPno1+/fli8eDGGDx+ebpmNGzdizZo1eP/+PYoWLYratWtDQ0Mj3YfptCsr38qr0SQz86O23L9/P5YtW4ZXr16hSJEiqFGjhtyIymnyovbM3ictW7aUu9951KhRmW4jJiYGLi4uOHHiBEQiESpWrChcBc/qPfq9Hj164MiRI1i2bBksLS0zXCate3qatCuHGQXauLg4SKVS+Pr6wtfXN938AgUKZLu27KhWrRrGjBmDZcuWpesi/60ftf+GDRuwZs0axMbGonjx4qhduzY0NTXz9MuI/IRBkIgoG2rWrIndu3cjMjIyXRDU1dUFkPrhSUtLK926ZcuWFf79/dWrzK7u5MSVK1dQqVIllCpVSvjg++7du3RdWaOjo9Nd+cmunGz3w4cP6R7W++7du3TnLY1EIkFwcDCqVKmS7spNYmJilt1qmzRpgo0bNyI6OlruCl6a8+fPY+TIkVi2bBnat2+P4cOHQ11dHbt27UKtWrWgpqaGx48fy90Pp6Ojk+G9gJcuXUK5cuWyPIfdu3fHkCFD8ODBA9y9excymSxdmJk3bx6OHj2K5cuXo3HjxsKHs0aNGmW63bxy/fp1JCcnC92KCxcunOGgKWldR7PbpTmt+2JMTAyqVKkiTM/snsrv6erqonXr1ggODsbQoUMRFBQEKyurTN8zQGo7VapUCUuWLMlwfm7CfJqaNWuiePHiOHfuXKbd31xdXXH58mWcO3cOhQsXRmxsLJKTk+WCWtqXNJmdx6NHj8LFxQXbt29H5cqVhekqKipo06YNrl27hl27dgFArveRkXr16sHOzg6bNm1K94VBcHAw5s+fjwkTJsDGxkbolj1+/Hj8+++/2d6HIly/fh1Tp05Fv379MGTIEOF9uXjx4p/qmZGZWrVqoWzZsjhy5Ijc+0RPT0/uSxENDY1MtzFp0iSEh4djw4YNqFu3LjQ0NJCQkIDdu3fnuB43Nzd07NgR06dPl/u7kxtaWloQiUQYOHBghl9ypgWyzMJkbga1Gjp0KI4dO4a5c+dmOvhOVoKDg7Fw4UJMnDgRtra2Qhv8De9dRWHXUCKibLh58yZUVVUzDAFpzwqLjY2FkZGR8PPhwwcsX75c+DCsra0tdH1L87P3zoSEhODGjRvo1asXgNT7NzQ0NOS6JwKpH5BevnyZrftNMpKT7UokEpw/f154nZiYiHPnzmUadNTV1eHl5QV3d3e56ffu3cPz58+F0JKRvn37Ql1dHW5ubulCdkJCAjw9PVG4cGG0aNECsbGxePLkCWxtbeW6tKWNmpf2QcbMzAy3bt2SG0AhJiYGw4YNw8mTJzOtBQAaN24MfX19HD16FIcPH0arVq3SfUAPDQ2Fubk5WrVqJYTAu3fvIiYmJttdEXMjJSUFPj4+KFGihNDFtX79+rh586Zwr1Oa/fv3o0SJEtl+NlmNGjWgo6ODY8eOyU0/evRotuuztbXFw4cPcfXqVdy8eTPLbqFA6r2Pr169QrFixeR+7y5duoR169alG0U2J1RUVDBw4ECcOXMmwza/du0aTp06hbZt26JgwYJo0KABUlJS0o0+m/YFQ2b3OVavXh0fPnzAxo0bM5z/9OlTGBgYCMebm31kxtHRERUqVMCiRYvkpoeGhkJXVxejRo0SQmBCQgJu3rz5S9+feSGtxnHjxgkhMCUlBRcvXgSQ/a6+2aWiooIxY8bg6tWr2LBhQ4bLvHr1KstRWkNDQ9G2bVs0bNhQCIzf/5+UXWXKlMHUqVNx9erVH/5f9SPa2tqoVasWIiIi5H6/qlevDm9vb6ErctqV1VevXgnrRkRECD1lckJVVRULFy5EfHw81qxZk+P1Q0NDoaOjg+HDhwsh8PPnzwgNDZU7l5k9T1cZ8YogEdE34uPjcevWLeG1RCLByZMnERwcjH/++SfDh6obGBigc+fOmDlzJqKiomBoaIgnT57Aw8MD5cqVE77pb9GiBU6dOoV58+ahVatWCA0NRVBQULZrS6tL9v8PlL9x4wb8/f1hZmYmfBtdpEgRDB8+HN7e3lBXV0fLli0RGRmJFStWoFq1arCxscnVecnpdqdNm4YJEyagWLFi8PPzw5cvX7LsHmVvb4/p06fDyckJnTp1QlRUFDw9PSEWi9GtW7dM1ytXrhxcXV0xffp09O3bF7169UKZMmXw/Plz+Pv749mzZ/D19UWhQoVQqFAh6OvrY+vWrShdujR0dXUREhIifAhPu2ds4MCBCAoKwpAhQzBy5EgUKFAAa9asQcmSJeUeSpwRFRUVdOvWDUFBQXj9+rVwr8+3jI2NcfjwYWzfvl3o+rpq1SqIRKIs71vLidevXwvvl+TkZERFRWHnzp24ffs2vLy8hAA6aNAg7N+/H4MGDcKYMWNQtGhRBAUF4fLly5g/f362PzBpa2tj6NCh8PT0hKamJho0aICrV69i+/btwnn5kYYNG6JcuXKYOXMmSpcujSZNmmS5vI2NDbZs2YJBgwZh5MiRKFOmDC5evAhfX1/069cvXffknBo4cCCuXbuGcePGoUePHrC0tISKiopwH1b16tWFgXyaNWsGc3NzuLi44O3bt6hVqxauXr0KX19fdOvWLdNBXKpUqYLhw4djzZo1ePnyJTp37ozSpUvj/fv32LdvHy5duiQEjNzuIzPfdhH9lrGxMbZv347ly5ejZcuWePv2LXx9ffH27Vu5e+r+RMbGxgCAOXPmoHv37oiLi8OWLVuE7uVfvnzJsEvoz+jevTueP3+ORYsW4fz58+jUqRP09fXx8eNHhISEYN++fVBXV890BFpjY2MEBwejdu3aKF26NG7evIk1a9bk+v+Dnj174siRI7hw4YLQWyW3HB0dMXz4cEycOBGdO3dGSkoK1q9fj9u3bwv/nzds2BCamppYuHAhJkyYgM+fP8Pb2xtFihTJ1T6rV68Oe3t7LF++PMfrpr13Fy5ciBYtWuDt27fw8/PDu3fv5N67urq6uHnzJi5duoRatWr98e/rX4lBkIjoG/fv3xeGhAdS74OoUKECHBwcsuyqsmDBAqxZswY7duzA69evUaxYMXTo0AETJkwQrjylfWDYu3cvdu7ciQYNGmDFihXCCGg/8m1dGhoaqFixIkaPHo0BAwbIdT0aO3Ysihcvji1btmD37t0oUqQI2rVrhwkTJvzU/Ts52a6rqyvmz5+PmJgY1K1bF9u3b8/y6pKtrS00NTXh5+cHe3t7aGpqonXr1nB0dEx3T9T3unXrhooVK2Ljxo1Yvnw53r9/jxIlSsDU1FQIqmlWrlyJefPmwcnJCRoaGqhWrRpWrVqF+fPn4/r167Czs0OZMmWwbds2uLu7w9nZGRoaGmjQoAHc3d2z9eHGxsYGPj4+KFu2bIajMjo5OUEikWD58uVISkpCuXLlMGrUKDx+/BinTp3K0eA3mUkbKAZIDWG6urpo0KABtm/fLnxYBlLvL9u+fTuWLl2KefPmQSKRoEaNGli5cmWGowhmZcSIEZBKpdi5cyf8/PxgYmKCSZMmYcGCBenuTcqISCSCjY2N8GiSH4XHQoUKYevWrVi6dCnc3d3x6dMn6OvrY+LEiRg8eHCOas+Iuro6Vq5ciZ07d2Lfvn04fPiw0F4jRoyAnZ2d0BVcJBJhzZo18PT0xKZNmxATE4Ny5crBwcEBgwYNynI/jo6OQtdzNzc3xMfHQ1dXF2ZmZtizZ49wr9nP7CMzZmZmwiMT0nTr1g2RkZEICAjA+vXrUapUKTRv3hw2NjaYOXMmHj9+nOPQ+buYm5tj1qxZ2LBhA44cOYLixYvD3Nwc3t7esLe3R2hoKJo3b57n+3VwcECLFi2wY8cOeHt74+3btyhYsKBw35utrW2m/3csXLgQc+fOxdy5cwGkjkA6e/Zs7N+/H9evX89VPWldRH9WkyZN4OfnB29vb4wbNw7q6uqoXbs2NmzYIHTjTxvsaOnSpbC3t4e+vj7GjBmToy85vzds2DAcP34c9+7dy9F63753t23bJrx3+/TpI/fe7du3L+7evYthw4ZhwYIF6QZBUyYiWU7uRCUiIsqCl5cXvL298ejRI0WX8lf4dsRXRfuZWpKTk3HgwAGYm5ujTJkywvStW7fCzc0NV65c+emrE0RElLd4RZCIiEhBBg4ciKioKJw6dUrRpfxULWpqavD19cXGjRsxatQoFC1aFA8fPsSKFSvQtWtXhkAioj8QrwgSEVGe4RXBnEl7vlXaIyz+5lpevHiBZcuW4cqVK4iLi0PZsmXRuXNnjBgx4qfv1yMiorzHIEhERERERKRkOH4qERERERGRkmEQJCIiIiIiUjIMgkREREREREqGQZCIiIiIiEjJ8PERRJQjMpkMUinHmMpvVFREbNd8iO2aP7Fd8ye2a/6kiHZVURFBJBL9cDkGQSLKEZFIhLi4L0hOliq6FMojamoqKFpUi+2az7Bd8ye2a/7Eds2fFNWuenpaUFX9cRBk11AiIiIiIiIlwyBIRERERESkZBgEiYiIiIiIlAyDIBERERERkZJhECQiIiIiIlIyDIJERERERERKhkGQiIiIiIhIyTAIEhERERERKRkGQSIiIiIiIiXDIEhERERERKRkGASJiIiIiIiUjJqiCyCiv4+qKr9Dyk/S2pPtmr+wXfMntmv+xHbNn/709hTJZDKZoosgor+HTCaDSCRSdBlEREREfzypTIa4jwmQSFJ+2z719LSyFUJ5RZCIckQkEsH97Vu8kEgUXQoRERHRH6u8ujomlywJFZU/8wt0BkEiyrEXEgnCk5IUXQYRERER5dKf3XGViIiIiIiI8hyDIBERERERkZJhECQiIiIiIlIyDIJERERERERKhkGQiIiIiIhIyTAIEhERERERKRkGQSIiIiIiIiXDIEhERERERKRkGASJiIiIiIiUDIMgERERERGRkmEQJCIiIiIiUjIMgkREREREREqGQZCIiIiIiEjJMAgSEREREREpGQZBIiIiIiIiJcMgSATAyckJdnZ2v3QfXl5eEIvF6NSpU4bzb926BbFYDCsrK2GaWCxGYGBguhojIyMhFotx5cqVX1ozEREREeVPaoougEiZqKurIywsDBEREahSpYrcvEOHDkEkEslNCwkJgY6Ozu8skYiIiIiUAK8IEv1GJUuWRLVq1XDkyBG56TKZDEeOHIGZmZnc9BIlSqBgwYK/s0QiIiIiUgIMgkQZeP36NSZNmoTGjRujdu3aaN68OTw8PCCVSgEAgYGBsLKywt69e9G6dWsYGhqie/fuuHnz5g+33a5dOxw+fFhuWmhoKKRSKerXry83/duuoVlJSkrC0qVL0apVKxgaGsLc3ByOjo6IjY0F8L+upCtXroSFhQWsrKwQFxeX3dNBRERERPkMgyBRBkaMGIGYmBj4+fnhyJEjGDp0KFavXo1Tp04Jy7x9+xY7duyAu7s7du7cCRUVFUydOhUymSzLbXfo0EHoHprm4MGDaNeuHVRUcvcruXjxYhw4cADz5s3D0aNHsWjRIly4cAGrVq2SW27//v3YuHEjVqxYAV1d3Vzti4iIiIiyT0VFBDU1ld/2k128R5DoO4mJiejSpQvatm0LfX19AICdnR3Wrl2LR48eoVWrVgAAiUQCV1dX1KxZE0BqeLS3t0d0dDRKliyZ6farVq0KAwMDHDlyBKNHj0ZKSgqOHTsGb29vhISE5KpmIyMjtGnTBg0aNAAA6Ovro0mTJnj06JHccn369EG1atVytQ8iIiIiyjlt7T/zNh8GQaLvFCxYEP369cORI0ewceNGPHv2DA8fPsTbt2+FrqFpqlatKvw7bVAXiUTyw32kdQ8dPXo0rl69igIFCsDU1DTXQbBLly64dOkSli1bhqdPnyI8PBwRERHp7jmsWLFirrZPRERERLkTH58IiSTlt+1PV1cTqqo/vjLIrqFE30lISECvXr2watUqaGtro0uXLti6dStKly6dblkNDY10037UNRSQ7x566NAhdOjQ4adqdnV1xfjx45GYmAhLS0ssWbIE1tbW6ZbjwDNEREREv5dUKkNysvS3/WQXrwgSfef8+fO4d+8eLly4gOLFiwMAPnz4gPfv32cr5GVH5cqVUaNGDRw+fBjHjh2Dv79/rrcVGxuL7du3w8PDQy5QRkREoFChQnlQLRERERHlN7wiSPSdtCt/+/fvR1RUFK5fv47Ro0dDIpEgKSkpz/bTvn17rF+/HkWLFhXuM8wNHR0d6Ojo4OTJk3j27BkePXqEmTNn4t69e3laLxERERHlHwyCRN8xNjaGs7MzNm3ahPbt28PZ2Rn169dHx44dcfv27TzbT4cOHRAfH59hF86cUFNTw4oVKxAWFoZOnTph6NChSEhIgKOjI/777z98+fIljyomIiIiovxCJMurvm5EpDTGRUUhnFcbiYiIiDJVVUMDnvr6iItLwNevyb9tv3p6WhwshoiIiIiIiNJjECQiIiIiIlIyDIJERERERERKhkGQiIiIiIhIyTAIEhERERERKRkGQSIiIiIiIiXDIEhERERERKRkGASJiIiIiIiUDIMgERERERGRkmEQJCIiIiIiUjIMgkREREREREqGQZCIiIiIiEjJMAgSEREREREpGQZBIiIiIiIiJcMgSEREREREpGQYBImIiIiIiJSMmqILIKK/T3l1dUWXQERERPRH+9M/L4lkMplM0UUQ0d9DJpNBJBIpugwiIiKiP55UJkPcxwRIJCm/bZ96elpQVf1xx09eESSiHBGJRIiLS0BKilTRpVAeUVVVga6uJts1n2G75k9s1/yJ7Zo/pbXrn3rdjUGQiHIsJUWK5GT+ocpv2K75E9s1f2K75k9sV/qdOFgMERERERGRkmEQJCIiIiIiUjIMgkREREREREqGQZCIiIiIiEjJMAgSEREREREpGQZBIiIiIiIiJcMgSEREREREpGT4HEEiyjFVVX6HlJ+ktSfbNX9hu+ZPbNf8SdnaVSqVQSr9Mx+yrkxEsj/1UfdE9EeSyWQQiUSKLoOIiIj+UilSGT7Efs73YVBNTQVFi2ohNvYzkpOlv22/enpa2fpSgVcEiShHRCIR3N++xQuJRNGlEBER0V+mvLo6JpcsCRUVUb4Pgn86BkEiyrEXEgnCk5IUXQYRERER5ZJydEQmIiIiIiIiAYMgERERERGRkmEQJCIiIiIiUjIMgkREREREREqGQZCIiIiIiEjJMAgSEREREREpGQZBIiIiIiIiJcMgSEREREREpGQYBImIiIiIiJQMgyAREREREZGSYRAkIiIiIiJSMgyCRERERERESoZBkIiIiIiISMkwCBIRERERESkZBkEiIiIiIiIlwyBIRERERESkZBgEKUN2dnZwcnLKcJ6TkxPs7Oyyva3AwECIxeK8Kk1OaGgorl+/nul8JycniMViuZ/atWujSZMmcHZ2Rmxs7C+p6/sacnK+fsaVK1cgFosRGRmZ6TJZtS0RERERKQc1RRdA9DP69OmDBQsWwMzMLNNlTE1N4eXlJbxOTEzEzZs3MWfOHMTExGDNmjW/o1QiIiIioj8GgyDle+rq6ihRooTctPLly+P58+fw8vJCfHw8tLW1FVQdEREREdHvx66h9NPEYjECAwPlpllZWcldhQOA3bt3o1mzZqhTpw7GjRuHmJgYYV5SUhLc3d3RtGlTmJqaomfPnggJCRHmBwYGwsrKCvPmzYOZmRlGjhwpdDd1dnbOVVfHAgUKQCQSQSQSAQDi4uLg4uKC5s2bo3bt2rCwsICLiwsSExMBZNztMjIyEmKxGFeuXAEAyGQyrFy5UjjO6dOn4+vXr3L7DQ0NxaBBg1CvXj0YGhqiY8eOOHDggDD//fv3GDduHMzNzWFsbIxevXrh6tWrwvzk5GR4eXnBysoKJiYmsLGxwblz5+T2cfbsWXTq1AmGhoawtrbGmTNncnx+iIiIiCj/YhCk32bTpk1Yvnw5tmzZgjdv3mDw4MGQyWQAUsPc+fPn4e7ujr1796J9+/YYOXKkXICJiorCmzdvsHfvXkycOFEIitOmTcP06dOzXYdMJsONGzewceNGtG7dGlpaWgCAqVOn4s6dO/D09MTRo0fh7OyMwMBA7Ny5M9vbXrt2LdatW4cpU6YgMDAQ2traOHTokDA/7bhr1KiBwMBA7Nu3D0ZGRnB2dsa7d+8AAK6urkhMTMSWLVsQHByMypUrY/To0fjy5QsAYP78+di6dSsmTZqE4OBgNG/eHKNHj8bjx4/lzvWMGTMQHByMSpUqYcKECfj8+XO2j4OIiIjoV1JVVYGaWv7+UVVVUcixZhe7hlKmgoODcfTo0XTTk5KSULdu3Rxvz93dHTVq1AAALFq0CG3btsWlS5egr6+PAwcOYM+ePTAyMgIADBo0CA8fPoSfnx8sLS2FbYwePRrly5eX266Ojg50dHQy3e/169dhamoqvP769Sv09PTQoUMHTJgwQZhuYWEBMzMzocZy5cphy5YtePToUbaOTyaTYfPmzejfvz86duwIIDXgpl0tBFLP3ZgxYzBkyBCoqKT+oo4YMQKBgYF4+vQpihcvjufPn8PAwAAVKlRAgQIFMH36dHTq1AmqqqqIj4/Hrl27MGPGDHTo0AEAMH78eEilUrmgN23aNJibmwMA7O3tceLECYSHh8PY2Dhbx0JERET0K+nqaiq6hN/mTz1WBkHKlJWVFSZNmpRu+pIlS/Dhw4ccbUtLS0sIWABQqVIlFC5cGGFhYfj48SMAoH///nLrSCQS6Orqyk2rVKlSjvYLAIaGhliyZAlkMhkeP36MefPmoUaNGhg/fjwKFSokLNenTx+cOnUK+/btw/PnzxEWFoYXL15ke5+xsbGIjo4WwmyaOnXqIDw8HEDqvYndu3fHli1b8PjxYzx9+hQPHjwAAKSkpAAAxowZg8mTJ+P48eMwMzNDkyZN0KFDBxQoUABhYWGQSCSoU6eO3D4cHBwAQAidlStXFualncO0Lq5EREREihYXl4CUFKmiy/ilVFVVoKur+duPVVdXU7gamRUGQcqUlpYWKlasmOH074NgWhfPNBKJRO61qqpquu1IpVJoaGgI627dulXoppkm7apZmoIFC2a7/m/XSTuOSpUqoVKlSujRowccHR2xevVqiEQiyGQyjBw5Eo8ePUKnTp3Qtm1bODo6YubMmem29+2xJicnZzkfANTU/vdrFh4ejt69e6NWrVqwsLBAy5YtUbRoUfTo0UNYpnXr1jh//jzOnz+PixcvYt26dVixYgV27doFdXX1bB3z9+cto7qIiIiIFCUlRYrk5PwdBNP8qcfKewTpp6mrq+PTp0/C6/j4eLmBYIDUgVieP38uvH706BE+ffoEAwMDVK9eHQDw9u1bVKxYUfgJDAxEQEBAntdbrVo1TJo0CWfOnMGOHTsAAPfv38fZs2fh6emJSZMmoXPnzqhQoQKeP38uBKi0EBYfHy9s69mzZ8K/9fT0UKZMGYSGhsrt7+7du8K/t2/fjmLFisHf3x/Dhg1D8+bNhXsDZTIZkpKSsGDBArx48QIdOnSAm5sbjh8/DhUVFZw5cwYVK1aEuro6/v33X7l92NraYt26dXl4loiIiIgoP2MQpJ9mamqKnTt34t69ewgLC8OUKVPkroIBqVeoJkyYgFu3buHWrVuYMmUKGjRoADMzM1SvXh0tWrSAi4sLTp48iRcvXsDPzw9r1qxJdz/g9woVKoTw8PAcPxi+T58+qF+/PpYsWYI3b96gePHiUFNTw+HDh/HixQv8+++/mDBhAqKjo5GUlAQAMDAwgJaWFlatWoVnz57h2rVr8PDwEEYdBYBhw4Zh69at2L17N548eYLly5fjzp07wvzSpUvj9evXOHv2LKKionDs2DG4uroCSL1/UENDA7dv38bMmTNx69YtREZGIjAwEJ8/f4apqSk0NTXRr18/rFixAidPnsTz58/h4eGBx48fo0WLFjk6B0RERESkvNg1lH6aq6srZs+ejV69ekFPTw+DBg0SRrhMo6enhy5dumD06NFISEhAixYtMGPGDGG+h4cHPDw84OLigo8fP6J8+fKYO3cuunfvnuW+Bw8ejHXr1iEiIgKrVq3Kds0ikQhz585Fly5d4OrqilWrVmHhwoXw8vLC1q1bUaJECVhaWmLgwIE4efIkZDIZtLW1sWTJEixduhTW1taoXLkynJ2dMXToUGG7ffv2hVQqxapVq/Du3Ts0bdoUtra2ePLkCYDU+yAjIiIwZcoUJCUloVKlSnB0dISnpyfu3LmDZs2aYcWKFViwYAFGjRqFT58+oUqVKli6dCnMzMwAAI6OjlBTU4Orqyvi4uIgFouxdu1aVK1aVbi6SERERESUFZGMNw4RUQ6Ni4pC+P9fKSUiIiLKrqoaGvDU10ds7Oc/8r65vKSmpoKiRbV++7Hq6Wlla7AYdg0lIiIiIiJSMgyCRERERERESoZBkIiIiIiISMkwCBIRERERESkZBkEiIiIiIiIlwyBIRERERESkZBgEiYiIiIiIlAyDIBERERERkZJhECQiIiIiIlIyDIJERERERERKhkGQiIiIiIhIyTAIEhERERERKRkGQSIiIiIiIiXDIEhERERERKRkGASJiIiIiIiUjJqiCyCiv095dXVFl0BERER/IX6G+HMwCBJRjshkMkwuWVLRZRAREdFfKkUqg1QqU3QZSo9BkIhyRCQSIS4uASkpUkWXQnlEVVUFurqabNd8hu2aP7Fd8ydla1cpg+AfgUGQiHIsJUWK5OT8/4dK2bBd8ye2a/7Eds2f2K70O3GwGCIiIiIiIiXDIEhERERERKRkGASJiIiIiIiUDIMgERERERGRkmEQJCIiIiIiUjIMgkREREREREqGQZCIiIiIiEjJMAgSEREREREpGT5QnohyTFWV3yHlJ2ntyXbNX9iu+RPbNX9StnaVSmWQSmWKLkPpiWQyGVuBiLJNJpNBJBIpugwiIiL6S6VIZfgQ+znfh0E1NRUULaqF2NjPSE6W/rb96ulpZetLBV4RJKIcEYlEcH/7Fi8kEkWXQkRERH+Z8urqmFyyJFRURPk+CP7pGASJKMdeSCQIT0pSdBlERERElEvK0RGZiIiIiIiIBAyCRERERERESibXXUOTkpKwZ88eXLx4EdHR0Zg/fz6uXr2K2rVrw9jYOC9rJCIiIiIiojyUqyuCMTEx6N69O+bNm4dnz57hzp07SExMxNmzZ2FnZ4ebN2/mdZ1ERERERESUR3IVBBcvXozPnz/j0KFD2Lt3L9KeQLFixQoYGRnB09MzT4skIiIiIiKivJOrIHj69GmMHz8eFStWlHueWIECBTB48GDcu3cvzwokIiIiIiKivJWrIPj161cUKVIkw3mqqqqQ8PliREREREREf6xcBUEjIyNs27Ytw3nBwcEwNDT8qaKIiIiIiIjo18nVqKHjx4/HwIED0aVLFzRv3hwikQgHDhyAl5cXQkJCsG7duryuk4iIiIiIiPJIrq4ImpmZYcOGDdDU1MS6desgk8ng7++P6OhorFmzBg0bNszrOomIiIiIiCiP5Po5gvXr18eOHTuQmJiIjx8/QltbG1paWnlZGxEREREREf0CuQ6CABAfH4+4uDgAwMePH/Hx40dhXtmyZX+uMiIiIiIiIvolchUEHz58iMmTJ+Px48eZLvPgwYNcF0VERERERES/Tq6C4KxZsxAbG4spU6Zk+hgJIiIiIiIi+jPlKgiGhYVh4cKFaNeuXV7XQ0RERERERL9YrkYNLV++PKRSaV7XQn+Q+Ph4mJiYoHHjxkhKSpKb9/HjRwwZMgRGRkZo2rTpH/FeiIyMhFgsxpUrVwAAdnZ2cHJyytW2rly5ArFYjMjISLnp0dHRaN++PaysrPDixYufrjkvayMiIiIiyolcXRF0dHTEwoULUbx4cZiYmKBAgQJ5XRcp2MGDB1GsWDG8e/cOx48fh7W1tTAvKCgIV65cwZYtW1CqVCmoqOTq+4Q8VaZMGYSEhKBw4cIAAC8vL6iqqubZ9t+9e4cBAwYgOTkZmzdvhr6+fp5tOydMTU0REhICPT09heyfiIiIiPKHXAXBypUrQyaTYcCAARnOF4lEuH///k8VRooVEBCAJk2a4M2bN9ixY4dcEPz06RNKlCiBOnXqKK7A76iqqqJEiRLC67y8d/Xdu3fo378/pFKpEH4VRUNDQ+44iYiIiIhyI1eXcpydnREbG4uePXvC3t4+3c/o0aPzuk76jcLDw3H79m1YWFigXbt2uHr1KsLDwwEATk5O8PLywsuXLyEWi+Hl5QUgNTh27doVxsbGqFOnDuzs7HDv3j1hm1ZWVli7di3Gjh0LU1NTmJubY/78+UhOThaW+dE27ty5gz59+sDU1BT169fH2LFj8fLlSwBZdw1NSUmBu7s7mjdvDkNDQ7Rr1w7bt2/P1rlIC4EqKirpQmBG3TS/rSPt3xn97N27FwAgFotx4MAB9O/fH8bGxmjdujVOnTqFU6dOoW3btqhTpw6GDh2KmJiYDPf5o/P6M8dORERERPlXrq4I3r9/HwsWLECHDh3yuh76A+zZsweFChVCs2bNkJycDA0NDWzfvh0zZszA9OnTUbRoURw6dEhY7vjx43BxcYGbmxvq16+Pd+/ewc3NDdOnT0dQUJCwXS8vL0yePBkTJ05ESEgI3NzcUKtWLXTt2vWH25BKpRgxYgR69uyJRYsWIS4uDrNmzcK0adPg7++f5fFs27YNR44cgYeHB0qVKoXTp0/D1dUV1atXh5mZWabrxcTEwNnZGRERETh48CCKFy+eo/OY1l01jVQqhaOjI+Li4tC6dWthupubG2bPng03NzcsWLAAEydORLVq1eDu7o4vX75g3Lhx8PX1xdSpUzPcT1bnNbfHTkRERPQrqaoq/taiXy3tGP/UY81VECxZsiQ0NTXzuhb6AyQnJyM4OBgtWrQQ2rh58+bYt28fJk6cCB0dHRQqVEiuK2aRIkXg5uaGrl27AgD09fXRo0cPuLi4yG27adOm6N+/PwCgUqVK2LNnD27cuIGuXbv+cBufPn1CbGwsSpYsiXLlykEkEmH58uV4//79D4/p+fPnKFSoEMqXL48SJUqgX79+qFKlCipXrpzlevb29ihRogR0dXXh7u6O1atXZ/s8Aum7q86bNw9PnjzB7t27oa2tLUzv1q0b2rZtCwDo1asXTp06BQcHBxgbGwMALCwsEBYWlul+sjqvuT12IiIiol9JV1d5ssSfeqy5CoLDhw/H8uXLUblyZVSqVCmPSyJFOnv2LKKjo+Wu9nbo0AHHjx/HwYMHYWtrm26d+vXrQ09PDytXrsSzZ8/w5MkTPHjwIN1oolWrVpV7raOjA4lEkq1tFC5cGEOHDsXcuXPh7e2Nxo0bo1mzZkKAykrfvn1x4sQJNGvWDIaGhrCwsED79u1RrFixLNfT19fHunXrcO7cOTg4OGDTpk1C4MqprVu3YseOHdi4cWO6gWa+DWUFCxYEkDoyb5oCBQqkG7n1W1md19weOxEREdGvFBeXgJQUxY88/yupqqpAV1fztx+rrq5mtq5C5ioIHj16FFFRUWjfvj10dXXlrm4AqYPFnDhxIjebJgULDAwEAIwbNy7dvB07dmQYBA8ePIgpU6agY8eOMDY2hq2tLcLCwjBnzhy55TQ0NNKtK5PJsr2NSZMmoU+fPjh79iwuXboEV1dXrFmzRq77aUYqVaqEY8eO4erVq7hw4QJOnjyJ1atXY8GCBejWrVum6y1atAja2tro0KEDTp8+DXd3d9SvXx81a9bM8BgAyN3zmObcuXOYP38+5s+fj7p166abr6aW/tdQJBJleUzfyuq85vbYiYiIiH6llBQpkpPzdxBM86cea66CYIkSJeTucaL8ISYmBmfPnoWNjQ0GDRokN2/jxo3Ys2eP3OAtaVavXg1bW1vMnj1bmHby5EkAqYEkO6HmR9t48uQJNm7ciGnTpqF3797o3bs3QkND0adPHzx8+DDLxyls2rQJxYoVg7W1NSwsLDBlyhQMGjQIhw4dyjIMffv4iVmzZuH69etwcHBAYGAgChUqBHV1dQCpz1xM8+zZM7ltPHr0CA4ODhg6dCi6dOnyw/OQ13J77ERERESUv+UqCC5YsCCv66A/wL59+5CcnIyhQ4em6244cuRI7N27F9u3b0/3+IQyZcrgxo0buHfvHnR0dHDq1Cls2bIFAJCUlJSt50z+aBtFihTBgQMHkJiYiOHDh0NFRQUBAQEoXLgwqlSpgg8fPmS67ffv38PHxwcFCxZEjRo1EB4ejvv372f6+JOM6OjoYNGiRRgwYADmzp2LBQsWwMDAAFpaWli1ahUmTpyIt2/fwsPDQwi+0dHRGDlyJBo2bIgBAwYgOjpa2F7BggWho6OT7f3nVl4cOxERERHlP7kKgmnevXsHiUQidEOTSqVISEjA9evX0bt37zwpkH6fwMBANG7cOF0IBFLvWWvdujUOHjyInj17ys2bOXMmZs2ahX79+kFDQwM1atTA4sWL4eDggNu3b6NBgwY/3Hd2trFu3TosXboUPXv2REpKCurUqYMNGzZAW1s7yyA4ZswYJCcnY+7cuXj37h1KlCiBPn36YMSIETk6Pw0aNMCgQYPg5+eHxo0bo1OnTliyZAmWLl0Ka2trVK5cGc7Ozhg6dCgA4Pz583j58iVevnyZrqt0t27dsHDhwhztPzfy6tiJiIiIKH8Ryb69wSmbHj58CEdHRzx58iTjjfKB8qRgvXv3RrVq1TB37lxFl5IvjYuKQngWA9gQERERZaSqhgY89fURG/v5j7xvLi+pqamgaFGt336senpav26wmMWLFyMuLg5Tp07F6dOnoaGhgRYtWuDcuXM4d+4cNm3alJvNEv20T58+4cmTJ3jy5AmaNGmi6HKIiIiIiP5IuXq64e3btzF+/HgMHDgQ1tbW+PLlC/r06YPVq1ejVatW2Lx5c17XSZQtly5dgp2dHSpWrJjhCKdERERERJTLK4JJSUnCs8+qVKmCR48eCfNsbGzSPUic6Hdp06YN2rRpo+gyiIiIiIj+aLm6Ili2bFm8ePECAFCxYkXEx8cjMjISQOozzT5+/Jh3FRIREREREVGeylUQbNOmDZYsWYIjR46gRIkSqFKlCjw8PPDo0SOsX78e5cuXz+s6iYiIiIiIKI/kKgiOGTMG9erVQ0BAAADA2dkZJ06cQNeuXXH58mWMHTs2T4skIiIiIiKivJOrx0ekkUgkUFdXBwC8ePECd+/eRe3atVGhQoU8K5CI/jx8fAQRERHlBh8f8evl+eMjnJ2ds7XcuXPnIBKJMH/+/OxumoiIiIiIiH6jbAfBK1eu/HCZ2NhYJCQkMAgSERERERH9wbIdBE+dOpXpPIlEglWrVmHt2rUoXrw4XF1d86I2IiIiIiIi+gVy9RzBbz148ABOTk4ICwuDtbU1Zs6cicKFC+dFbURERERERPQL5DoIJicnw8fHB76+vihSpAi8vb3RsmXLvKyNiIiIiIiIfoFcBcH79+/D2dkZjx49QufOnTFjxgzo6urmdW1ERERERET0C+QoCCYnJ8Pb2xvr1q2Dnp4eVq1ahRYtWvyq2oiIiIiIiOgXyHYQvHfvHpycnPD48WN07doV06dPh7a29q+sjYiIiIiIiH6BbAfBnj17QiqVQkdHB1FRURg9enSmy4pEImzcuDFPCiSiP095dXVFl0BERER/IX6G+HNkOwjWrVtX+LdMJsty2R/NJ6K/l0wmw+SSJRVdBhEREf2lUqQySKXMC4omkjG1EVEOxcUlICVFqugyKI+oqqpAV1eT7ZrPsF3zJ7Zr/qRs7SpVkiCopqaCokW1EBv7GcnJv69d9fS0oKqq8sPlfvo5gkSkfFJSpL/1PzT6Pdiu+RPbNX9iu+ZPbFf6nX4cFYmIiIiIiChfYRAkIiIiIiJSMgyCRERERERESoZBkIiIiIiISMkwCBIRERERESkZBkEiIiIiIiIlwyBIRERERESkZBgEiYiIiIiIlAwfKE9EOaaqyu+Q8pO09mS75i9s1/yJ7Zo/sT1JERgEiShHZDIZdHU1FV0G/QJs1/yJ7Zo/sV3zH6lMBpFIpOgySIkwCBJRjohEIri/fYsXEomiSyEiIsoXyqurY3LJklBRYRCk34dBkIhy7IVEgvCkJEWXQURERES5xA7JRERERERESoZBkIiIiIiISMkwCBIRERERESkZBkEiIiIiIiIlwyBIRERERESkZBgEiYiIiIiIlAyDIBERERERkZJhECQiIiIiIlIyDIJERERERERKhkGQiIiIiIhIyTAIEhERERERKRkGQSIiIiIiIiXDIEhERERERKRkGASJiIiIiIiUDIMgERERERGRkvkrg6CVlRW8vLx+2fYDAwMhFot/2fbT7Nq1C2KxGPPnz083LzIyEmKxGFeuXAEAODk5wc7OLsN5v5uTkxPEYnGWPwBgZ2cHJycnhdT4pzlx4gTEYjHCw8Plpu/evRtisRjOzs5y06VSKczMzLBy5UpcuXIFYrEYkZGRAOTf/9+/V3/17wYRERER5Q9qii5AmQUGBqJy5coICgqCo6MjChYsmK31ypQpg5CQEBQuXPgXV5ix6dOnY+LEicLrJk2aYNq0aejQoYNC6vkbNGzYEKqqqrhx4waqVq0qTD9//jzKlCmD8+fPQyaTQSQSAQAePHiAT58+wcLCAjVr1kRISAj09PR+uJ89e/agQIECv+w4iIiIiCh/+CuvCOYH4eHhuHnzJiZNmoRPnz7h0KFD2V5XVVUVJUqUgIaGxi+sMHM6OjooUaKE8JPZNPofbW1tGBkZ4caNG8K0lJQUXLp0CSNHjkR0dDQePnwozLt27RoKFy4MIyMjaGhooESJElBVVf3hfvT09KClpfVLjoGIiIiI8o98GwQDAgLQvn17GBsbo3379ti4cSOkUqkwPygoCNbW1jAyMkLTpk0xb948JCUlZbitpKQkuLu7o2nTpjA1NUXPnj0REhICAJBIJGjUqBG8vb3l1tm+fTsaN24MiUSS4TYDAwOhq6sLS0tLmJmZYfv27dk+tu+7hj59+hRDhgxBvXr1YGpqiiFDhuDRo0fC8h8+fMDs2bPRvHlzGBsbo3fv3rh+/bow38vLC3Z2dvD19UWzZs1gZGSE/v37IyIiIts1Zebz58+YNm0azMzMUK9ePTg5OeHLly/C/PDwcIwcORLm5uaoV68exo0bh5cvXwrz7ezssHz5csycOROmpqZo2LAhVq5ciYiICPTt2xfGxsbo3Lkz7ty5I6wjFouxfft29O7dG8bGxujUqRNOnjwpzE9ISMD06dNhYWEBIyMjdO3aFceOHRPmp6SkwN/fH23btoWRkRHatm2LXbt2CfPTumqePXsWHTt2hKGhIaytrXH69Oksz0XDhg3lguCtW7eQkJCAzp07o2rVqjh37pww7/r162jYsCFUVFTSdQ3NyvddQ0+fPg0bGxsYGxujdevWWL58eabvcyIiIiJSHvkyCO7cuROLFi2Cvb09Dh48iAkTJsDX1xdLliwBADx8+BAzZszA2LFjcfToUcyfPx/79u3DunXrMtyes7Mzzp8/D3d3d+zduxft27fHyJEjcebMGairq6Nz587Yv3+/3Dr79u1D586doa6unm57KSkp2LdvH1q1agU1NTVYW1vjzp07uH//fq6O19HRESVLlkRAQAB2794NFRUVjBkzRtjX4MGDcf36dSxatAh79+5FjRo1MHDgQPz777/CNm7evIlr165h7dq18Pf3x8uXLzF79uxc1fOtY8eOoXjx4ggMDMTixYtx6NAh+Pr6AgCioqLwzz//QENDAxs3bsSGDRvw/v179OvXD/Hx8cI21q1bhzJlymD//v2ws7PDihUrMGLECAwePBi7d+9GgQIF4OrqKrffxYsXo2PHjggKCkLz5s0xZswYIYStWLECjx49wtq1a3Ho0CE0a9YMDg4OQtBauHAhVq5ciTFjxiA4OBj9+/fHnDlzsHnzZrl9uLu7Y/r06QgMDET58uUxadIkfP78OdNz0bhxYzx9+hQxMTEAgJCQENStWxeFChWChYUFzp8/LywbGhqKJk2a5P7EAzh37hzGjx+PHj164MCBA3BxccHhw4cxefLkn9ouERER/RoqKiKoqanwJ5/8qKqmRi1V1d+73+zKl/cIrly5EiNGjEDHjh0BAOXLl0d8fDxmz56N8ePHIzIyEiKRCOXKlUPZsmVRtmxZ+Pn5QVtbO922nj17hgMHDmDPnj0wMjICAAwaNAgPHz6En58fLC0tYWtrC39/f9y8eROmpqZ4+vQpbt68mWmQOnfuHKKjo4V76tq2bQs3Nzfs2LEDc+bMyfHxPn/+HBYWFihXrhzU1NQwf/58REREQCqVIiQkBPfu3UNwcDAMDAwAALNmzcLt27fh5+eH5cuXAwCSk5OxePFiFClSBEDqlTh3d/cc1/I9IyMjODo6AgAqVKgACwsL3L17FwCwbds2FCpUCEuWLBG6uXp6esLKygr79+9Hnz59AAAGBgYYPXo0AGDw4MHw9PREhw4d0LJlSwCAjY1NugF3unfvjr59+wIAJk2ahGvXrmHLli2oW7cunj9/Dm1tbVSoUAE6OjoYP348zMzMULhwYcTHx2P79u1wcnJCp06dAACVKlXCixcvsHr1avTr10/Yx4QJE9CoUSPh3126dEFYWBhMTU0zPBempqbQ1NTEzZs30bJlS5w/fx5t27YFkHqf5bZt2xAfH4/Xr18jJiYGFhYWP3XuV69eDVtbW/Tu3Vs4/7Nnz8aAAQMQGRmJcuXK/dT2iYiIKG9pa2dvvAj6u+jqaiq6hAzluyAYExOD169fY8WKFXLdNaVSKb5+/YrIyEihi2f37t1RqVIlNG7cGC1btoShoWG67aVdpevfv7/cdIlEAl1dXQBA9erVYWRkhKCgIJiammLv3r0wNDTMdOTRgIAAFClSRAgRRYsWRaNGjRAcHIwpU6ZkGEiz4uDggPnz52P79u1o2LAhmjZtivbt20NFRQVhYWHQ0dERQiAAiEQimJmZyV2BKl68uBACgdR7/jLr1poTlStXlntduHBhREVFAQDCwsJgaGgod69jsWLFULlyZbmurd9uQ1Mz9RepfPnywrQCBQqk6+7YoEEDudcmJia4ePEiAGDYsGEYOXIkGjVqBFNTU1hYWMDa2ho6Ojq4c+cOJBIJ6tWrJ7e+mZmZcMUyTZUqVYR/p7WZRCLB9evXMWzYMGFe2bJlcfDgQWhoaKBevXq4ceMG6tati3v37sHNzU2oV0VFBaGhoXj58iUqVaoEfX39jE9qNt2/fx937tzB3r17hWkymQxAapdcBkEiIqI/S3x8IiSSFEWXQXlEVVUFurqaiItLQEqK9Mcr5BFdXU3hamRW8l0QTLsP0NnZGY0bN043v0yZMtDQ0MCmTZtw//59hISEICQkBDt27EDXrl2xYMECueXTPjhv3bo13SAcKir/O8Hdu3eHh4cHpk+fjuDgYAwZMiTD+mJiYnDmzBlIJBIYGxvL1S2TybBv3z7hSlZ29e3bF+3atcPZs2dx6dIlLFu2DF5eXggKCpIbifJbUqkUamr/a/5fNfBMVgOcZFZbSkqKXJfajLrXfnvuM/LtsQGpx5u2jqmpKc6ePYsLFy7g0qVL2LNnD7y8vLBu3ToUKlQIANLVlfa++tE5k8lkMDQ0RFBQUIa1NGrUCKdPn8alS5dQrFgx4csCTU1N1KtXD9euXcOrV69++mpgWs1Dhw5Ft27d0s3jgD5ERER/HqlUhuTk3xcY6PdISZH+ke2a7+4RLFasGIoVK4bnz5+jYsWKws+9e/eEbpBnz56Ft7c3atWqheHDh2PTpk0YN25chiN3Vq9eHQDw9u1bue0FBgYiICBAWK5jx474+vUr/P39ER0dLXRL/d7+/fshkUjg4+ODoKAguZ9ixYphx44dOTred+/eYc6cOZBIJLCxsYG7uzv279+P6OhoXL16FWKxGHFxcQgLC5NbLzQ0FNWqVcvRvvKagYEB7ty5I3c17927d3j27JncIxZy49v7H4HUgVlq164NILX7aWhoKFq2bIkZM2bg6NGjKF++PI4ePYoqVapATU1NbjAdIHXwlhIlSmTrkR0FCxaUe698e2WvcePGuH//Pi5evAgLCwu5wNmkSRPcv38fN27cyJMgWL16dURERMjV8ubNGyxevDjLexmJiIiIKP/7a68IPnv2TG6URSC1i6C5uTmGDh2KZcuWoWzZsmjevDnCwsIwe/ZsWFpaQkNDA2pqavDx8YG2tjZatmyJDx8+4PTp0xne21W9enW0aNECLi4umDVrFgwMDHDs2DGsWbMG8+bNE5bT0dFB69at4ePjg1atWmUaGAICAmBqaopWrVqlm9enTx94eXkhNDQUpUqVytZ5KFKkCM6cOYPnz59j4sSJ0NbWxp49e6Curg5DQ0OULVsWYrEYEydOxIwZM1C8eHFs2bIFYWFhcHFxydY+fpXevXtj+/btmDRpEkaPHo2kpCQsWrQIRYsWhbW19U9te+PGjahSpQoMDQ2xa9cuPHz4UOiG+ezZM+zfvx9z585FhQoVcOvWLbx8+RKmpqbQ0dFBz5494enpicKFC8PY2BghISHYtm0bHB0dM7yCmRM1a9ZEgQIFcPDgwXT3gzZp0gQ+Pj6QSCQwNzf/qf0AqV1gJ0yYAC8vL3Ts2BGvX7/GjBkzULZsWV4RJCIiIlJyf20QDA4ORnBwsNy0UqVK4dy5cxg8eDAKFCiAzZs3Y9GiRShWrBhsbGzg4OAAALCwsMC8efOwfv16eHh4oGDBgmjevDmcnJwy3JeHhwc8PDzg4uKCjx8/onz58pg7dy66d+8ut5yNjQ2Cg4NhY2OT4Xbu3r2LsLAwYfTS7/Xp0we+vr7YsWMHxo8fn63zoKamBl9fXyxatAgDBw5EQkICatasibVr16JChQoAgA0bNmDRokUYO3YskpKSULt2bfj7+6NOnTrZ2sevUr58eWzevBlLliwRRg+1sLCAu7u7cP9lbv3zzz/YsGED/vvvP9SoUQN+fn6oUaMGAGD27NlYtGgRJk+ejA8fPkBfXx+TJk1Cly5dAADTp09H0aJFsXTpUrx79w4VK1bErFmz0LNnz58+ZpFIBHNzcxw9ejTdVb8aNWpAS0sLFStWzPF9ohlp164dPDw8sGbNGqxZswaFCxdGixYtOGooEREREUEkS7sJjn5aUFAQli9fjlOnTv3wHjb6dcRiMRYsWJBpIKefNy4qCuF8HiEREVGeqKqhAU99fcTFJeDr12RFl0N5RE1NBUWLaiE29vNvvUdQT09LOQeLUYR79+4hIiICy5cvR79+/RgCiYiIiIjoj8bEkgdu3bqFGTNmwMTEBAMGDFB0OURERERERFli11AiyjF2DSUiIso77BqaP/3pXUN5RZCIiIiIiEjJMAgSEREREREpGQZBIiIiIiIiJcMgSEREREREpGQYBImIiIiIiJQMgyAREREREZGSYRAkIiIiIiJSMgyCRERERERESoZBkIiIiIiISMkwCBIRERERESkZBkEiIiIiIiIlwyBIRERERESkZBgEiYiIiIiIlIyaogsgor9PeXV1RZdARESUb/DvKikCgyAR5YhMJsPkkiUVXQYREVG+IpXJIJXKFF0GKREGQSLKEZFIhLi4BKSkSBVdCuURVVUV6Opqsl3zGbZr/sR2zZ/S2lUmYxCk34dBkIhyLCVFiuRkfgDJb9iu+RPbNX9iuxLRz+JgMUREREREREqGQZCIiIiIiEjJMAgSEREREREpGQZBIiIiIiIiJcMgSEREREREpGQYBImIiIiIiJQMgyAREREREZGS4XMEiSjHVFX5HVJ+ktaebNf8he2aP7Fd8ye2JykCgyAR5YhMJoOurqaiy6BfgO2aP7Fd8ye2a/4jlckgEokUXQYpEQZBIsoRkUgE97dv8UIiUXQpRERE+UJ5dXVMLlkSKioMgvT7MAgSUY69kEgQnpSk6DKIiIiIKJfYIZmIiIiIiEjJMAgSEREREREpGQZBIiIiIiIiJcMgSEREREREpGQYBImIiIiIiJQMgyAREREREZGSYRAkIiIiIiJSMgyCRERERERESoZBkIiIiIiISMkwCBIRERERESkZBkEiIiIiIiIlwyBIRERERESkZBgEiYiIiIiIlAyDIBERERERkZJhECQiIiIiIlIyDIJERERERERKRuFB0MrKCpaWloiPj083z8nJCXZ2dsJrsViMwMDAX1rPp0+fsGjRIrRs2RKGhoZo2LAhxowZg/v37+doO3Z2dnBycsr28t8f6+9gZWUFLy+vX7qPlJQU9OzZE3fv3s10GTs7O4jFYri5uWU4f+3atRCLxTk6n1mJjIyEWCzGlStX8mR7eSmv28TLywtWVlYAgM+fP6Ndu3Z4+fJlnm2fiIiIiP5OCg+CAPDq1SssXLjwh8uFhISgQ4cOv7SWUaNG4fr163Bzc8PRo0exdu1aqKqqom/fvnj8+PEv3Xd+5Ofnh4oVK8LQ0DDL5dTV1XH06FHIZLJ08w4dOgSRSPSrSvyj7NmzB4MHD86z7Q0ePBh79uwBAGhpaWHo0KGYMWNGnm2fiIiIiP5Of0QQLF++PHbv3o3z589nuVyJEiVQsGDBX1ZHWFgYrl27BldXVzRq1Aj6+vowNjbG0qVLUbhwYezevfuX7Ts/+vTpE9asWYMhQ4b8cFlzc3O8e/cOoaGhctOfPHmCp0+folatWr+qzD+Knp4etLS08mx7Wlpa0NPTE1537doVDx48wMWLF/NsH0RERET09/kjgmDnzp3RqFEjzJw5M8Muomm+7Rrq5OSEyZMnY9GiRWjUqBFMTEwwevRoREdHC8u/evUKkyZNgoWFBerUqYMhQ4bg0aNHmW5fRSX1dJw9e1buypSamho2b96M4cOHC9NOnTqFXr16wdTUFEZGRrC1tc30w/WVK1cgFosRGRkpTPtR98SFCxfCzMwMt27dgpOTE3r06CE3//Xr16hZsyYuXboEAAgICEDXrl1hbGyMOnXqwM7ODvfu3ROW//TpE6ZOnQozMzM0atQI/v7+ctuzsrKCWCxO9+Ps7AwAkMlk8PX1RcuWLWFiYoIuXbpg//79mZ5LANi5cydKlSqFGjVqZLkckBryzczMcOTIEbnphw4dgqWlZbpwlJ3zv3nzZrRt2xbGxsbo0KED9u3bJzf/9u3b6NmzJwwNDdGyZUsEBAQI85KSkrB06VK0atUKhoaGMDc3h6OjI2JjYwGkdmedMGGC3PZCQ0MhFovx7NkzyGQyrFu3Du3bt4ehoSHq1auHESNG4MWLF8LyYrEYHh4eaNGiBSwsLBARESHXNTS729i1axcGDRoEY2NjNG3aFGvWrBHmf9s1FEh9L7du3Rp+fn4/bBMiIiIiyr/+iCAoEokwb948xMXFYcGCBdle7/Dhw/jw4QO2bNkCb29vhIaGwsPDAwAQHx+P3r17482bN1i1ahV27NiBQoUKoV+/fpneI1WtWjVYWVlhxYoVsLS0xLRp0xAYGIg3b96gfPnyKFasGADg7t27sLe3R5s2bbB//37s3r0bxYoVw6RJk5CUlPTT52PJkiUIDAzE+vXrUadOHXTr1g137tzBs2fPhGX279+PUqVKwdzcHMePH4eLiwsGDhyIw4cPY+PGjUhMTMT06dOF5SdMmIA7d+5g9erVWL9+PU6fPo2oqChh/p49exASEiL8DB48GFpaWhg4cCAAwMPDA9u2bcOMGTMQHByM/v37w9XVFVu3bs30OE6cOIEWLVpk+7jbt2+frnvo4cOHYW1tLbdcds6/n58flixZgiFDhuDAgQPo27cvnJ2dceHCBWE7/v7+GDlyJA4dOoSmTZtixowZwjlevHgxDhw4gHnz5uHo0aNYtGgRLly4gFWrVgEAunXrhtOnT8t9cbF//37UrVsXFStWxMaNG7FmzRpMnjwZR48excqVK/HkyZN0XaB37twJT09P+Pj4oEqVKnLzsruNxYsXo2vXrti3bx+6d++OZcuW4fr165meZysrK1y5cgWfP3/+YZsQERHR76OiIoKamgp/8smPqmpq1FJV/b37zS61X/VGzil9fX1MnjwZrq6uaNeuHZo2bfrDdbS1tTFnzhyoq6ujatWq6NKlC86ePQsg9UN5bGwsAgMDha5xS5YsQatWrbB161ZMnjw5w216e3sjICAAwcHB2L9/PwICAiASidC+fXvMnTsX2traUFVVxYwZM9C3b19hvf79+2Pw4MF4//49ypQpk+vzsHz5cuzevRv+/v5Cd8gGDRqgfPnyCA4OxpgxYwAAwcHB6NKlC1RUVFCkSBG4ubmha9euwrns0aMHXFxcAAAREREICQmBv78/zMzMAABLly6VC2nfdh88fvw4Nm3aBG9vb4jFYnz58gX+/v5YvHixsE6FChUQFRUFPz8/ufOQRiqV4u7du+jdu3e2j71t27Zwc3NDaGgozMzMEBYWhlevXqF58+bYtGmTsFx2zr+/vz/69++Pnj17AgD69u2LxMREpKSkCOvY29sLV8scHBywfft23Lt3DxUrVoSRkRHatGmDBg0aCOe0SZMmwhXldu3aYe7cuTh+/Di6deuGpKQkHDlyBJMmTRLOz8KFC4Xt6+vro3379jh48KDcMXfp0gVGRkYZno/sbqNbt27o0qULgNTAv23bNuEcZkQsFkMikeDBgweZLkNERES/n7b2r7sFihRHV1dT0SVk6I8JggDQq1cvHD16FDNnzsSBAwd+uHzFihWhrq4uvNbR0YFEIgGQer9fpUqV5AJOgQIFYGxsnGX3UFVVVfTs2RM9e/bEly9fEBoaisOHD2Pv3r2QyWRYvnw5atasicKFC8PX11e4h+3BgwcAIBc0curWrVu4du0a9PT0ULp0aWG6SCRC165dhSD44MEDhIWFwdPTEwBQv3596OnpYeXKlXj27BmePHmCBw8eQCqVCucCgFzgKF68OMqXL5+uhn///ReTJ0/GpEmThND3+PFjfP36FVOnThW6igJAcnIykpKSkJiYmO7ezQ8fPkAikcid/9WrV8t1W+zUqRPmzJkjvC5WrBjq16+PI0eOwMzMDIcOHULr1q2hoaEht+0fnf+YmBi8ffsWJiYmcuul3auY1kX32ytwhQsXBgB8/foVQGpAu3TpEpYtW4anT58iPDwcERERQnAqVKgQ2rVrh+DgYHTr1g3nzp1DYmIi2rdvDyD1qtvt27fh6emJZ8+eITw8HP/99x9KlSolV1PFihXTtUGa7G6jatWqcq+1tbWF34OMpLXJt92oiYiISPHi4xMhkeT+syT9WVRVVaCrq4m4uASkpEh/2351dTWFq5FZ+aOCYFoX0U6dOmWri+j3AeFbMpksw5EmU1JSoKaW8WEfP34cERERGDFiBIDUD/tNmzZF06ZNUbRoUWzbtg0AcO3aNQwePBjNmzeHmZkZrK2tkZCQAHt7+yzr/bbLY3Jycrr5hQoVwurVqzFx4kTMnTtX6OYKpF718fb2xp07d3D48GGYmpqicuXKAICDBw9iypQp6NixI4yNjWFra4uwsDC5kAVACIZpvj8Pr169wqhRo2BtbY1Bgwalq3v58uXpui8CWbfDt/vs1auXEJSA1MDyvQ4dOsDb2xvTpk3D4cOH5bq3pvnR+U+r50cjjabdE/qttGN1dXXFoUOH0LVrV1haWmLUqFHw8/PDmzdvhGVtbGwwYMAAREdHY//+/WjVqpVwTL6+vvDy8oKNjQ0aNGgAOzs7nDx5Mt3VvKwGP8ruNjI6/xmNvpomrU1UVVUzXYaIiIh+P6lUhuTk3xcY6PdISZH+ke36RwVBILX725QpU+Di4oLy5cvnupulgYEBgoKC8P79e+Hevq9fv+Lu3btCF8rvvXr1Cl5eXujcuXO6/Wprawvb8fPzg7m5Oby9vYX5mzdvBpDxB/C0q5bf3k/27f1+39ZsamqK2bNnY+jQoWjfvj3atGkDIPW8NGjQAEeOHMGhQ4cwevRoYb3Vq1fD1tYWs2fPFqadPHlSqCeti+mNGzdgaWkJAIiLi8Pz58+F5ePj4zFixAhUrlwZrq6ucnVVqVIFampqePnypVx30k2bNuHx48fpAieQetVJQ0NDGFwFAIoUKYIiRYqkW/ZbrVu3xpw5c7Bjxw58/PgRjRs3TrfMj86/trY2SpYsiX///RctW7YUlhk3bhxKliwp3PeYmdjYWGzfvh0eHh5yjyuJiIhAoUKFhNf169eHvr4+goKCcObMGaxcuVKYt2rVKowZM0ZugCE/P78sA9r38mIbGXn//j2A1AF6iIiIiEg5/RGDxXyvV69eaNy4sdzoiDnVqVMn6OrqCoOkPHz4EJMnT8aXL1/wzz//ZLiOjY0NKlSoADs7O+zfvx8vXrzAw4cPsXXrVqxdu1a44lSmTBk8evQI169fR2RkJAICArBixQoAyHCwGAMDA2hpaWHVqlV49uwZrl27Bg8Pj0yvWDVt2hSdO3fG7Nmz5YKUjY0NduzYgdjYWLmAUqZMGdy4cQP37t3D8+fP4e/vjy1btgj1VKhQAe3atcOcOXNw8eJFhIWFYcqUKUKtKSkpcHBwQGJiIubNm4ePHz8iOjoa0dHRiImJgY6ODnr16oXly5cjKCgIL168wN69e+Hu7o7ixYtn2gbGxsZZPkg+I3p6ejA3N8fSpUvRpk2bDK/eZuf8Dx8+HBs3bkRQUBCeP3+OrVu34uTJk2jVqtUPa9DR0YGOjg5OnjyJZ8+e4dGjR5g5cybu3buXrn27du2KVatWoUiRInKhtUyZMrhw4QIeP36MiIgIeHh44NixYzkaTCgvtpGR+/fvo0CBAtkazZWIiIiI8qc/MggCgJub2089T01XVxdbtmyBjo4OBg4ciD59+iAhIQHbt2/P8N44IPWq37Zt29CyZUv4+PjA2toavXv3xsGDB+Hu7o5u3boBSL2yVKdOHYwcORJdu3bF7t27MX/+fBQsWBB37tzJcLtLlixBeHg4rK2tMWfOHEyZMiXDrolppk2bBqlUCjc3N2Fa27ZtAQCtWrWCjo6OMH3mzJkoXrw4+vXrhx49euD06dNYvHgxgNRHJADAokWLYGlpCQcHB/Tt2xfVqlUTHvL+6tUrnDt3Ds+ePUPr1q1hYWGBJk2aoEmTJrC1tQUAODs7Y+DAgfD09ET79u3h4+ODMWPGYOzYsZkeQ6tWrTJ9PEZW2rdvj/j4+HSjhabJzvnv168f7O3t4enpCWtra+zYsQMeHh5o2LDhD/evpqaGFStWICwsDJ06dcLQoUORkJAAR0dH/Pfff/jy5YuwbLdu3ZCQkCAM3JNm8eLFSExMRPfu3dGvXz+EhYVh9uzZeP/+vdxjRLKSF9vIyOXLl9G4cWNoav6ZNy4TERER0a8nkv1sPzOiTHz8+BFWVlbw9/fPdGRM+r2+fv2KZs2aYfny5WjUqFGutzMuKgrhefCoFCIiIgKqamjAU18fcXEJ+Po1/TgS9HdSU1NB0aJaiI39/FvvEdTT08rWYDF/7BVB+vsVLlwYQ4YMSffwelKcvXv3okaNGj8VAomIiIjo78cgSL/UsGHD8OzZswy7zNLv9fnzZ6xfv16uuzERERERKac/btRQyl/U1dWxZ88eRZdBALS0tHDs2DFFl0FEREREfwBeESQiIiIiIlIyDIJERERERERKhkGQiIiIiIhIyTAIEhERERERKRkGQSIiIiIiIiXDIEhERERERKRkGASJiIiIiIiUDIMgERERERGRkmEQJCIiIiIiUjIMgkREREREREqGQZCIiIiIiEjJMAgSEREREREpGTVFF0BEf5/y6uqKLoGIiCjf4N9VUgQGQSLKEZlMhsklSyq6DCIionxFKpNBKpUpugxSIgyCRJQjIpEIcXEJSEmRKroUyiOqqirQ1dVku+YzbNf8ie2aP6W1q0zGIEi/D4MgEeVYSooUycn8AJLfsF3zJ7Zr/sR2JaKfxcFiiIiIiIiIlAyDIBERERERkZJhECQiIiIiIlIyDIJERERERERKhkGQiIiIiIhIyTAIEhERERERKRkGQSIiIiIiIiXDIEhERERERKRkGASJiIiIiIiUDIMgERERERGRkhHJZDKZoosgor9LSopU0SVQHlNVVWG75kNs1/yJ7Zo/sV3zJ0W0q4qKCCKR6IfLMQgSEREREREpGXYNJSIiIiIiUjIMgkREREREREqGQZCIiIiIiEjJMAgSEREREREpGQZBIiIiIiIiJcMgSEREREREpGQYBImIiIiIiJQMgyAREREREZGSYRAkIiIiIiJSMgyCRERERERESoZBkIiIiIiISMkwCBIRERERESkZBkEiIiIiIiIlwyBIRD8klUrh6emJpk2bwsTEBIMHD8azZ88UXRb9pA8fPmDWrFlo1qwZ6tati969e+P69euKLovy0JMnT2BqaorAwEBFl0J5ICgoCB06dICRkRGsra1x+PBhRZdEP0kikcDDwwOWlpYwNTVFnz59cOPGDUWXRT9h5cqVsLOzk5v24MED9OvXD3Xq1IGlpSX8/PwUVJ08BkEi+qGVK1dix44dcHNzw86dOyESiTBs2DAkJSUpujT6CY6Ojrh9+zaWLVuGPXv2oHbt2hgyZAjCw8MVXRrlAYlEgkmTJuHLly+KLoXywL59+zBt2jT8888/OHDgADp06ABHR0fcvHlT0aXRT1i1ahUCAgLg5uaGoKAgVKlSBcOGDcObN28UXRrlgr+/Pzw9PeWmxcbGYtCgQahUqRICAgIwduxYrFixAgEBAQqq8n8YBIkoS0lJSVi/fj3Gjh2L5s2bo0aNGvDw8MCbN29w/PhxRZdHufTs2TNcuHABLi4uMDMzQ5UqVTB9+nSUKlUKBw4cUHR5lAe8vLygpaWl6DIoD8hkMqxYsQIDBgzAgAEDULFiRdjb26Nx48a4evWqosujn3Dy5El07NgRTZo0QcWKFeHk5IT4+HjcunVL0aVRDrx58wZDhw7FihUrULlyZbl5u3btgoaGBlxdXVG1alV0794dAwcOhK+vr4Kq/R8GQSLK0sOHD/H582c0bNhQmKarq4tatWrh2rVrCqyMfkbRokWxdu1aGBoaCtNEIhFkMhk+fvyowMooL1y7dg07d+7EokWLFF0K5YGIiAhERUWhU6dOctP9/PwwYsQIBVVFeaFIkSI4ffo0IiMjkZKSgp07d0JDQwM1a9ZUdGmUA/fu3UPhwoWxf/9+mJiYyM27fv066tevDzU1NWFaw4YN8eTJE7x///53lypH7ceLEJEye/36NQCgTJkyctNLliyJV69eKaIkygO6urpo3ry53LTDhw/j+fPnaNKkiYKqorwQFxeHKVOmYMaMGel+b+nv9PTpUwDAly9fMGTIENy/fx/lypXDqFGjYGVlpdji6KdMnz4dDg4OaNmyJVRVVaGiooIVK1agQoUKii6NcsDKyirT38XXr1/DwMBAblrJkiUBAC9fvkSxYsV+eX2Z4RVBIspSQkICAEBDQ0NueoECBfD161dFlES/QGhoKKZNm4aWLVvyg+VfztXVFXXq1El39Yj+XvHx8QCAqVOnomPHjli/fj0sLCwwevRoXLp0ScHV0c8IDw+Hrq4ufHx8sHPnTtjY2GDq1Kl4+PChokujPJKYmJjhZygACv8cxSuCRJSlggULAki9VzDt30Dqf16ampqKKovy0IkTJzBp0iSYmJhg2bJlii6HfkJQUBCuX7+O4OBgRZdCeUhdXR0AMGTIEHTr1g0AULNmTdy/fx8bNmxAo0aNFFke5VJUVBQmT54Mf39/mJmZAQCMjIzw+PFjeHl5wcfHR8EVUl4oWLBgusH10gJgoUKFFFGSgFcEiShLaV3L3r59Kzf97du3KF26tCJKojy0ZcsWjB07Fs2aNYOvr69c2Ke/T0BAAN6/fy8MRW9qagoAcHFxgbW1tYKro9xK+7/2++5l1apVQ2RkpCJKojxw584dSCQSGBkZyU03MTERugPT36906dIZfoYCgFKlSimiJAGvCBJRlmrUqAFtbW1cuXJFuGchLi4O9+/fR79+/RRcHf2Mbdu2Ye7cubCzs8O0adOgosLvBv92S5YsQWJioty0Nm3aYNy4cejQoYOCqqKfVatWLWhpaeH27dvClSMACAsL471kf7G0L1ofPXoEY2NjYXpYWBgqVqyoqLIoj9WvXx87duxASkoKVFVVAQCXLl1C5cqVFXp/IMAgSEQ/oKGhgX79+mHJkiXQ09ODvr4+3N3dUbp0abRu3VrR5VEuPXnyBPPnz0fr1q0xYsQIuZHLChYsCB0dHQVWR7mV2bfLxYoVg76+/m+uhvJKwYIFMXToUPj4+KBUqVIwNjbGwYMHceHCBfj7+yu6PMolY2NjmJmZYerUqXBxcUHp0qURFBSES5cuYdu2bYouj/JI9+7dsW7dOkyfPh1Dhw7FnTt3sHHjRsyePVvRpTEIEtGPjRs3DsnJyZgxYwYSExNRv359+Pn5pbv5mf4eR48ehUQiwfHjx9M9D7Jbt25YuHChgiojooyMHj0ampqawnNcq1atCi8vL5ibmyu6NMolFRUVrFy5EsuXL4ezszM+fvwIAwMD+Pv7o06dOoouj/JIsWLFsG7dOsybNw/dunVDiRIlMGXKFOF+X0USyWQymaKLICIiIiIiot+HN4QQEREREREpGQZBIiIiIiIiJcMgSEREREREpGQYBImIiIiIiJQMgyAREREREZGSYRAkIiIiIiJSMgyCRERERH8YPt2LiH41BkEiIiL6pezs7FCrVi38+++/Gc63srKCk5PTb67qzxUaGooRI0YougwiyucYBImIiOiXS0lJgbOzM5KSkhRdyh9v9+7dePz4saLLIKJ8jkGQiIiIfjkdHR38999/8PHxUXQpREQEBkEiIiL6DWrWrImuXbti3bp1uHv3bqbLZdRNNDAwEGKxGJGRkQAALy8vtGvXDidOnEDHjh1hZGSELl264ObNm7h16xZ69OgBY2NjdOzYEZcuXRK28/XrV8yePRvNmjWDoaEh2rVrh/Xr1+f4WKysrODh4YEFCxagQYMGaNCgASZPnozY2Fi55Xbv3g0bGxvUqVMHxsbG6NKlCw4dOiR3XLVq1cLu3bvRpEkTNGvWDOPGjcPevXsRFRUFsViMwMDAHNdHRJQdaoougIiIiJTD9OnTcfHiRTg7OyMgIAAaGhq53tbr16+xYMECODg4QFNTE3PnzsW4ceOgrq6OUaNGoWjRoli2bBkcHBxw5swZFCxYEPPmzUNISAimTp2K4sWL49y5c1i0aBGKFCkCGxubHO1/27ZtqFixIubPn4+YmBgsXboUERER2L17N1RUVLB161a4ublhzJgxmDp1Kj58+ABfX19MnjwZderUQdmyZQGkdpldvXo13NzcEBMTAzMzMyQmJuL+/fvw9vZGhQoVcn2OiIiywiBIREREv4Wuri5mz56NUaNGwcfHBw4ODrneVkJCAlxcXNCsWTMAQHh4OJYuXYp58+bB1tYWQGrIGjduHJ48eYKaNWvi6tWraNy4MaytrQEA5ubmKFSoEIoWLZrj/YtEImzYsAE6OjoAAD09Pdjb2+PcuXOwtLTEixcvMHjwYNjb2wvrlCtXDjY2Nrhx44YQBAFg5MiRsLS0FF7r6elBQ0MDderUyXFdRETZxSBIREREv42VlRU6d+6MdevWoU2bNqhdu3aut1W3bl3h38WLFwcAufBUpEgRAEBcXByA1OC3Y8cOvHnzBi1atEDz5s3lglpOtGjRQgiBQOpxqaur4/r167C0tBS6t3769AlPnz7F06dPhW6qEolEblsGBga5qoGI6GfwHkEiIiL6rWbMmIGiRYvCycnpp0YR1dbWTjetYMGCmS4/ffp0TJgwAZGRkZg9ezasrKzQq1cv3L9/P8f7LlmypNxrFRUVFClSRAidz58/x8CBA1G/fn307t0bvr6+QgD8/hmBxYoVy/H+iYh+FoMgERER/VaFCxeGq6srwsLCsGrVqnTzU1JS5F5/+fIlT/aroaGBUaNG4fDhwzh9+jRmzZqFFy9eYOLEiTne1ocPH+Rep6SkIDY2Fnp6epBKpRg+fDjev3+PXbt24datW9i/fz+fDUhEfxQGQSIiIvrtWrVqhY4dO2Lt2rWIiYkRpmtra+P169dyy964ceOn95eYmIi2bdsKo4SWLVsWffv2hbW1dbr9Zcf58+flrmaePHkSycnJaNSoEWJjY/HkyRPY2trC2NgYamqpd+KcO3cOACCVSrPctooKP54R0a/HewSJiIhIIWbOnInLly/j3bt3wrQWLVpgzZo1WL16NerUqYMzZ87IPQIitwoWLIjatWvD29sb6urqEIvFePLkCfbu3Yu2bdvmeHuvX7/GqFGj0L9/f7x69QrLli1DkyZNYG5uDgDQ19fH1q1bUbp0aejq6iIkJAQbN24EkDrQTVZ0dXXx7t07nD17FjVr1kzXDZWIKC/wKyciIiJSiCJFisDV1VVu2ogRI9CjRw+sX78eo0aNwps3bzBv3rw82d+cOXNgY2OD9evXY/DgwVi5ciVsbW3T1ZAd1tbWqFChAiZMmAAvLy9069YNPj4+wvyVK1eiVKlScHJywoQJE3Dr1i2sWrUKVapUwfXr17Pcto2NDfT19WFvb4+goKAc10ZElB0i2fd3LBMRERFRpqysrNCgQQMsXLhQ0aUQEeUau4YSERGR0pNKpT+8dw+AcL8fEdHfjv+bERERkdKbNm0a9u7d+8PlTp48+RuqISL69dg1lIiIiJReZGQkYmNjf7icWCyGhobGb6iIiOjXYhAkIiIiIiJSMhw1lIiIiIiISMkwCBIRERERESkZBkEiIiIiIiIlwyBIRERERESkZBgEiYiIiIiIlAyDIBERERERkZJhECQiIiIiIlIyDIJERERERERK5v8AZFjoa2VoHRsAAAAASUVORK5CYII=",
      "text/plain": [
       "<Figure size 800x400 with 1 Axes>"
      ]
     },
     "metadata": {},
     "output_type": "display_data"
    }
   ],
   "source": [
    "plt.figure(figsize = (8, 4))\n",
    "ax = plt.barh(num_year_participate['Name'], num_year_participate[0], color = \"#4ADEDE\")\n",
    "plt.xlabel('Nums_part')\n",
    "plt.ylabel('Name')\n",
    "plt.title('Biểu Đồ Top 5 Các Vận Động Viên Có Số Năm Tham Gia Nhiều Nhất')\n",
    "plt.gca().invert_yaxis()\n",
    "plt.show()"
   ]
  },
  {
   "cell_type": "markdown",
   "metadata": {},
   "source": [
    "### 4.2. Top 5 vận động viên đạt nhiều huy chương nhất?\n",
    "\n",
    "Để trả lời cho câu hỏi này, ta sẽ làm như sau:\n",
    "- Bước 1: Tính số lượng huy chương theo từng loại Gold, Silver, Bronze của các vận động viên. Chọn ra top 5 người có tổng số huy chương nhiều nhất. Ta lưu kết quả vào series `num_medal_reward`.\n",
    "- Bước 2: Từ kết quả ở trên, ta vẽ group stack bar chart, trong đó trục hoành là tên và trục tung là số lượng huy chương.Ta đặt tên trục hoành là \"Name\" và tên trục tung là \"Nums_medal\"."
   ]
  },
  {
   "cell_type": "markdown",
   "metadata": {},
   "source": [
    "Code bước 1. "
   ]
  },
  {
   "cell_type": "code",
   "execution_count": 17,
   "metadata": {},
   "outputs": [
    {
     "data": {
      "text/html": [
       "<div>\n",
       "<style scoped>\n",
       "    .dataframe tbody tr th:only-of-type {\n",
       "        vertical-align: middle;\n",
       "    }\n",
       "\n",
       "    .dataframe tbody tr th {\n",
       "        vertical-align: top;\n",
       "    }\n",
       "\n",
       "    .dataframe thead th {\n",
       "        text-align: right;\n",
       "    }\n",
       "</style>\n",
       "<table border=\"1\" class=\"dataframe\">\n",
       "  <thead>\n",
       "    <tr style=\"text-align: right;\">\n",
       "      <th>Medal</th>\n",
       "      <th>Bronze</th>\n",
       "      <th>Silver</th>\n",
       "      <th>Gold</th>\n",
       "    </tr>\n",
       "    <tr>\n",
       "      <th>Name</th>\n",
       "      <th></th>\n",
       "      <th></th>\n",
       "      <th></th>\n",
       "    </tr>\n",
       "  </thead>\n",
       "  <tbody>\n",
       "    <tr>\n",
       "      <th>Michael Fred Phelps, II</th>\n",
       "      <td>2</td>\n",
       "      <td>3</td>\n",
       "      <td>23</td>\n",
       "    </tr>\n",
       "    <tr>\n",
       "      <th>Larysa Semenivna Latynina (Diriy-)</th>\n",
       "      <td>4</td>\n",
       "      <td>5</td>\n",
       "      <td>9</td>\n",
       "    </tr>\n",
       "    <tr>\n",
       "      <th>Nikolay Yefimovich Andrianov</th>\n",
       "      <td>3</td>\n",
       "      <td>5</td>\n",
       "      <td>7</td>\n",
       "    </tr>\n",
       "    <tr>\n",
       "      <th>Ole Einar Bjrndalen</th>\n",
       "      <td>1</td>\n",
       "      <td>4</td>\n",
       "      <td>8</td>\n",
       "    </tr>\n",
       "    <tr>\n",
       "      <th>Borys Anfiyanovych Shakhlin</th>\n",
       "      <td>2</td>\n",
       "      <td>4</td>\n",
       "      <td>7</td>\n",
       "    </tr>\n",
       "  </tbody>\n",
       "</table>\n",
       "</div>"
      ],
      "text/plain": [
       "Medal                               Bronze  Silver  Gold\n",
       "Name                                                    \n",
       "Michael Fred Phelps, II                  2       3    23\n",
       "Larysa Semenivna Latynina (Diriy-)       4       5     9\n",
       "Nikolay Yefimovich Andrianov             3       5     7\n",
       "Ole Einar Bjrndalen                      1       4     8\n",
       "Borys Anfiyanovych Shakhlin              2       4     7"
      ]
     },
     "metadata": {},
     "output_type": "display_data"
    }
   ],
   "source": [
    "num_medal_reward = ethlete_df.groupby(['Name', 'Medal']).size()\n",
    "num_medal_reward = num_medal_reward.reset_index()\n",
    "num_medal_reward = num_medal_reward.pivot_table(index = \"Name\", columns = \"Medal\", values = 0, fill_value = 0)\n",
    "num_medal_reward['sum_cols'] = num_medal_reward.sum(axis = 1)\n",
    "num_medal_reward = num_medal_reward.sort_values('sum_cols' , ascending = False)\n",
    "num_medal_reward = num_medal_reward.drop(columns = 'sum_cols').head()\n",
    "columns_titles   = [\"Bronze\",\"Silver\",\"Gold\"]\n",
    "num_medal_reward = num_medal_reward.reindex(columns = columns_titles)\n",
    "display(num_medal_reward)"
   ]
  },
  {
   "cell_type": "markdown",
   "metadata": {},
   "source": [
    "Code bước 2. "
   ]
  },
  {
   "cell_type": "code",
   "execution_count": 18,
   "metadata": {},
   "outputs": [
    {
     "data": {
      "image/png": "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",
      "text/plain": [
       "<Figure size 640x480 with 1 Axes>"
      ]
     },
     "metadata": {},
     "output_type": "display_data"
    }
   ],
   "source": [
    "ax = num_medal_reward.plot.barh(color = [\"#FF69B4\",\"#DAEE01\",\"#4ADEDE\"], stacked = True)\n",
    "plt.xlabel('Nums_medal')\n",
    "plt.ylabel('Name')\n",
    "plt.title('Biểu Đồ Top 5 Các Vận Động Viên Có Số Huy Chương Nhiều Nhất Lịch Sử')\n",
    "plt.gca().invert_yaxis()\n",
    "plt.show()"
   ]
  },
  {
   "cell_type": "markdown",
   "metadata": {},
   "source": [
    "### 4.3. Quốc gia có thành tích tốt nhất qua các kỳ Olympic mùa hè?\n",
    "\n",
    "Để trả lời cho câu hỏi này, ta sẽ tìm top 3 quốc gia có tổng số huy chương cao nhất và biểu diễn số lượng huy chương của các quốc gia này giành được qua các năm (Olympic mùa hè)."
   ]
  },
  {
<<<<<<< HEAD
   "cell_type": "markdown",
   "metadata": {},
   "source": [
    "Đối với những môn thể thao đồng đội, tuy huy chương được trao cho từng thành viên trong đội, nhưng khi tính tổng số huy chương của quốc gia ta chỉ tính 1 huy chương cho một nội dung thi đấu.\n",
    "\n",
    "- Đầu tiên ta sẽ tìm tên những môn thể thao đồng đội, nó sẽ là `Event` mà trong một năm có nhiều bộ huy chương được trao.\n",
    "\n"
   ]
  },
  {
   "cell_type": "code",
   "execution_count": 19,
   "metadata": {},
   "outputs": [
    {
     "data": {
      "text/plain": [
       "array([\"Polo Men's Polo\", \"Rowing Men's Double Sculls\",\n",
       "       \"Football Men's Football\", \"Basketball Men's Basketball\",\n",
       "       \"Cycling Men's Madison\", 'Sailing Mixed Multihull',\n",
       "       \"Hockey Men's Hockey\", \"Rugby Men's Rugby\",\n",
       "       \"Swimming Men's 4 x 200 metres Freestyle Relay\",\n",
       "       \"Cycling Men's Tandem Sprint, 2,000 metres\",\n",
       "       \"Athletics Women's 4 x 100 metres Relay\",\n",
       "       \"Swimming Women's 4 x 100 metres Freestyle Relay\",\n",
       "       \"Equestrianism Men's Three-Day Event, Team\",\n",
       "       'Sailing Mixed 5.5 metres', 'Sailing Mixed Three Person Keelboat',\n",
       "       'Sailing Mixed Two Person Keelboat',\n",
       "       \"Swimming Men's 4 x 100 metres Medley Relay\",\n",
       "       \"Cycling Men's Team Pursuit, 4,000 metres\",\n",
       "       \"Hockey Women's Hockey\",\n",
       "       'Equestrianism Mixed Three-Day Event, Team',\n",
       "       \"Rowing Men's Coxless Fours\", \"Tennis Men's Doubles\",\n",
       "       \"Rowing Women's Coxless Pairs\", \"Sailing Men's Two Person Dinghy\",\n",
       "       \"Swimming Men's 4 x 100 metres Freestyle Relay\",\n",
       "       \"Beach Volleyball Women's Beach Volleyball\",\n",
       "       \"Sailing Women's Two Person Dinghy\",\n",
       "       \"Water Polo Women's Water Polo\", \"Rowing Men's Coxless Pairs\",\n",
       "       \"Swimming Women's 4 x 100 metres Medley Relay\",\n",
       "       \"Swimming Women's 4 x 200 metres Freestyle Relay\",\n",
       "       \"Canoeing Men's Kayak Fours, 1,000 metres\", \"Sailing Men's Skiff\",\n",
       "       \"Rugby Sevens Women's Rugby Sevens\", 'Figure Skating Mixed Pairs',\n",
       "       \"Canoeing Men's Kayak Doubles, 1,000 metres\",\n",
       "       \"Luge Mixed (Men)'s Doubles\", \"Bobsleigh Men's Four\",\n",
       "       \"Nordic Combined Men's Team\", \"Ski Jumping Men's Large Hill, Team\",\n",
       "       \"Athletics Men's 4 x 400 metres Relay\",\n",
       "       \"Canoeing Men's Canadian Doubles, 1,000 metres\",\n",
       "       'Tennis Mixed Doubles', \"Fencing Men's epee, Team\",\n",
       "       'Sailing Mixed 6 metres',\n",
       "       \"Archery Men's Pole Archery, Large Birds, Team\",\n",
       "       \"Archery Men's Pole Archery, Small Birds, Team\",\n",
       "       \"Archery Men's Target Archery, 33 metres, Team\",\n",
       "       \"Archery Men's Target Archery, 50 metres, Team\",\n",
       "       \"Equestrianism Men's Vaulting, Team\",\n",
       "       \"Cycling Men's Road Race, Team\", 'Sailing Mixed Two Person Dinghy',\n",
       "       \"Volleyball Men's Volleyball\",\n",
       "       \"Beach Volleyball Men's Beach Volleyball\",\n",
       "       \"Sailing Men's Two Person Keelboat\",\n",
       "       \"Volleyball Women's Volleyball\", \"Sailing Women's Skiff\",\n",
       "       \"Rowing Women's Double Sculls\", \"Lacrosse Men's Lacrosse\",\n",
       "       \"Ice Hockey Men's Ice Hockey\", 'Equestrianism Mixed Jumping, Team',\n",
       "       \"Rowing Men's Coxed Eights\", \"Synchronized Swimming Women's Duet\",\n",
       "       \"Rowing Women's Coxed Eights\", \"Rowing Women's Coxless Fours\",\n",
       "       \"Short Track Speed Skating Women's 3,000 metres Relay\",\n",
       "       \"Athletics Men's 4 x 100 metres Relay\",\n",
       "       \"Short Track Speed Skating Men's 5,000 metres Relay\",\n",
       "       \"Bobsleigh Men's Two\", \"Curling Women's Curling\",\n",
       "       \"Ice Hockey Women's Ice Hockey\", \"Curling Men's Curling\",\n",
       "       'Figure Skating Mixed Ice Dancing',\n",
       "       \"Speed Skating Men's Team Pursuit (8 laps)\",\n",
       "       \"Bobsleigh Women's Two\", \"Table Tennis Men's Doubles\",\n",
       "       \"Table Tennis Women's Doubles\", \"Badminton Women's Doubles\",\n",
       "       \"Diving Men's Synchronized Springboard\",\n",
       "       \"Diving Women's Synchronized Platform\",\n",
       "       \"Gymnastics Men's Team All-Around\", 'Badminton Mixed Doubles',\n",
       "       \"Tennis Women's Doubles\", \"Diving Men's Synchronized Platform\",\n",
       "       \"Diving Women's Synchronized Springboard\",\n",
       "       \"Canoeing Men's Canadian Doubles, 500 metres\",\n",
       "       \"Rowing Women's Quadruple Sculls\",\n",
       "       \"Gymnastics Women's Team All-Around\", \"Table Tennis Men's Team\",\n",
       "       \"Table Tennis Women's Team\", \"Badminton Men's Doubles\",\n",
       "       \"Fencing Women's epee, Team\", \"Cycling Women's Team Sprint\",\n",
       "       \"Handball Men's Handball\", \"Water Polo Men's Water Polo\",\n",
       "       \"Fencing Men's Foil, Team\", \"Baseball Men's Baseball\",\n",
       "       \"Canoeing Men's Canadian Doubles, 10,000 metres\",\n",
       "       \"Rowing Men's Coxed Fours\", \"Tug-Of-War Men's Tug-Of-War\",\n",
       "       \"Rowing Men's Coxed Fours, Inriggers\",\n",
       "       \"Gymnastics Men's Team All-Around, Free System\",\n",
       "       \"Shooting Men's Military Rifle, Standing, 300 metres, Team\",\n",
       "       \"Rowing Men's Coxed Pairs\",\n",
       "       'Sailing Mixed Two Person Heavyweight Dinghy',\n",
       "       \"Rowing Men's Lightweight Coxless Fours\",\n",
       "       \"Handball Women's Handball\", 'Sailing Mixed Skiff',\n",
       "       \"Rowing Men's Lightweight Double Sculls\",\n",
       "       \"Rugby Sevens Men's Rugby Sevens\",\n",
       "       \"Athletics Men's Cross-Country, Team\",\n",
       "       \"Athletics Men's 3,000 metres, Team\",\n",
       "       \"Cross Country Skiing Men's 4 x 10 kilometres Relay\",\n",
       "       \"Gymnastics Men's Pommelled Horse\",\n",
       "       \"Canoeing Men's Kayak Doubles, 10,000 metres\",\n",
       "       \"Cross Country Skiing Women's 3 x 5 kilometres Relay\",\n",
       "       \"Cross Country Skiing Men's Team Sprint\", 'Croquet Mixed Doubles',\n",
       "       'Sailing Mixed 0-0.5 Ton', 'Sailing Mixed 10-20 Ton',\n",
       "       'Sailing Mixed 2-3 Ton', \"Tennis Men's Doubles, Covered Courts\",\n",
       "       'Sailing Mixed 8 metres',\n",
       "       'Art Competitions Mixed Architecture, Architectural Designs',\n",
       "       \"Equestrianism Men's Dressage, Team\", \"Fencing Women's Foil, Team\",\n",
       "       \"Biathlon Women's 3 x 7.5 kilometres Relay\",\n",
       "       \"Canoeing Men's Canadian Doubles, Slalom\",\n",
       "       \"Cycling Men's Team Sprint\", \"Fencing Men's Sabre, Team\",\n",
       "       \"Gymnastics Men's Horizontal Bar, Teams\",\n",
       "       \"Gymnastics Men's Parallel Bars, Teams\", 'Sailing Mixed 1-2 Ton',\n",
       "       \"Swimming Men's 200 metres Team Swimming\",\n",
       "       \"Rowing Men's Coxed Fours, Outriggers\", 'Alpinism Mixed Alpinism',\n",
       "       \"Equestrianism Men's Jumping, Team\",\n",
       "       'Art Competitions Mixed Architecture, Designs For Town Planning',\n",
       "       \"Canoeing Men's Kayak Relay 4 x 500 metres\",\n",
       "       \"Canoeing Women's Kayak Doubles, 500 metres\",\n",
       "       'Equestrianism Mixed Dressage, Team',\n",
       "       \"Athletics Women's 4 x 400 metres Relay\",\n",
       "       \"Rowing Men's Quadruple Sculls\", \"Rowing Women's Coxed Fours\",\n",
       "       \"Canoeing Men's Kayak Doubles, 500 metres\",\n",
       "       \"Rowing Women's Coxed Quadruple Sculls\",\n",
       "       \"Cross Country Skiing Women's 4 x 5 kilometres Relay\",\n",
       "       \"Canoeing Women's Kayak Fours, 500 metres\",\n",
       "       \"Cycling Men's 100 kilometres Team Time Trial\",\n",
       "       \"Biathlon Men's 4 x 7.5 kilometres Relay\",\n",
       "       \"Biathlon Women's 4 x 7.5 kilometres Relay\",\n",
       "       \"Speed Skating Women's Team Pursuit (6 laps)\",\n",
       "       \"Cross Country Skiing Women's Team Sprint\",\n",
       "       'Luge Mixed Team Relay', \"Football Women's Football\",\n",
       "       \"Rowing Men's 17-Man Naval Rowing Boats\",\n",
       "       \"Swimming Men's 4 x 250 metres Freestyle Relay\",\n",
       "       \"Modern Pentathlon Men's Team\",\n",
       "       \"Gymnastics Women's Team Portable Apparatus\",\n",
       "       \"Rowing Men's Coxed Pairs (1 mile)\",\n",
       "       \"Rowing Men's Coxed Pairs (1 kilometres)\",\n",
       "       \"Rowing Men's 6-Man Naval Rowing Boats\", \"Archery Men's Team\",\n",
       "       \"Softball Women's Softball\",\n",
       "       \"Archery Men's Target Archery, 28 metres, Team\",\n",
       "       'Sailing Mixed 6.5 metres', 'Sailing Mixed 12 foot',\n",
       "       \"Rowing Women's Lightweight Double Sculls\",\n",
       "       \"Shooting Men's Free Rifle, Three Positions, 300 metres, Team\",\n",
       "       'Sailing Mixed 12 metres', 'Sailing Mixed 10 metres',\n",
       "       \"Shooting Men's Running Target, Single Shot, Team\",\n",
       "       \"Shooting Men's Running Target, Double Shot, Team\",\n",
       "       \"Cross Country Skiing Men's 10/10 kilometres Pursuit\",\n",
       "       'Biathlon Mixed 2 x 6 kilometres and 2 x 7.5 kilometres Relay',\n",
       "       \"Gymnastics Women's Balance Beam\",\n",
       "       \"Speed Skating Men's 1,500 metres\",\n",
       "       \"Basketball Women's Basketball\", \"Gymnastics Men's Horizontal Bar\",\n",
       "       \"Rhythmic Gymnastics Women's Group\",\n",
       "       \"Synchronized Swimming Women's Team\",\n",
       "       \"Biathlon Women's 4 x 6 kilometres Relay\",\n",
       "       \"Canoeing Men's Kayak Doubles, 200 metres\",\n",
       "       'Figure Skating Mixed Team', \"Fencing Women's Sabre, Team\",\n",
       "       \"Archery Women's Team\",\n",
       "       \"Basque Pelota Men's Two-Man Teams With Cesta\",\n",
       "       \"Sailing Women's Three Person Keelboat\",\n",
       "       \"Gymnastics Men's Team All-Around, Swedish System\",\n",
       "       \"Shooting Men's Dueling Pistol, 30 metres, Team\",\n",
       "       \"Shooting Men's Small-Bore Rifle, Disappearing Target, 25 metres, Team\",\n",
       "       'Sailing Mixed 30 metres', 'Sailing Mixed 40 metres',\n",
       "       \"Canoeing Men's Folding Kayak Doubles, 10 kilometres\",\n",
       "       \"Shooting Men's Free Pistol, 50 metres, Team\",\n",
       "       'Art Competitions Mixed Architecture', \"Bobsleigh Men's Four/Five\",\n",
       "       \"Military Ski Patrol Men's Military Ski Patrol\",\n",
       "       \"Athletics Men's 5,000 metres, Team\", \"Cricket Men's Cricket\",\n",
       "       'Sailing Mixed 0.5-1 Ton', 'Sailing Mixed 3-10 Ton',\n",
       "       'Sailing Mixed Open', \"Shooting Men's Trap, Team\",\n",
       "       \"Cycling Men's Team Pursuit, 1,980 yards\",\n",
       "       \"Athletics Men's 3 mile, Team\",\n",
       "       \"Shooting Men's Small-Bore Rifle, 50 and 100 yards, Team\",\n",
       "       'Sailing Mixed 7 metres',\n",
       "       'Motorboating Mixed B-Class (Under 60 Feet)',\n",
       "       'Motorboating Mixed C-Class', \"Racquets Men's Doubles\",\n",
       "       \"Shooting Men's Small-Bore Rifle, Prone, 50 metres, Team\",\n",
       "       'Tennis Mixed Doubles, Covered Courts',\n",
       "       \"Cycling Women's Team Pursuit\", \"Gymnastics Men's Horse Vault\",\n",
       "       \"Athletics Men's 4 mile, Team\", \"Archery Men's Team Round\",\n",
       "       \"Archery Women's Team Round\", \"Golf Men's Team\",\n",
       "       \"Swimming Men's 4 x 50 Yard Freestyle Relay\",\n",
       "       \"Athletics Men's Pole Vault\",\n",
       "       \"Shooting Men's Free Pistol, 50 yards, Team\",\n",
       "       \"Shooting Men's Military Rifle, 200/500/600/800/900/1,000 Yards, Team\",\n",
       "       \"Athletics Men's 1,600 metres Medley Relay\",\n",
       "       \"Shooting Men's Military Rifle, 200, 400, 500 and 600 metres, Team\",\n",
       "       \"Shooting Men's Military Rifle, Prone, 300 metres, Team\",\n",
       "       \"Shooting Men's Military Pistol, Team\",\n",
       "       \"Shooting Men's Military Rifle, 300 metres and 600 metres, Prone, Team\",\n",
       "       \"Shooting Men's Small Bore-Rifle, Standing, 50 metres, Team\",\n",
       "       \"Shooting Men's Military Rifle, Prone, 600 metres, Team\",\n",
       "       \"Shooting Men's Free Rifle, 400, 600 and 800 metres, Team\",\n",
       "       \"Swimming Women's 100 metres Freestyle\",\n",
       "       \"Swimming Men's 50 metres Freestyle\"], dtype=object)"
      ]
     },
     "execution_count": 19,
     "metadata": {},
     "output_type": "execute_result"
    }
   ],
   "source": [
    "team_events = pd.pivot_table(ethlete_df,\n",
    "                                      index = ['region', 'Year', 'Event'],\n",
    "                                      columns = 'Medal',\n",
    "                                      values = 'isWon',\n",
    "                                      aggfunc = 'sum',\n",
    "                                     fill_value = 0).reset_index()\n",
    "\n",
    "team_events = team_events.loc[team_events['Gold'] > 1, :]\n",
    "team_sports = team_events['Event'].unique()\n",
    "team_sports"
   ]
  },
  {
   "cell_type": "markdown",
   "metadata": {},
   "source": [
    "- Qua quan sát ta thấy có 1 vài môn thể thao không phải là môn thể thao đồng đội nhưng vẫn được thêm vào đây. Nguyên nhân là do có tồn tại trường hợp trao nhiều hơn 1 huy chương vàng khi các vận động viên có cùng điểm số/ thời gian. Ta sẽ loại bỏ những môn thể thao này"
=======
   "cell_type": "code",
   "execution_count": 19,
   "metadata": {},
   "outputs": [],
   "source": [
    "#Tạo các cột số lượng huy chương\n",
    "Total_Medal = ethlete_df[ethlete_df['Season']=='Summer'].value_counts(['region','Medal'])\\\n",
    "                .reset_index().pivot(index = 'region', columns = 'Medal', values = 0).fillna(0)\n",
    "Total_Medal = Total_Medal[['Gold','Silver','Bronze']].astype(int)\n",
    "\n",
    "#Tạo cột tổng huy chương và sắp xếp\n",
    "Total_Medal['Total'] = Total_Medal['Gold'] + Total_Medal['Silver'] + Total_Medal['Bronze']\n",
    "Total_Medal = Total_Medal.sort_values(by = 'Total', ascending = False)"
>>>>>>> c317eca (update commit trước)
   ]
  },
  {
   "cell_type": "code",
   "execution_count": 20,
   "metadata": {},
<<<<<<< HEAD
   "outputs": [],
   "source": [
    "remove_sports = [\"Gymnastics Women's Balance Beam\", \"Gymnastics Men's Horizontal Bar\", \n",
    "                 \"Swimming Women's 100 metres Freestyle\", \"Swimming Men's 50 metres Freestyle\"]\n",
    "team_sports = list(set(team_sports) - set(remove_sports))"
   ]
  },
  {
   "cell_type": "markdown",
   "metadata": {},
   "source": [
    "- Ta tạo thêm cột `isTeamSport` để ghi nhận việc `Event` đó có phải là môn thể thao đồng đội hay không."
   ]
  },
  {
   "cell_type": "code",
   "execution_count": 21,
   "metadata": {},
   "outputs": [],
   "source": [
    "ethlete_df['isTeamSport'] = np.where(ethlete_df['Event'].map(lambda x: x in team_sports), 1, 0)\n",
    "ethlete_df['isTeamSport'] = ethlete_df['isTeamSport'].astype(bool)"
   ]
  },
  {
   "cell_type": "markdown",
   "metadata": {},
   "source": [
    "- Tính tổng số huy chương của mỗi quốc gia cho môn thể thao cá nhân."
   ]
  },
  {
   "cell_type": "code",
   "execution_count": 22,
   "metadata": {},
   "outputs": [],
   "source": [
    "Total_Medal_Individual = ethlete_df.query(\"Season=='Summer' & isTeamSport==0 & isWon==1\").value_counts(['region','Medal'])\\\n",
    "                .reset_index().pivot(index = 'region', columns = 'Medal', values = 0).fillna(0)\n",
    "Total_Medal_Individual = Total_Medal_Individual[['Gold','Silver','Bronze']]"
   ]
  },
  {
   "cell_type": "markdown",
   "metadata": {},
   "source": [
    "- Tính tổng số huy chương của mỗi quốc gia cho môn thể thao đồng đội."
   ]
  },
  {
   "cell_type": "code",
   "execution_count": 23,
   "metadata": {},
   "outputs": [],
   "source": [
    "temp=pd.DataFrame(ethlete_df.query(\"Season=='Summer' & isTeamSport==1 & isWon==1\")[['Event','region','Medal']]).drop_duplicates(keep='first')\n",
    "Total_Medal_Team=temp.value_counts(['region','Medal'])\\\n",
    "                .reset_index().pivot(index = 'region', columns = 'Medal', values = 0).fillna(0)\n",
    "Total_Medal_Team=Total_Medal_Team[['Gold','Silver','Bronze']]"
   ]
  },
  {
   "cell_type": "markdown",
   "metadata": {},
   "source": [
    "- Tạo dataframe tổng huy chương và sắp xếp."
   ]
  },
  {
   "cell_type": "code",
   "execution_count": 24,
   "metadata": {},
=======
>>>>>>> c317eca (update commit trước)
   "outputs": [
    {
     "data": {
      "text/html": [
       "<div>\n",
       "<style scoped>\n",
       "    .dataframe tbody tr th:only-of-type {\n",
       "        vertical-align: middle;\n",
       "    }\n",
       "\n",
       "    .dataframe tbody tr th {\n",
       "        vertical-align: top;\n",
       "    }\n",
       "\n",
       "    .dataframe thead th {\n",
       "        text-align: right;\n",
       "    }\n",
       "</style>\n",
       "<table border=\"1\" class=\"dataframe\">\n",
       "  <thead>\n",
       "    <tr style=\"text-align: right;\">\n",
       "      <th>Medal</th>\n",
       "      <th>Gold</th>\n",
       "      <th>Silver</th>\n",
       "      <th>Bronze</th>\n",
       "      <th>Total</th>\n",
       "    </tr>\n",
       "    <tr>\n",
       "      <th>region</th>\n",
       "      <th></th>\n",
       "      <th></th>\n",
       "      <th></th>\n",
       "      <th></th>\n",
       "    </tr>\n",
       "  </thead>\n",
       "  <tbody>\n",
       "    <tr>\n",
       "      <th>USA</th>\n",
       "      <td>820</td>\n",
       "      <td>728</td>\n",
       "      <td>649</td>\n",
       "      <td>2197</td>\n",
       "    </tr>\n",
       "    <tr>\n",
       "      <th>Russia</th>\n",
       "      <td>494</td>\n",
       "      <td>432</td>\n",
       "      <td>442</td>\n",
       "      <td>1368</td>\n",
       "    </tr>\n",
       "    <tr>\n",
       "      <th>Germany</th>\n",
       "      <td>332</td>\n",
       "      <td>385</td>\n",
       "      <td>413</td>\n",
       "      <td>1130</td>\n",
       "    </tr>\n",
       "    <tr>\n",
       "      <th>UK</th>\n",
       "      <td>233</td>\n",
       "      <td>264</td>\n",
       "      <td>261</td>\n",
       "      <td>758</td>\n",
       "    </tr>\n",
       "    <tr>\n",
       "      <th>France</th>\n",
       "      <td>200</td>\n",
       "      <td>230</td>\n",
       "      <td>247</td>\n",
       "      <td>677</td>\n",
       "    </tr>\n",
       "    <tr>\n",
       "      <th>...</th>\n",
       "      <td>...</td>\n",
       "      <td>...</td>\n",
       "      <td>...</td>\n",
       "      <td>...</td>\n",
       "    </tr>\n",
       "    <tr>\n",
       "      <th>Kosovo</th>\n",
       "      <td>1</td>\n",
       "      <td>0</td>\n",
       "      <td>0</td>\n",
       "      <td>1</td>\n",
       "    </tr>\n",
       "    <tr>\n",
       "      <th>Montenegro</th>\n",
       "      <td>0</td>\n",
       "      <td>1</td>\n",
       "      <td>0</td>\n",
       "      <td>1</td>\n",
       "    </tr>\n",
       "    <tr>\n",
       "      <th>Macedonia</th>\n",
       "      <td>0</td>\n",
       "      <td>0</td>\n",
       "      <td>1</td>\n",
       "      <td>1</td>\n",
       "    </tr>\n",
       "    <tr>\n",
       "      <th>Monaco</th>\n",
       "      <td>0</td>\n",
       "      <td>0</td>\n",
       "      <td>1</td>\n",
       "      <td>1</td>\n",
       "    </tr>\n",
       "    <tr>\n",
       "      <th>Gabon</th>\n",
       "      <td>0</td>\n",
       "      <td>1</td>\n",
       "      <td>0</td>\n",
       "      <td>1</td>\n",
       "    </tr>\n",
       "  </tbody>\n",
       "</table>\n",
       "<p>134 rows × 4 columns</p>\n",
       "</div>"
      ],
      "text/plain": [
       "Medal       Gold  Silver  Bronze  Total\n",
       "region                                 \n",
       "USA          820     728     649   2197\n",
       "Russia       494     432     442   1368\n",
       "Germany      332     385     413   1130\n",
       "UK           233     264     261    758\n",
       "France       200     230     247    677\n",
       "...          ...     ...     ...    ...\n",
       "Kosovo         1       0       0      1\n",
       "Montenegro     0       1       0      1\n",
       "Macedonia      0       0       1      1\n",
       "Monaco         0       0       1      1\n",
       "Gabon          0       1       0      1\n",
       "\n",
       "[134 rows x 4 columns]"
      ]
     },
<<<<<<< HEAD
     "execution_count": 24,
=======
     "execution_count": 20,
>>>>>>> c317eca (update commit trước)
     "metadata": {},
     "output_type": "execute_result"
    }
   ],
   "source": [
    "Total_Medal=Total_Medal_Individual.add(Total_Medal_Team, fill_value=0)\n",
    "Total_Medal['Total'] = Total_Medal['Gold'] + Total_Medal['Silver'] + Total_Medal['Bronze']\n",
    "Total_Medal = Total_Medal.sort_values(by = 'Total', ascending = False).astype(int)\n",
    "Total_Medal"
   ]
  },
  {
   "cell_type": "markdown",
   "metadata": {},
   "source": [
    "Bây giờ ta sẽ tìm top 3 quốc gia đạt được nhiều huy chương nhất các kỳ Olympics mùa hè và phân tích 1 chút về thành tích của 3 quốc gia đó qua các giai đoạn."
   ]
  },
  {
   "cell_type": "code",
<<<<<<< HEAD
   "execution_count": 25,
=======
   "execution_count": 21,
>>>>>>> c317eca (update commit trước)
   "metadata": {},
   "outputs": [
    {
     "data": {
      "text/plain": [
       "['USA', 'Russia', 'Germany']"
      ]
     },
<<<<<<< HEAD
     "execution_count": 25,
=======
     "execution_count": 21,
>>>>>>> c317eca (update commit trước)
     "metadata": {},
     "output_type": "execute_result"
    }
   ],
   "source": [
    "top3_countries = list(Total_Medal.head(3).index)\n",
    "top3_countries"
   ]
  },
  {
   "cell_type": "markdown",
   "metadata": {},
   "source": [
    "Không quá bất ngờ khi top 3 dẫn đầu số huy chương Olympics đều là những cường quốc hàng đầu thế giới (Mỹ, Nga, Đức). Sau đây là thống kê số huy chương mà 3 quốc gia đó đã đạt được."
   ]
  },
  {
   "cell_type": "code",
<<<<<<< HEAD
   "execution_count": 26,
=======
   "execution_count": 22,
>>>>>>> c317eca (update commit trước)
   "metadata": {},
   "outputs": [],
   "source": [
    "medals_per_year = pd.pivot_table(ethlete_df[ethlete_df['Season']=='Summer'],\n",
    "                                  index   = 'Year',\n",
    "                                  columns = 'region',\n",
    "                                  values  = 'isWon' ,\n",
    "                                  aggfunc = 'sum')[top3_countries]"
   ]
  },
  {
   "cell_type": "code",
<<<<<<< HEAD
   "execution_count": 27,
=======
   "execution_count": 23,
>>>>>>> c317eca (update commit trước)
   "metadata": {},
   "outputs": [
    {
     "data": {
      "text/html": [
       "<div>\n",
       "<style scoped>\n",
       "    .dataframe tbody tr th:only-of-type {\n",
       "        vertical-align: middle;\n",
       "    }\n",
       "\n",
       "    .dataframe tbody tr th {\n",
       "        vertical-align: top;\n",
       "    }\n",
       "\n",
       "    .dataframe thead th {\n",
       "        text-align: right;\n",
       "    }\n",
       "</style>\n",
       "<table border=\"1\" class=\"dataframe\">\n",
       "  <thead>\n",
       "    <tr style=\"text-align: right;\">\n",
       "      <th>region</th>\n",
       "      <th>USA</th>\n",
       "      <th>Russia</th>\n",
       "      <th>Germany</th>\n",
       "    </tr>\n",
       "    <tr>\n",
       "      <th>Year</th>\n",
       "      <th></th>\n",
       "      <th></th>\n",
       "      <th></th>\n",
       "    </tr>\n",
       "  </thead>\n",
       "  <tbody>\n",
       "    <tr>\n",
       "      <th>1896</th>\n",
       "      <td>20.0</td>\n",
       "      <td>NaN</td>\n",
       "      <td>32.0</td>\n",
       "    </tr>\n",
       "    <tr>\n",
       "      <th>1900</th>\n",
       "      <td>63.0</td>\n",
       "      <td>0.0</td>\n",
       "      <td>45.0</td>\n",
       "    </tr>\n",
       "    <tr>\n",
       "      <th>1904</th>\n",
       "      <td>394.0</td>\n",
       "      <td>NaN</td>\n",
       "      <td>16.0</td>\n",
       "    </tr>\n",
       "    <tr>\n",
       "      <th>1906</th>\n",
       "      <td>24.0</td>\n",
       "      <td>NaN</td>\n",
       "      <td>30.0</td>\n",
       "    </tr>\n",
       "    <tr>\n",
       "      <th>1908</th>\n",
       "      <td>65.0</td>\n",
       "      <td>3.0</td>\n",
       "      <td>21.0</td>\n",
       "    </tr>\n",
       "    <tr>\n",
       "      <th>1912</th>\n",
       "      <td>107.0</td>\n",
       "      <td>14.0</td>\n",
       "      <td>53.0</td>\n",
       "    </tr>\n",
       "    <tr>\n",
       "      <th>1920</th>\n",
       "      <td>194.0</td>\n",
       "      <td>NaN</td>\n",
       "      <td>NaN</td>\n",
       "    </tr>\n",
       "    <tr>\n",
       "      <th>1924</th>\n",
       "      <td>182.0</td>\n",
       "      <td>0.0</td>\n",
       "      <td>NaN</td>\n",
       "    </tr>\n",
       "    <tr>\n",
       "      <th>1928</th>\n",
       "      <td>88.0</td>\n",
       "      <td>NaN</td>\n",
       "      <td>77.0</td>\n",
       "    </tr>\n",
       "    <tr>\n",
       "      <th>1932</th>\n",
       "      <td>189.0</td>\n",
       "      <td>NaN</td>\n",
       "      <td>43.0</td>\n",
       "    </tr>\n",
       "    <tr>\n",
       "      <th>1936</th>\n",
       "      <td>96.0</td>\n",
       "      <td>NaN</td>\n",
       "      <td>224.0</td>\n",
       "    </tr>\n",
       "    <tr>\n",
       "      <th>1948</th>\n",
       "      <td>152.0</td>\n",
       "      <td>NaN</td>\n",
       "      <td>NaN</td>\n",
       "    </tr>\n",
       "    <tr>\n",
       "      <th>1952</th>\n",
       "      <td>134.0</td>\n",
       "      <td>117.0</td>\n",
       "      <td>40.0</td>\n",
       "    </tr>\n",
       "    <tr>\n",
       "      <th>1956</th>\n",
       "      <td>123.0</td>\n",
       "      <td>169.0</td>\n",
       "      <td>52.0</td>\n",
       "    </tr>\n",
       "    <tr>\n",
       "      <th>1960</th>\n",
       "      <td>125.0</td>\n",
       "      <td>169.0</td>\n",
       "      <td>89.0</td>\n",
       "    </tr>\n",
       "    <tr>\n",
       "      <th>1964</th>\n",
       "      <td>169.0</td>\n",
       "      <td>174.0</td>\n",
       "      <td>116.0</td>\n",
       "    </tr>\n",
       "    <tr>\n",
       "      <th>1968</th>\n",
       "      <td>166.0</td>\n",
       "      <td>192.0</td>\n",
       "      <td>103.0</td>\n",
       "    </tr>\n",
       "    <tr>\n",
       "      <th>1972</th>\n",
       "      <td>171.0</td>\n",
       "      <td>214.0</td>\n",
       "      <td>253.0</td>\n",
       "    </tr>\n",
       "    <tr>\n",
       "      <th>1976</th>\n",
       "      <td>164.0</td>\n",
       "      <td>286.0</td>\n",
       "      <td>273.0</td>\n",
       "    </tr>\n",
       "    <tr>\n",
       "      <th>1980</th>\n",
       "      <td>NaN</td>\n",
       "      <td>442.0</td>\n",
       "      <td>264.0</td>\n",
       "    </tr>\n",
       "    <tr>\n",
       "      <th>1984</th>\n",
       "      <td>352.0</td>\n",
       "      <td>NaN</td>\n",
       "      <td>158.0</td>\n",
       "    </tr>\n",
       "    <tr>\n",
       "      <th>1988</th>\n",
       "      <td>207.0</td>\n",
       "      <td>300.0</td>\n",
       "      <td>296.0</td>\n",
       "    </tr>\n",
       "    <tr>\n",
       "      <th>1992</th>\n",
       "      <td>224.0</td>\n",
       "      <td>220.0</td>\n",
       "      <td>198.0</td>\n",
       "    </tr>\n",
       "    <tr>\n",
       "      <th>1996</th>\n",
       "      <td>259.0</td>\n",
       "      <td>115.0</td>\n",
       "      <td>124.0</td>\n",
       "    </tr>\n",
       "    <tr>\n",
       "      <th>2000</th>\n",
       "      <td>242.0</td>\n",
       "      <td>187.0</td>\n",
       "      <td>118.0</td>\n",
       "    </tr>\n",
       "    <tr>\n",
       "      <th>2004</th>\n",
       "      <td>263.0</td>\n",
       "      <td>189.0</td>\n",
       "      <td>149.0</td>\n",
       "    </tr>\n",
       "    <tr>\n",
       "      <th>2008</th>\n",
       "      <td>317.0</td>\n",
       "      <td>142.0</td>\n",
       "      <td>99.0</td>\n",
       "    </tr>\n",
       "    <tr>\n",
       "      <th>2012</th>\n",
       "      <td>248.0</td>\n",
       "      <td>140.0</td>\n",
       "      <td>94.0</td>\n",
       "    </tr>\n",
       "    <tr>\n",
       "      <th>2016</th>\n",
       "      <td>264.0</td>\n",
       "      <td>115.0</td>\n",
       "      <td>159.0</td>\n",
       "    </tr>\n",
       "  </tbody>\n",
       "</table>\n",
       "</div>"
      ],
      "text/plain": [
       "region    USA  Russia  Germany\n",
       "Year                          \n",
       "1896     20.0     NaN     32.0\n",
       "1900     63.0     0.0     45.0\n",
       "1904    394.0     NaN     16.0\n",
       "1906     24.0     NaN     30.0\n",
       "1908     65.0     3.0     21.0\n",
       "1912    107.0    14.0     53.0\n",
       "1920    194.0     NaN      NaN\n",
       "1924    182.0     0.0      NaN\n",
       "1928     88.0     NaN     77.0\n",
       "1932    189.0     NaN     43.0\n",
       "1936     96.0     NaN    224.0\n",
       "1948    152.0     NaN      NaN\n",
       "1952    134.0   117.0     40.0\n",
       "1956    123.0   169.0     52.0\n",
       "1960    125.0   169.0     89.0\n",
       "1964    169.0   174.0    116.0\n",
       "1968    166.0   192.0    103.0\n",
       "1972    171.0   214.0    253.0\n",
       "1976    164.0   286.0    273.0\n",
       "1980      NaN   442.0    264.0\n",
       "1984    352.0     NaN    158.0\n",
       "1988    207.0   300.0    296.0\n",
       "1992    224.0   220.0    198.0\n",
       "1996    259.0   115.0    124.0\n",
       "2000    242.0   187.0    118.0\n",
       "2004    263.0   189.0    149.0\n",
       "2008    317.0   142.0     99.0\n",
       "2012    248.0   140.0     94.0\n",
       "2016    264.0   115.0    159.0"
      ]
     },
<<<<<<< HEAD
     "execution_count": 27,
=======
     "execution_count": 23,
>>>>>>> c317eca (update commit trước)
     "metadata": {},
     "output_type": "execute_result"
    }
   ],
   "source": [
    "medals_per_year"
   ]
  },
  {
   "cell_type": "markdown",
   "metadata": {},
   "source": [
<<<<<<< HEAD
    "Nhìn vào bảng kết quả, ta thấy dữ liệu của nước Nga bị thiếu rất nhiều trong khoảng thời gian từ kỳ Thế vận hội năm 1896 đến 1948 nhưng đây không phải là lỗi thiếu dữ liệu! Và đây là lí do:\n",
=======
    "Nhìn vào bảng kết quả, ta thấy dữ liệu của nước Nga bị thiếu rất nhiều trong khoảng thời gian từ kỳ Thế vận hội năm 1896 đến 1948 nhưng đây không phải là lỗi thiếu dữ liệu ! Và đây là lí do:\n",
>>>>>>> c317eca (update commit trước)
    "\n",
    "Nga lần đầu tham dự Thế vận hội vào năm năm 1900 cũng như gửi vận động viên (VĐV) tới các kỳ Mùa hè 1908 và 1912. Sau Cách mạng Nga (1917) và tiếp đó là sự thành lập Liên bang Xô Viết năm 1922, sự góp mặt của các VĐV Nga bị gián đoạn cho tới 1952."
   ]
  },
  {
   "cell_type": "markdown",
   "metadata": {},
   "source": [
    "Vì vậy ta sẽ chỉ phân tích dữ liệu từ kỳ Thế vận hội năm 1952 trở về sau."
   ]
  },
  {
   "cell_type": "code",
<<<<<<< HEAD
   "execution_count": 28,
=======
   "execution_count": 24,
>>>>>>> c317eca (update commit trước)
   "metadata": {},
   "outputs": [],
   "source": [
    "medals_per_year = medals_per_year.drop([x for x in medals_per_year.index if x < 1952])"
   ]
  },
  {
   "cell_type": "code",
<<<<<<< HEAD
   "execution_count": 29,
=======
   "execution_count": 25,
>>>>>>> c317eca (update commit trước)
   "metadata": {},
   "outputs": [
    {
     "data": {
      "image/png": "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",
      "text/plain": [
       "<Figure size 1500x500 with 1 Axes>"
      ]
     },
     "metadata": {},
     "output_type": "display_data"
    }
   ],
   "source": [
    "medals_per_year.plot(linestyle = '-', marker = 'o', alpha = 0.9, figsize = (15,5), linewidth = 2)\n",
    "plt.xlabel('Năm')\n",
    "plt.xticks(medals_per_year.index)\n",
    "plt.ylabel('Số lượng Huy Chương')\n",
    "plt.title('Thành tích huy chương của 3 quốc gia có tổng số huy chương nhiều nhất từ 1952-2016')\n",
    "plt.show()"
   ]
  },
  {
   "cell_type": "markdown",
   "metadata": {},
   "source": [
    "**Điểm giá trị bị thiếu của Mỹ vào năm 1980 không phải là lỗi thiếu dữ liệu!** \n",
    "\n",
    "Năm 1980, Hoa Kỳ kêu gọi tẩy chay Thế vận hội Olympic mùa hè ở Moscow để phản đối cuộc xâm lược Afghanistan của Liên Xô vào cuối năm 1979, có 64 quốc gia khác hưởng ứng cuộc tẩy chay này. Đây là lần đầu tiên và duy nhất mà Mỹ tẩy chay Olympics. \n",
    "\n",
    "Thế vận hội 1980 là Kỳ Thế vận hội đầu tiên mà Việt Nam tham dự với tư cách là một quốc gia thống nhất.\n",
    "\n",
    "**Điểm giá trị bị thiếu của Nga vào năm 1984 cũng không có lỗi!**\n",
    "\n",
    "08/05/1984, Liên Xô tuyên bố tẩy chay Olympics 1984. Việc tẩy chay Thế vận hội Mùa hè 1984 ở Los Angeles diễn ra sau 4 năm kể từ cuộc tẩy chay Thế vận hội Mùa hè 1980 ở Moscow do Hoa Kỳ lãnh đạo. Nguyên nhân chính được các quan chức Moscow đưa ra là vận động viên Liên Xô có thể sẽ không được an toàn trước các cuộc biểu tình và tấn công thù địch do phía Mỹ hậu thuẫn. Sau khi Liên Xô đưa ra tuyên bố \"tẩy chay\" Olympic 1984, 13 nước có quan hệ thân thiết với quốc gia xã hội chủ nghĩa lớn nhất thế giới cũng đưa ra các thông báo tương tự và từ chối tham dự.\n",
    "\n",
    "Có vấn đề gì bấp cập không khi lần mà 2 quốc gia này giành được nhiều huy chương nhất trong một Kỳ thế vận hội cũng là là lần mà họ làm chủ nhà.\n",
    "\n",
    "**Với những mốc thời gian còn lại:**\n",
    "\n",
    "Từ những năm 1952 đến 1976, số lượng huy chương giành được của các quốc gia Mỹ, Nga, Đức gần như tăng dần qua các năm.\n",
    "\n",
    "Từ những năm 1992 đến 2016, Mỹ luôn dẫn đầu về thổng số lượng huy chương trong  một Kỳ thế vận hội, trong khi Nga và Đức thì có xu hướng giảm."
   ]
  },
  {
   "cell_type": "markdown",
   "metadata": {},
   "source": [
    "### 4.4. Thành tích của Thể thao Việt Nam trong lịch sử tham dự Olympic?\n",
    "\n",
    "Để trả lời cho câu hỏi này, ta sẽ làm như sau:\n",
    "- Tạo Dataframe chứa dữ liệu gồm số vận động viên Việt Nam tham dự, số huy chương đạt được qua các năm"
   ]
  },
  {
   "cell_type": "code",
<<<<<<< HEAD
   "execution_count": 30,
=======
   "execution_count": 26,
>>>>>>> c317eca (update commit trước)
   "metadata": {},
   "outputs": [
    {
     "data": {
      "text/html": [
       "<div>\n",
       "<style scoped>\n",
       "    .dataframe tbody tr th:only-of-type {\n",
       "        vertical-align: middle;\n",
       "    }\n",
       "\n",
       "    .dataframe tbody tr th {\n",
       "        vertical-align: top;\n",
       "    }\n",
       "\n",
       "    .dataframe thead th {\n",
       "        text-align: right;\n",
       "    }\n",
       "</style>\n",
       "<table border=\"1\" class=\"dataframe\">\n",
       "  <thead>\n",
       "    <tr style=\"text-align: right;\">\n",
       "      <th></th>\n",
       "      <th>Year</th>\n",
       "      <th>Season</th>\n",
       "      <th>number of athletes</th>\n",
       "      <th>Gold</th>\n",
       "      <th>Silver</th>\n",
       "    </tr>\n",
       "  </thead>\n",
       "  <tbody>\n",
       "    <tr>\n",
       "      <th>0</th>\n",
       "      <td>1952</td>\n",
       "      <td>Summer</td>\n",
       "      <td>13</td>\n",
       "      <td>NaN</td>\n",
       "      <td>NaN</td>\n",
       "    </tr>\n",
       "    <tr>\n",
       "      <th>1</th>\n",
       "      <td>1956</td>\n",
       "      <td>Summer</td>\n",
       "      <td>10</td>\n",
       "      <td>NaN</td>\n",
       "      <td>NaN</td>\n",
       "    </tr>\n",
       "    <tr>\n",
       "      <th>2</th>\n",
       "      <td>1960</td>\n",
       "      <td>Summer</td>\n",
       "      <td>5</td>\n",
       "      <td>NaN</td>\n",
       "      <td>NaN</td>\n",
       "    </tr>\n",
       "    <tr>\n",
       "      <th>3</th>\n",
       "      <td>1964</td>\n",
       "      <td>Summer</td>\n",
       "      <td>23</td>\n",
       "      <td>NaN</td>\n",
       "      <td>NaN</td>\n",
       "    </tr>\n",
       "    <tr>\n",
       "      <th>4</th>\n",
       "      <td>1968</td>\n",
       "      <td>Summer</td>\n",
       "      <td>9</td>\n",
       "      <td>NaN</td>\n",
       "      <td>NaN</td>\n",
       "    </tr>\n",
       "    <tr>\n",
       "      <th>5</th>\n",
       "      <td>1972</td>\n",
       "      <td>Summer</td>\n",
       "      <td>2</td>\n",
       "      <td>NaN</td>\n",
       "      <td>NaN</td>\n",
       "    </tr>\n",
       "    <tr>\n",
       "      <th>6</th>\n",
       "      <td>1980</td>\n",
       "      <td>Summer</td>\n",
       "      <td>38</td>\n",
       "      <td>NaN</td>\n",
       "      <td>NaN</td>\n",
       "    </tr>\n",
       "    <tr>\n",
       "      <th>7</th>\n",
       "      <td>1988</td>\n",
       "      <td>Summer</td>\n",
       "      <td>12</td>\n",
       "      <td>NaN</td>\n",
       "      <td>NaN</td>\n",
       "    </tr>\n",
       "    <tr>\n",
       "      <th>8</th>\n",
       "      <td>1992</td>\n",
       "      <td>Summer</td>\n",
       "      <td>10</td>\n",
       "      <td>NaN</td>\n",
       "      <td>NaN</td>\n",
       "    </tr>\n",
       "    <tr>\n",
       "      <th>9</th>\n",
       "      <td>1996</td>\n",
       "      <td>Summer</td>\n",
       "      <td>6</td>\n",
       "      <td>NaN</td>\n",
       "      <td>NaN</td>\n",
       "    </tr>\n",
       "    <tr>\n",
       "      <th>10</th>\n",
       "      <td>2000</td>\n",
       "      <td>Summer</td>\n",
       "      <td>7</td>\n",
       "      <td>NaN</td>\n",
       "      <td>1.0</td>\n",
       "    </tr>\n",
       "    <tr>\n",
       "      <th>11</th>\n",
       "      <td>2004</td>\n",
       "      <td>Summer</td>\n",
       "      <td>11</td>\n",
       "      <td>NaN</td>\n",
       "      <td>NaN</td>\n",
       "    </tr>\n",
       "    <tr>\n",
       "      <th>12</th>\n",
       "      <td>2008</td>\n",
       "      <td>Summer</td>\n",
       "      <td>18</td>\n",
       "      <td>NaN</td>\n",
       "      <td>1.0</td>\n",
       "    </tr>\n",
       "    <tr>\n",
       "      <th>13</th>\n",
       "      <td>2012</td>\n",
       "      <td>Summer</td>\n",
       "      <td>24</td>\n",
       "      <td>NaN</td>\n",
       "      <td>NaN</td>\n",
       "    </tr>\n",
       "    <tr>\n",
       "      <th>14</th>\n",
       "      <td>2016</td>\n",
       "      <td>Summer</td>\n",
       "      <td>28</td>\n",
       "      <td>1.0</td>\n",
       "      <td>1.0</td>\n",
       "    </tr>\n",
       "  </tbody>\n",
       "</table>\n",
       "</div>"
      ],
      "text/plain": [
       "    Year  Season  number of athletes  Gold  Silver\n",
       "0   1952  Summer                  13   NaN     NaN\n",
       "1   1956  Summer                  10   NaN     NaN\n",
       "2   1960  Summer                   5   NaN     NaN\n",
       "3   1964  Summer                  23   NaN     NaN\n",
       "4   1968  Summer                   9   NaN     NaN\n",
       "5   1972  Summer                   2   NaN     NaN\n",
       "6   1980  Summer                  38   NaN     NaN\n",
       "7   1988  Summer                  12   NaN     NaN\n",
       "8   1992  Summer                  10   NaN     NaN\n",
       "9   1996  Summer                   6   NaN     NaN\n",
       "10  2000  Summer                   7   NaN     1.0\n",
       "11  2004  Summer                  11   NaN     NaN\n",
       "12  2008  Summer                  18   NaN     1.0\n",
       "13  2012  Summer                  24   NaN     NaN\n",
       "14  2016  Summer                  28   1.0     1.0"
      ]
     },
<<<<<<< HEAD
     "execution_count": 30,
=======
     "execution_count": 26,
>>>>>>> c317eca (update commit trước)
     "metadata": {},
     "output_type": "execute_result"
    }
   ],
   "source": [
    "temp  = pd.DataFrame(ethlete_df.query(\"region=='Vietnam'\"))\n",
    "df_vn = pd.DataFrame(temp.groupby(['Year', 'Season'])['Name'].count().rename('number of athletes').reset_index())\n",
    "\n",
<<<<<<< HEAD
    "temp  = temp.value_counts(['Year', 'Medal']).reset_index().pivot_table(index = 'Year', columns = 'Medal', values = 0,aggfunc = 'sum')\n",
    "\n",
    "df_vn = df_vn.merge(temp, on = 'Year', how = 'left')"
=======
    "temp  = temp.value_counts(['Year', 'Medal']).reset_index().pivot(index = 'Year', columns = 'Medal', values = 0)\n",
    "\n",
    "df_vn = df_vn.merge(temp, on = 'Year', how = 'left')\n",
    "df_vn"
>>>>>>> c317eca (update commit trước)
   ]
  },
  {
   "cell_type": "markdown",
   "metadata": {},
   "source": [
    "- Thêm cột huy chương bị thiếu"
   ]
  },
  {
   "cell_type": "code",
<<<<<<< HEAD
   "execution_count": 31,
=======
   "execution_count": 27,
>>>>>>> c317eca (update commit trước)
   "metadata": {},
   "outputs": [
    {
     "data": {
      "text/html": [
       "<div>\n",
       "<style scoped>\n",
       "    .dataframe tbody tr th:only-of-type {\n",
       "        vertical-align: middle;\n",
       "    }\n",
       "\n",
       "    .dataframe tbody tr th {\n",
       "        vertical-align: top;\n",
       "    }\n",
       "\n",
       "    .dataframe thead th {\n",
       "        text-align: right;\n",
       "    }\n",
       "</style>\n",
       "<table border=\"1\" class=\"dataframe\">\n",
       "  <thead>\n",
       "    <tr style=\"text-align: right;\">\n",
       "      <th></th>\n",
       "      <th>Year</th>\n",
       "      <th>Season</th>\n",
       "      <th>number of athletes</th>\n",
       "      <th>Gold</th>\n",
       "      <th>Silver</th>\n",
       "      <th>Bronze</th>\n",
       "    </tr>\n",
       "  </thead>\n",
       "  <tbody>\n",
       "    <tr>\n",
       "      <th>0</th>\n",
       "      <td>1952</td>\n",
       "      <td>Summer</td>\n",
       "      <td>13</td>\n",
       "      <td>NaN</td>\n",
       "      <td>NaN</td>\n",
       "      <td>NaN</td>\n",
       "    </tr>\n",
       "    <tr>\n",
       "      <th>1</th>\n",
       "      <td>1956</td>\n",
       "      <td>Summer</td>\n",
       "      <td>10</td>\n",
       "      <td>NaN</td>\n",
       "      <td>NaN</td>\n",
       "      <td>NaN</td>\n",
       "    </tr>\n",
       "    <tr>\n",
       "      <th>2</th>\n",
       "      <td>1960</td>\n",
       "      <td>Summer</td>\n",
       "      <td>5</td>\n",
       "      <td>NaN</td>\n",
       "      <td>NaN</td>\n",
       "      <td>NaN</td>\n",
       "    </tr>\n",
       "    <tr>\n",
       "      <th>3</th>\n",
       "      <td>1964</td>\n",
       "      <td>Summer</td>\n",
       "      <td>23</td>\n",
       "      <td>NaN</td>\n",
       "      <td>NaN</td>\n",
       "      <td>NaN</td>\n",
       "    </tr>\n",
       "    <tr>\n",
       "      <th>4</th>\n",
       "      <td>1968</td>\n",
       "      <td>Summer</td>\n",
       "      <td>9</td>\n",
       "      <td>NaN</td>\n",
       "      <td>NaN</td>\n",
       "      <td>NaN</td>\n",
       "    </tr>\n",
       "    <tr>\n",
       "      <th>5</th>\n",
       "      <td>1972</td>\n",
       "      <td>Summer</td>\n",
       "      <td>2</td>\n",
       "      <td>NaN</td>\n",
       "      <td>NaN</td>\n",
       "      <td>NaN</td>\n",
       "    </tr>\n",
       "    <tr>\n",
       "      <th>6</th>\n",
       "      <td>1980</td>\n",
       "      <td>Summer</td>\n",
       "      <td>38</td>\n",
       "      <td>NaN</td>\n",
       "      <td>NaN</td>\n",
       "      <td>NaN</td>\n",
       "    </tr>\n",
       "    <tr>\n",
       "      <th>7</th>\n",
       "      <td>1988</td>\n",
       "      <td>Summer</td>\n",
       "      <td>12</td>\n",
       "      <td>NaN</td>\n",
       "      <td>NaN</td>\n",
       "      <td>NaN</td>\n",
       "    </tr>\n",
       "    <tr>\n",
       "      <th>8</th>\n",
       "      <td>1992</td>\n",
       "      <td>Summer</td>\n",
       "      <td>10</td>\n",
       "      <td>NaN</td>\n",
       "      <td>NaN</td>\n",
       "      <td>NaN</td>\n",
       "    </tr>\n",
       "    <tr>\n",
       "      <th>9</th>\n",
       "      <td>1996</td>\n",
       "      <td>Summer</td>\n",
       "      <td>6</td>\n",
       "      <td>NaN</td>\n",
       "      <td>NaN</td>\n",
       "      <td>NaN</td>\n",
       "    </tr>\n",
       "    <tr>\n",
       "      <th>10</th>\n",
       "      <td>2000</td>\n",
       "      <td>Summer</td>\n",
       "      <td>7</td>\n",
       "      <td>NaN</td>\n",
       "      <td>1.0</td>\n",
       "      <td>NaN</td>\n",
       "    </tr>\n",
       "    <tr>\n",
       "      <th>11</th>\n",
       "      <td>2004</td>\n",
       "      <td>Summer</td>\n",
       "      <td>11</td>\n",
       "      <td>NaN</td>\n",
       "      <td>NaN</td>\n",
       "      <td>NaN</td>\n",
       "    </tr>\n",
       "    <tr>\n",
       "      <th>12</th>\n",
       "      <td>2008</td>\n",
       "      <td>Summer</td>\n",
       "      <td>18</td>\n",
       "      <td>NaN</td>\n",
       "      <td>1.0</td>\n",
       "      <td>NaN</td>\n",
       "    </tr>\n",
       "    <tr>\n",
       "      <th>13</th>\n",
       "      <td>2012</td>\n",
       "      <td>Summer</td>\n",
       "      <td>24</td>\n",
       "      <td>NaN</td>\n",
       "      <td>NaN</td>\n",
       "      <td>NaN</td>\n",
       "    </tr>\n",
       "    <tr>\n",
       "      <th>14</th>\n",
       "      <td>2016</td>\n",
       "      <td>Summer</td>\n",
       "      <td>28</td>\n",
       "      <td>1.0</td>\n",
       "      <td>1.0</td>\n",
       "      <td>NaN</td>\n",
       "    </tr>\n",
       "  </tbody>\n",
       "</table>\n",
       "</div>"
      ],
      "text/plain": [
       "    Year  Season  number of athletes  Gold  Silver  Bronze\n",
       "0   1952  Summer                  13   NaN     NaN     NaN\n",
       "1   1956  Summer                  10   NaN     NaN     NaN\n",
       "2   1960  Summer                   5   NaN     NaN     NaN\n",
       "3   1964  Summer                  23   NaN     NaN     NaN\n",
       "4   1968  Summer                   9   NaN     NaN     NaN\n",
       "5   1972  Summer                   2   NaN     NaN     NaN\n",
       "6   1980  Summer                  38   NaN     NaN     NaN\n",
       "7   1988  Summer                  12   NaN     NaN     NaN\n",
       "8   1992  Summer                  10   NaN     NaN     NaN\n",
       "9   1996  Summer                   6   NaN     NaN     NaN\n",
       "10  2000  Summer                   7   NaN     1.0     NaN\n",
       "11  2004  Summer                  11   NaN     NaN     NaN\n",
       "12  2008  Summer                  18   NaN     1.0     NaN\n",
       "13  2012  Summer                  24   NaN     NaN     NaN\n",
       "14  2016  Summer                  28   1.0     1.0     NaN"
      ]
     },
<<<<<<< HEAD
     "execution_count": 31,
=======
     "execution_count": 27,
>>>>>>> c317eca (update commit trước)
     "metadata": {},
     "output_type": "execute_result"
    }
   ],
   "source": [
    "for c in ['Year', 'number of athletes', 'Gold', 'Silver', 'Bronze']:\n",
    "    if c not in list(df_vn.columns):\n",
    "        df_vn[c] = np.nan\n",
<<<<<<< HEAD
    "df_vn = df_vn[['Year', 'Season', 'number of athletes', 'Gold', 'Silver', 'Bronze']]"
=======
    "df_vn = df_vn[['Year', 'Season', 'number of athletes', 'Gold', 'Silver', 'Bronze']]\n",
    "df_vn"
>>>>>>> c317eca (update commit trước)
   ]
  },
  {
   "cell_type": "markdown",
   "metadata": {},
   "source": [
    "Việt Nam là quốc gia không có mùa đông băng tuyết, vận động viên sẽ không có đủ điều kiện luyện tập, thường phải luyện tập ở nước ngoài. Vì những điều kiện khó khăn đó cho nên từ 1952 đến 2016 Việt Nam chưa từng tham dự Olympic mùa Đông.\n",
    "\n",
    "Vì lý do kinh tế và chính trị, Việt Nam không tham dự hai kỳ Olympic mùa Hè 1976 và 1984. "
   ]
  },
  {
   "cell_type": "markdown",
   "metadata": {},
   "source": [
    "- Ta thêm 2 dòng bị thiếu là 2 năm mà Việt Nam không tham dự."
   ]
  },
  {
   "cell_type": "code",
<<<<<<< HEAD
   "execution_count": 32,
=======
   "execution_count": 28,
>>>>>>> c317eca (update commit trước)
   "metadata": {},
   "outputs": [
    {
     "data": {
      "text/html": [
       "<div>\n",
       "<style scoped>\n",
       "    .dataframe tbody tr th:only-of-type {\n",
       "        vertical-align: middle;\n",
       "    }\n",
       "\n",
       "    .dataframe tbody tr th {\n",
       "        vertical-align: top;\n",
       "    }\n",
       "\n",
       "    .dataframe thead th {\n",
       "        text-align: right;\n",
       "    }\n",
       "</style>\n",
       "<table border=\"1\" class=\"dataframe\">\n",
       "  <thead>\n",
       "    <tr style=\"text-align: right;\">\n",
       "      <th></th>\n",
       "      <th>Year</th>\n",
       "      <th>Season</th>\n",
       "      <th>number of athletes</th>\n",
       "      <th>Gold</th>\n",
       "      <th>Silver</th>\n",
       "      <th>Bronze</th>\n",
       "    </tr>\n",
       "  </thead>\n",
       "  <tbody>\n",
       "    <tr>\n",
       "      <th>0</th>\n",
       "      <td>1952</td>\n",
       "      <td>Summer</td>\n",
       "      <td>13.0</td>\n",
       "      <td>NaN</td>\n",
       "      <td>NaN</td>\n",
       "      <td>NaN</td>\n",
       "    </tr>\n",
       "    <tr>\n",
       "      <th>1</th>\n",
       "      <td>1956</td>\n",
       "      <td>Summer</td>\n",
       "      <td>10.0</td>\n",
       "      <td>NaN</td>\n",
       "      <td>NaN</td>\n",
       "      <td>NaN</td>\n",
       "    </tr>\n",
       "    <tr>\n",
       "      <th>2</th>\n",
       "      <td>1960</td>\n",
       "      <td>Summer</td>\n",
       "      <td>5.0</td>\n",
       "      <td>NaN</td>\n",
       "      <td>NaN</td>\n",
       "      <td>NaN</td>\n",
       "    </tr>\n",
       "    <tr>\n",
       "      <th>3</th>\n",
       "      <td>1964</td>\n",
       "      <td>Summer</td>\n",
       "      <td>23.0</td>\n",
       "      <td>NaN</td>\n",
       "      <td>NaN</td>\n",
       "      <td>NaN</td>\n",
       "    </tr>\n",
       "    <tr>\n",
       "      <th>4</th>\n",
       "      <td>1968</td>\n",
       "      <td>Summer</td>\n",
       "      <td>9.0</td>\n",
       "      <td>NaN</td>\n",
       "      <td>NaN</td>\n",
       "      <td>NaN</td>\n",
       "    </tr>\n",
       "    <tr>\n",
       "      <th>5</th>\n",
       "      <td>1972</td>\n",
       "      <td>Summer</td>\n",
       "      <td>2.0</td>\n",
       "      <td>NaN</td>\n",
       "      <td>NaN</td>\n",
       "      <td>NaN</td>\n",
       "    </tr>\n",
       "    <tr>\n",
       "      <th>6</th>\n",
       "      <td>1980</td>\n",
       "      <td>Summer</td>\n",
       "      <td>38.0</td>\n",
       "      <td>NaN</td>\n",
       "      <td>NaN</td>\n",
       "      <td>NaN</td>\n",
       "    </tr>\n",
       "    <tr>\n",
       "      <th>7</th>\n",
       "      <td>1988</td>\n",
       "      <td>Summer</td>\n",
       "      <td>12.0</td>\n",
       "      <td>NaN</td>\n",
       "      <td>NaN</td>\n",
       "      <td>NaN</td>\n",
       "    </tr>\n",
       "    <tr>\n",
       "      <th>8</th>\n",
       "      <td>1992</td>\n",
       "      <td>Summer</td>\n",
       "      <td>10.0</td>\n",
       "      <td>NaN</td>\n",
       "      <td>NaN</td>\n",
       "      <td>NaN</td>\n",
       "    </tr>\n",
       "    <tr>\n",
       "      <th>9</th>\n",
       "      <td>1996</td>\n",
       "      <td>Summer</td>\n",
       "      <td>6.0</td>\n",
       "      <td>NaN</td>\n",
       "      <td>NaN</td>\n",
       "      <td>NaN</td>\n",
       "    </tr>\n",
       "    <tr>\n",
       "      <th>10</th>\n",
       "      <td>2000</td>\n",
       "      <td>Summer</td>\n",
       "      <td>7.0</td>\n",
       "      <td>NaN</td>\n",
       "      <td>1.0</td>\n",
       "      <td>NaN</td>\n",
       "    </tr>\n",
       "    <tr>\n",
       "      <th>11</th>\n",
       "      <td>2004</td>\n",
       "      <td>Summer</td>\n",
       "      <td>11.0</td>\n",
       "      <td>NaN</td>\n",
       "      <td>NaN</td>\n",
       "      <td>NaN</td>\n",
       "    </tr>\n",
       "    <tr>\n",
       "      <th>12</th>\n",
       "      <td>2008</td>\n",
       "      <td>Summer</td>\n",
       "      <td>18.0</td>\n",
       "      <td>NaN</td>\n",
       "      <td>1.0</td>\n",
       "      <td>NaN</td>\n",
       "    </tr>\n",
       "    <tr>\n",
       "      <th>13</th>\n",
       "      <td>2012</td>\n",
       "      <td>Summer</td>\n",
       "      <td>24.0</td>\n",
       "      <td>NaN</td>\n",
       "      <td>NaN</td>\n",
       "      <td>NaN</td>\n",
       "    </tr>\n",
       "    <tr>\n",
       "      <th>14</th>\n",
       "      <td>2016</td>\n",
       "      <td>Summer</td>\n",
       "      <td>28.0</td>\n",
       "      <td>1.0</td>\n",
       "      <td>1.0</td>\n",
       "      <td>NaN</td>\n",
       "    </tr>\n",
       "    <tr>\n",
       "      <th>15</th>\n",
       "      <td>1976</td>\n",
       "      <td>Summer</td>\n",
       "      <td>NaN</td>\n",
       "      <td>NaN</td>\n",
       "      <td>NaN</td>\n",
       "      <td>NaN</td>\n",
       "    </tr>\n",
       "    <tr>\n",
       "      <th>16</th>\n",
<<<<<<< HEAD
       "      <td>1984</td>\n",
=======
       "      <td>1980</td>\n",
>>>>>>> c317eca (update commit trước)
       "      <td>Summer</td>\n",
       "      <td>NaN</td>\n",
       "      <td>NaN</td>\n",
       "      <td>NaN</td>\n",
       "      <td>NaN</td>\n",
       "    </tr>\n",
       "  </tbody>\n",
       "</table>\n",
       "</div>"
      ],
      "text/plain": [
       "    Year  Season  number of athletes  Gold  Silver  Bronze\n",
       "0   1952  Summer                13.0   NaN     NaN     NaN\n",
       "1   1956  Summer                10.0   NaN     NaN     NaN\n",
       "2   1960  Summer                 5.0   NaN     NaN     NaN\n",
       "3   1964  Summer                23.0   NaN     NaN     NaN\n",
       "4   1968  Summer                 9.0   NaN     NaN     NaN\n",
       "5   1972  Summer                 2.0   NaN     NaN     NaN\n",
       "6   1980  Summer                38.0   NaN     NaN     NaN\n",
       "7   1988  Summer                12.0   NaN     NaN     NaN\n",
       "8   1992  Summer                10.0   NaN     NaN     NaN\n",
       "9   1996  Summer                 6.0   NaN     NaN     NaN\n",
       "10  2000  Summer                 7.0   NaN     1.0     NaN\n",
       "11  2004  Summer                11.0   NaN     NaN     NaN\n",
       "12  2008  Summer                18.0   NaN     1.0     NaN\n",
       "13  2012  Summer                24.0   NaN     NaN     NaN\n",
       "14  2016  Summer                28.0   1.0     1.0     NaN\n",
       "15  1976  Summer                 NaN   NaN     NaN     NaN\n",
<<<<<<< HEAD
       "16  1984  Summer                 NaN   NaN     NaN     NaN"
      ]
     },
     "execution_count": 32,
=======
       "16  1980  Summer                 NaN   NaN     NaN     NaN"
      ]
     },
     "execution_count": 28,
>>>>>>> c317eca (update commit trước)
     "metadata": {},
     "output_type": "execute_result"
    }
   ],
   "source": [
    "df_vn.loc[df_vn.shape[0]] = {'Year':1976, 'Season':'Summer'}\n",
<<<<<<< HEAD
    "df_vn.loc[df_vn.shape[0]] = {'Year':1984, 'Season':'Summer'}"
=======
    "df_vn.loc[df_vn.shape[0]] = {'Year':1980, 'Season':'Summer'}\n",
    "df_vn"
>>>>>>> c317eca (update commit trước)
   ]
  },
  {
   "cell_type": "markdown",
   "metadata": {},
   "source": [
    "Việt Nam lần đầu tham dự Thế vận hội với tư cách là một quốc gia thống nhất là vào năm 1980. Cho nên ta sẽ chỉ phân tích dữ liệu từ năm 1980."
   ]
  },
  {
   "cell_type": "code",
<<<<<<< HEAD
   "execution_count": 33,
   "metadata": {},
   "outputs": [
    {
     "data": {
      "text/html": [
       "<div>\n",
       "<style scoped>\n",
       "    .dataframe tbody tr th:only-of-type {\n",
       "        vertical-align: middle;\n",
       "    }\n",
       "\n",
       "    .dataframe tbody tr th {\n",
       "        vertical-align: top;\n",
       "    }\n",
       "\n",
       "    .dataframe thead th {\n",
       "        text-align: right;\n",
       "    }\n",
       "</style>\n",
       "<table border=\"1\" class=\"dataframe\">\n",
       "  <thead>\n",
       "    <tr style=\"text-align: right;\">\n",
       "      <th></th>\n",
       "      <th>Season</th>\n",
       "      <th>number of athletes</th>\n",
       "      <th>Gold</th>\n",
       "      <th>Silver</th>\n",
       "      <th>Bronze</th>\n",
       "    </tr>\n",
       "    <tr>\n",
       "      <th>Year</th>\n",
       "      <th></th>\n",
       "      <th></th>\n",
       "      <th></th>\n",
       "      <th></th>\n",
       "      <th></th>\n",
       "    </tr>\n",
       "  </thead>\n",
       "  <tbody>\n",
       "    <tr>\n",
       "      <th>1980</th>\n",
       "      <td>Summer</td>\n",
       "      <td>38.0</td>\n",
       "      <td>NaN</td>\n",
       "      <td>NaN</td>\n",
       "      <td>NaN</td>\n",
       "    </tr>\n",
       "    <tr>\n",
       "      <th>1984</th>\n",
       "      <td>Summer</td>\n",
       "      <td>NaN</td>\n",
       "      <td>NaN</td>\n",
       "      <td>NaN</td>\n",
       "      <td>NaN</td>\n",
       "    </tr>\n",
       "    <tr>\n",
       "      <th>1988</th>\n",
       "      <td>Summer</td>\n",
       "      <td>12.0</td>\n",
       "      <td>NaN</td>\n",
       "      <td>NaN</td>\n",
       "      <td>NaN</td>\n",
       "    </tr>\n",
       "    <tr>\n",
       "      <th>1992</th>\n",
       "      <td>Summer</td>\n",
       "      <td>10.0</td>\n",
       "      <td>NaN</td>\n",
       "      <td>NaN</td>\n",
       "      <td>NaN</td>\n",
       "    </tr>\n",
       "    <tr>\n",
       "      <th>1996</th>\n",
       "      <td>Summer</td>\n",
       "      <td>6.0</td>\n",
       "      <td>NaN</td>\n",
       "      <td>NaN</td>\n",
       "      <td>NaN</td>\n",
       "    </tr>\n",
       "    <tr>\n",
       "      <th>2000</th>\n",
       "      <td>Summer</td>\n",
       "      <td>7.0</td>\n",
       "      <td>NaN</td>\n",
       "      <td>1.0</td>\n",
       "      <td>NaN</td>\n",
       "    </tr>\n",
       "    <tr>\n",
       "      <th>2004</th>\n",
       "      <td>Summer</td>\n",
       "      <td>11.0</td>\n",
       "      <td>NaN</td>\n",
       "      <td>NaN</td>\n",
       "      <td>NaN</td>\n",
       "    </tr>\n",
       "    <tr>\n",
       "      <th>2008</th>\n",
       "      <td>Summer</td>\n",
       "      <td>18.0</td>\n",
       "      <td>NaN</td>\n",
       "      <td>1.0</td>\n",
       "      <td>NaN</td>\n",
       "    </tr>\n",
       "    <tr>\n",
       "      <th>2012</th>\n",
       "      <td>Summer</td>\n",
       "      <td>24.0</td>\n",
       "      <td>NaN</td>\n",
       "      <td>NaN</td>\n",
       "      <td>NaN</td>\n",
       "    </tr>\n",
       "    <tr>\n",
       "      <th>2016</th>\n",
       "      <td>Summer</td>\n",
       "      <td>28.0</td>\n",
       "      <td>1.0</td>\n",
       "      <td>1.0</td>\n",
       "      <td>NaN</td>\n",
       "    </tr>\n",
       "  </tbody>\n",
       "</table>\n",
       "</div>"
      ],
      "text/plain": [
       "      Season  number of athletes  Gold  Silver  Bronze\n",
       "Year                                                  \n",
       "1980  Summer                38.0   NaN     NaN     NaN\n",
       "1984  Summer                 NaN   NaN     NaN     NaN\n",
       "1988  Summer                12.0   NaN     NaN     NaN\n",
       "1992  Summer                10.0   NaN     NaN     NaN\n",
       "1996  Summer                 6.0   NaN     NaN     NaN\n",
       "2000  Summer                 7.0   NaN     1.0     NaN\n",
       "2004  Summer                11.0   NaN     NaN     NaN\n",
       "2008  Summer                18.0   NaN     1.0     NaN\n",
       "2012  Summer                24.0   NaN     NaN     NaN\n",
       "2016  Summer                28.0   1.0     1.0     NaN"
      ]
     },
     "execution_count": 33,
     "metadata": {},
     "output_type": "execute_result"
    }
   ],
   "source": [
    "df_vn = df_vn.drop([x for x in df_vn.index if df_vn.loc[x,'Year'] < 1980]).set_index('Year').sort_index()\n",
    "df_vn"
=======
   "execution_count": 29,
   "metadata": {},
   "outputs": [
    {
     "ename": "SyntaxError",
     "evalue": "invalid syntax (3043147106.py, line 1)",
     "output_type": "error",
     "traceback": [
      "\u001b[1;36m  Cell \u001b[1;32mIn [29], line 1\u001b[1;36m\u001b[0m\n\u001b[1;33m    df_vn = df_vn.drop([x for x in df_vn.index if df_vn.loc[x,'Year'] < 1980]).set_index('Year').\u001b[0m\n\u001b[1;37m                                                                                                 ^\u001b[0m\n\u001b[1;31mSyntaxError\u001b[0m\u001b[1;31m:\u001b[0m invalid syntax\n"
     ]
    }
   ],
   "source": [
    "df_vn = df_vn.drop([x for x in df_vn.index if df_vn.loc[x,'Year'] < 1980]).set_index('Year')."
>>>>>>> c317eca (update commit trước)
   ]
  },
  {
   "cell_type": "code",
   "execution_count": null,
   "metadata": {},
   "outputs": [],
   "source": [
    "df_vn['number of athletes'].plot(linestyle = '-', marker = 'o', alpha = 0.9, figsize = (15,5), linewidth = 2)\n",
    "plt.xlabel('Năm')\n",
    "plt.xticks(df_vn.index)\n",
    "plt.ylabel('Số lượng vận động viên')\n",
    "plt.title('Số lượng vận động viên Việt Nam tham dự Olympic từ 1980-2016')\n",
    "plt.show()"
   ]
  },
  {
   "cell_type": "markdown",
   "metadata": {},
   "source": [
    "Số lượng vận động viên Việt Nam tăng liên tục từ năm 1996 đến 2016."
   ]
  },
  {
   "cell_type": "code",
   "execution_count": null,
   "metadata": {},
   "outputs": [],
   "source": [
    "df_vn.plot(y = [\"Gold\", \"Silver\",'Bronze'], kind = \"bar\", figsize = (10, 2))\n",
    "plt.xlabel('Năm')\n",
    "plt.ylabel('Số lượng Huy Chương')\n",
    "plt.title('Thành tích của thể thao Việt Nam từ 1980 -2016')\n",
    "plt.show()"
   ]
  },
  {
   "cell_type": "markdown",
   "metadata": {},
   "source": [
    "Tổng số huy chương mà Việt Nam đã dành được:"
   ]
  },
  {
   "cell_type": "code",
   "execution_count": null,
   "metadata": {},
   "outputs": [],
   "source": [
    "df_vn[['Gold','Silver','Bronze']].sum().sum()"
   ]
  },
  {
   "cell_type": "markdown",
   "metadata": {},
   "source": [
    "Các vận động viên dành được huy chương:"
   ]
  },
  {
   "cell_type": "code",
   "execution_count": null,
   "metadata": {},
<<<<<<< HEAD
   "outputs": [
    {
     "data": {
      "text/html": [
       "<div>\n",
       "<style scoped>\n",
       "    .dataframe tbody tr th:only-of-type {\n",
       "        vertical-align: middle;\n",
       "    }\n",
       "\n",
       "    .dataframe tbody tr th {\n",
       "        vertical-align: top;\n",
       "    }\n",
       "\n",
       "    .dataframe thead th {\n",
       "        text-align: right;\n",
       "    }\n",
       "</style>\n",
       "<table border=\"1\" class=\"dataframe\">\n",
       "  <thead>\n",
       "    <tr style=\"text-align: right;\">\n",
       "      <th></th>\n",
       "      <th>ID</th>\n",
       "      <th>Name</th>\n",
       "      <th>Sex</th>\n",
       "      <th>Age</th>\n",
       "      <th>Height</th>\n",
       "      <th>Weight</th>\n",
       "      <th>Team</th>\n",
       "      <th>NOC</th>\n",
       "      <th>Games</th>\n",
       "      <th>Year</th>\n",
       "      <th>Season</th>\n",
       "      <th>City</th>\n",
       "      <th>Sport</th>\n",
       "      <th>Event</th>\n",
       "      <th>Medal</th>\n",
       "      <th>region</th>\n",
       "      <th>isWon</th>\n",
       "      <th>isTeamSport</th>\n",
       "    </tr>\n",
       "  </thead>\n",
       "  <tbody>\n",
       "    <tr>\n",
       "      <th>96703</th>\n",
       "      <td>48962</td>\n",
       "      <td>Hong Anh Tun</td>\n",
       "      <td>M</td>\n",
       "      <td>23.0</td>\n",
       "      <td>152.0</td>\n",
       "      <td>56.0</td>\n",
       "      <td>Vietnam</td>\n",
       "      <td>VIE</td>\n",
       "      <td>2008 Summer</td>\n",
       "      <td>2008</td>\n",
       "      <td>Summer</td>\n",
       "      <td>Beijing</td>\n",
       "      <td>Weightlifting</td>\n",
       "      <td>Weightlifting Men's Bantamweight</td>\n",
       "      <td>Silver</td>\n",
       "      <td>Vietnam</td>\n",
       "      <td>True</td>\n",
       "      <td>False</td>\n",
       "    </tr>\n",
       "    <tr>\n",
       "      <th>96709</th>\n",
       "      <td>48966</td>\n",
       "      <td>Hong Xun Vinh</td>\n",
       "      <td>M</td>\n",
       "      <td>41.0</td>\n",
       "      <td>175.0</td>\n",
       "      <td>75.0</td>\n",
       "      <td>Vietnam</td>\n",
       "      <td>VIE</td>\n",
       "      <td>2016 Summer</td>\n",
       "      <td>2016</td>\n",
       "      <td>Summer</td>\n",
       "      <td>Rio de Janeiro</td>\n",
       "      <td>Shooting</td>\n",
       "      <td>Shooting Men's Air Pistol, 10 metres</td>\n",
       "      <td>Gold</td>\n",
       "      <td>Vietnam</td>\n",
       "      <td>True</td>\n",
       "      <td>False</td>\n",
       "    </tr>\n",
       "    <tr>\n",
       "      <th>96710</th>\n",
       "      <td>48966</td>\n",
       "      <td>Hong Xun Vinh</td>\n",
       "      <td>M</td>\n",
       "      <td>41.0</td>\n",
       "      <td>175.0</td>\n",
       "      <td>75.0</td>\n",
       "      <td>Vietnam</td>\n",
       "      <td>VIE</td>\n",
       "      <td>2016 Summer</td>\n",
       "      <td>2016</td>\n",
       "      <td>Summer</td>\n",
       "      <td>Rio de Janeiro</td>\n",
       "      <td>Shooting</td>\n",
       "      <td>Shooting Men's Free Pistol, 50 metres</td>\n",
       "      <td>Silver</td>\n",
       "      <td>Vietnam</td>\n",
       "      <td>True</td>\n",
       "      <td>False</td>\n",
       "    </tr>\n",
       "    <tr>\n",
       "      <th>242905</th>\n",
       "      <td>121646</td>\n",
       "      <td>Trn Hiu Ngn</td>\n",
       "      <td>F</td>\n",
       "      <td>26.0</td>\n",
       "      <td>157.0</td>\n",
       "      <td>47.0</td>\n",
       "      <td>Vietnam</td>\n",
       "      <td>VIE</td>\n",
       "      <td>2000 Summer</td>\n",
       "      <td>2000</td>\n",
       "      <td>Summer</td>\n",
       "      <td>Sydney</td>\n",
       "      <td>Taekwondo</td>\n",
       "      <td>Taekwondo Women's Featherweight</td>\n",
       "      <td>Silver</td>\n",
       "      <td>Vietnam</td>\n",
       "      <td>True</td>\n",
       "      <td>False</td>\n",
       "    </tr>\n",
       "  </tbody>\n",
       "</table>\n",
       "</div>"
      ],
      "text/plain": [
       "            ID           Name Sex   Age  Height  Weight     Team  NOC  \\\n",
       "96703    48962   Hong Anh Tun   M  23.0   152.0    56.0  Vietnam  VIE   \n",
       "96709    48966  Hong Xun Vinh   M  41.0   175.0    75.0  Vietnam  VIE   \n",
       "96710    48966  Hong Xun Vinh   M  41.0   175.0    75.0  Vietnam  VIE   \n",
       "242905  121646    Trn Hiu Ngn   F  26.0   157.0    47.0  Vietnam  VIE   \n",
       "\n",
       "              Games  Year  Season            City          Sport  \\\n",
       "96703   2008 Summer  2008  Summer         Beijing  Weightlifting   \n",
       "96709   2016 Summer  2016  Summer  Rio de Janeiro       Shooting   \n",
       "96710   2016 Summer  2016  Summer  Rio de Janeiro       Shooting   \n",
       "242905  2000 Summer  2000  Summer          Sydney      Taekwondo   \n",
       "\n",
       "                                        Event   Medal   region  isWon  \\\n",
       "96703        Weightlifting Men's Bantamweight  Silver  Vietnam   True   \n",
       "96709    Shooting Men's Air Pistol, 10 metres    Gold  Vietnam   True   \n",
       "96710   Shooting Men's Free Pistol, 50 metres  Silver  Vietnam   True   \n",
       "242905        Taekwondo Women's Featherweight  Silver  Vietnam   True   \n",
       "\n",
       "        isTeamSport  \n",
       "96703         False  \n",
       "96709         False  \n",
       "96710         False  \n",
       "242905        False  "
      ]
     },
     "execution_count": 37,
     "metadata": {},
     "output_type": "execute_result"
    }
   ],
=======
   "outputs": [],
>>>>>>> c317eca (update commit trước)
   "source": [
    "ethlete_df.query(\"region=='Vietnam' & isWon==1\")"
   ]
  },
  {
   "cell_type": "markdown",
   "metadata": {},
   "source": [
    "Gần 4 thập kỷ trôi qua từ lần đầu tiên góp mặt tại các kỳ Olympic, thể thao Việt Nam mới có 4 VĐV đoạt huy chương, trong đó xạ thủ bắn súng Hoàng Xuân Vinh là người duy nhất sở hữu HCV."
   ]
  },
  {
   "cell_type": "markdown",
   "metadata": {},
   "source": [
    "- Olympic Moscow (Nga) 1980: Đoàn TTVN tham dự với 38 VĐV, không giành huy chương.\n",
    "\n",
    "- Olympic Seoul (Hàn Quốc) 1988: Tham dự với 12 VĐV, không giành huy chương.\n",
    "\n",
    "- Olympic Barcelona (Tây Ban Nha) 1992: Tham dự với 10 VĐV, không giành huy chương.\n",
    "\n",
    "- Olympic Atlanta (Mỹ) 1996: Tham dự với 6 VĐV, không giành huy chương.\n",
    "\n",
    "- Olympic Sydney (Australia) 2000: Tham dự với 7 VĐV, lần đầu tiên có tên trên bảng tổng sắp huy chương, với tấm HCB của nữ võ sĩ taekwondo Trần Hiếu Ngân ở hạng cân 57kg.\n",
    "\n",
    "- Olympic Athens (Hy Lạp) 2004: Tham dự với 11 VĐV, không giành huy chương.\n",
    "\n",
    "- Olympic Bắc Kinh (Trung Quốc) 2008: Tham dự với 18 VĐV, giành 1 HCB nhờ công của lực sỹ cử tạ Hoàng Anh Tuấn (hạng 56 kg nam).\n",
    "\n",
    "- Olympic London (Anh) 2012: Tham dự với 24 VĐV, giành 1 HCĐ sau khi Trần Lê Quốc Toàn được đôn từ hạng tư nội dung 56kg lên vị trí thứ ba, thế chỗ VĐV của Azerbajan bị tước huy chương vì doping.\n",
    "\n",
    "- Olympic Rio (Brazil) 2016: Tham dự với 28 VĐV, trong đó xạ thủ bắn súng Hoàng Xuân Vinh xuất sắc giành 1 HCV nội dung 10m súng ngắn hơi và 1 HCB nội dung 50m súng ngắn."
   ]
  }
 ],
 "metadata": {
  "kernelspec": {
   "display_name": "Python 3.10.8 64-bit (microsoft store)",
   "language": "python",
   "name": "python3"
  },
  "language_info": {
   "codemirror_mode": {
    "name": "ipython",
    "version": 3
   },
   "file_extension": ".py",
   "mimetype": "text/x-python",
   "name": "python",
   "nbconvert_exporter": "python",
   "pygments_lexer": "ipython3",
   "version": "3.10.8"
  },
  "vscode": {
   "interpreter": {
    "hash": "b8bbeeb7d4b7b0bec07e47d92ef53d11e20a4aabc56a5bb369660a2386c50b21"
   }
  }
 },
 "nbformat": 4,
 "nbformat_minor": 2
}
